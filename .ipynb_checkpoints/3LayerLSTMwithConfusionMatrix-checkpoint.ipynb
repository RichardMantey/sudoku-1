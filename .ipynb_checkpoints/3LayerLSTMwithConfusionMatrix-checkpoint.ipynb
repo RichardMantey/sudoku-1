{
 "cells": [
  {
   "cell_type": "code",
   "execution_count": 1,
   "metadata": {
    "collapsed": true
   },
   "outputs": [],
   "source": [
    "import os\n",
    "import torch\n",
    "import copy\n",
    "import tensorflow as tf\n",
    "import numpy as np\n",
    "from torch.utils.data import DataLoader\n",
    "from torch.utils.data.dataset import Dataset\n",
    "# from Downloads import LSTMSudokuClassifier as LSTMC\n",
    "import torch.optim as optim\n",
    "import torch.nn as nn\n",
    "import torch.nn.functional as F\n",
    "from torch.autograd import Variable\n",
    "from random import randint\n",
    "\n",
    "from tqdm import tqdm_notebook\n",
    "tqdm_notebook.monitor_interval = 0"
   ]
  },
  {
   "cell_type": "code",
   "execution_count": 2,
   "metadata": {
    "collapsed": true
   },
   "outputs": [],
   "source": [
    "class LSTMClassifier(nn.Module):\n",
    "\n",
    "    def __init__(self, input_dim, hidden_dim, n_label, batch_size, n_layers, use_gpu):\n",
    "        super(LSTMClassifier, self).__init__()\n",
    "        self.input_dim = input_dim\n",
    "        self.hidden_dim = hidden_dim\n",
    "        self.batch_size = batch_size\n",
    "        self.use_gpu = use_gpu\n",
    "        self.n_layers = n_layers\n",
    "               \n",
    "        self.lstm1 = nn.LSTM(input_dim, hidden_dim, n_layers, bidirectional=True)\n",
    "        self.lstm2 = nn.LSTM(input_dim, hidden_dim, n_layers, bidirectional=True)\n",
    "        self.lstm3 = nn.LSTM(input_dim, hidden_dim, n_layers, bidirectional=True)\n",
    "        \n",
    "        self.hidden2label = nn.Sequential(torch.nn.Linear(2*hidden_dim, n_label),\n",
    "                                          torch.nn.Softmax(dim = -1))\n",
    "        self.r_hidden = self.init_hidden()\n",
    "        self.c_hidden = self.init_hidden()\n",
    "        self.s_hidden = self.init_hidden()\n",
    "\n",
    "    def init_hidden(self):\n",
    "        if self.use_gpu:\n",
    "            h0 = Variable(torch.zeros(2*n_layers, self.batch_size, self.hidden_dim).cuda())\n",
    "            c0 = Variable(torch.zeros(2*n_layers, self.batch_size, self.hidden_dim).cuda())\n",
    "        else:\n",
    "            h0 = Variable(torch.zeros(2*n_layers, self.batch_size, self.hidden_dim))\n",
    "            c0 = Variable(torch.zeros(2*n_layers, self.batch_size, self.hidden_dim))\n",
    "        return (h0, c0)\n",
    "    \n",
    "    def ManipulateSquare(self, lstm_out_square):\n",
    "        counter = 0\n",
    "        inner_stack = None\n",
    "        outer_stack = None\n",
    "        for i in range(3):\n",
    "            for j in range(3):\n",
    "                x = lstm_out_square[counter,:,:]\n",
    "                counter += 1\n",
    "                x = x.view(3,3,2*hidden_dim)#change to 2*hidden_dim\n",
    "                if inner_stack is None:\n",
    "                    inner_stack = x\n",
    "                else:\n",
    "                    inner_stack = torch.cat((inner_stack,x),1)        \n",
    "            if outer_stack is None:\n",
    "#                 print(inner_stack.shape)\n",
    "                outer_stack = inner_stack\n",
    "                inner_stack = None\n",
    "#                 print('B = ',outer_stack)\n",
    "            else:\n",
    "#                 print(inner_stack.shape)\n",
    "                outer_stack = torch.cat((outer_stack,inner_stack),0)\n",
    "#                 print('B = ',outer_stack)\n",
    "                inner_stack = None\n",
    "        return outer_stack\n",
    "\n",
    "    def forward(self, row_tensor, col_tensor, square_tensor):\n",
    "        \n",
    "        lstm_out_row, hidden_row = self.lstm1(row_tensor, self.r_hidden)\n",
    "        lstm_out_col, hidden_col = self.lstm2(col_tensor, self.c_hidden)\n",
    "        lstm_out_square, hidden_square = self.lstm3(square_tensor, self.s_hidden)\n",
    "        \n",
    "#         self.r_hidden = hidden_row\n",
    "#         self.c_hidden = hidden_col\n",
    "#         self.s_hidden = hidden_square\n",
    "        \n",
    "        # Do manipulation Here\n",
    "        #Row & Col Manipulation\n",
    "        row_col = lstm_out_row + lstm_out_col +lstm_out_square \n",
    "        #Square Manipulation\n",
    "        lstm_out = row_col \n",
    "        lstm_out_tensor = lstm_out\n",
    "#         if self.use_gpu:\n",
    "#             lstm_out_tensor = lstm_out.cuda()\n",
    "#         print(\"final tensor\", lstm_out_tensor.shape, lstm_out_tensor)\n",
    "        \n",
    "        #Sum Square Row Col\n",
    "        y  = self.hidden2label(lstm_out_tensor)\n",
    "#         print('Output Shape ', y.shape)\n",
    "        return y"
   ]
  },
  {
   "cell_type": "code",
   "execution_count": 3,
   "metadata": {
    "collapsed": true
   },
   "outputs": [],
   "source": [
    "class InputGrid():\n",
    "    \n",
    "    def __init__(self, Grid):\n",
    "        self.Grid = Grid\n",
    "        self.gridLength = len(Grid[0])\n",
    "#         self.labels = labels\n",
    "        \n",
    "    def getlims(self, i):\n",
    "        if 0 <= i <= 2:\n",
    "            rowlims = [0,3]\n",
    "        elif 3 <= i <= 5:\n",
    "            rowlims = [3,6]\n",
    "        elif 6 <= i <= 8:\n",
    "                rowlims = [6,9]\n",
    "        return rowlims\n",
    "\n",
    "    def get_square(self, i):\n",
    "        grid_square = None\n",
    "        if i < 3:\n",
    "            if i%3 == 0:\n",
    "                grid_square = self.Grid[0:3,0:3]\n",
    "            elif i%3 == 1:\n",
    "                grid_square = self.Grid[0:3,3:6]\n",
    "            elif i%3 == 2:\n",
    "                grid_square = self.Grid[0:3,6:9]\n",
    "        elif i < 6:\n",
    "            if i%3 == 0:\n",
    "                grid_square = self.Grid[3:6,0:3]\n",
    "            elif i%3 == 1:\n",
    "                grid_square = self.Grid[3:6,3:6]\n",
    "            elif i%3 == 2:\n",
    "                grid_square = self.Grid[3:6,6:9]\n",
    "        elif i < 9:\n",
    "            if i%3 == 0:\n",
    "                grid_square = self.Grid[6:9,0:3]\n",
    "            elif i%3 == 1:\n",
    "                grid_square = self.Grid[6:9,3:6]\n",
    "            elif i%3 == 2:\n",
    "                grid_square = self.Grid[6:9,6:9]\n",
    "        return grid_square.flatten()\n",
    "                \n",
    "    \n",
    "    # takes 1D returns 2D\n",
    "    def one_hot(self, vec):\n",
    "        one_hot_matrix = []\n",
    "        for val in vec:\n",
    "            hot_vec = [0 for _ in range(9)]\n",
    "            if val > 0:\n",
    "                hot_vec[int(val)-1] = 1\n",
    "            one_hot_matrix.append(hot_vec)\n",
    "        real_one_hot = np.array(one_hot_matrix)\n",
    "        return real_one_hot\n",
    "    \n",
    "    #takes 2D returns 3D\n",
    "    def getInput(self):\n",
    "#         print(self.Grid)\n",
    "        Rows = np.zeros((9,9,9))\n",
    "        Columns = np.zeros((9,9,9))\n",
    "        Squares = np.zeros((9,9,9))\n",
    "        Labels = np.zeros((9,9,9))\n",
    "        for i in range(self.gridLength):\n",
    "            hot_row = self.one_hot(self.Grid[i,:])\n",
    "            hot_column = self.one_hot(self.Grid[:,i])\n",
    "            hot_square = self.one_hot(self.get_square(i))\n",
    "#             hot_label = self.one_hot(self.labels[i,:])\n",
    "            \n",
    "            Rows[i] = hot_row\n",
    "            Columns[i] = hot_column\n",
    "            Squares[i] = hot_square\n",
    "#             Labels[i] = hot_label\n",
    "        \n",
    "        Rows = np.reshape (Rows , (1, 81, 9))\n",
    "        Columns = np.reshape (Columns, (1, 81, 9))\n",
    "        Squares = np.reshape (Squares, (1, 81, 9))\n",
    "        Rows = np.transpose (Rows, ((1, 0, 2)))\n",
    "        Columns = np.transpose (Columns, ((1, 0, 2)))\n",
    "        Squares = np.transpose (Squares, ((1, 0, 2)))\n",
    "\n",
    "        row_tensor = Variable(torch.FloatTensor(Rows))\n",
    "        col_tensor = Variable(torch.FloatTensor(Columns))\n",
    "        square_tensor = Variable(torch.FloatTensor(Squares))\n",
    "#         label_tensor = Variable(torch.LongTensor(Labels))\n",
    "#         print(row_tensor)\n",
    "#         print(col_tensor)\n",
    "#         print(square_tensor)\n",
    "#         print(label_tensor)\n",
    "                 \n",
    "        return row_tensor, col_tensor, square_tensor"
   ]
  },
  {
   "cell_type": "code",
   "execution_count": 9,
   "metadata": {
    "collapsed": true
   },
   "outputs": [],
   "source": [
    "# use_plot = True\n",
    "# use_save = True\n",
    "# if use_save:\n",
    "#     import pickle\n",
    "#     from datetime import datetime\n",
    "\n",
    "DATA_DIR = 'data'\n",
    "TRAIN_FILE = 'kaggle_sudoku.csv'\n",
    "TEST_FILE = 'test.csv'\n",
    "TRAIN_LABEL = 'train_label.txt'\n",
    "TEST_LABEL = 'test_label.txt'"
   ]
  },
  {
   "cell_type": "code",
   "execution_count": 10,
   "metadata": {
    "collapsed": true
   },
   "outputs": [],
   "source": [
    "class SudokuDataset(Dataset):\n",
    "    def __init__(self, fpath):\n",
    "        \n",
    "        print(fpath)\n",
    "        lines = open(fpath, 'r').read().splitlines()[1:]\n",
    "        nsamples = len(lines)\n",
    "\n",
    "        X = np.zeros((nsamples, 9*9), np.float32)  \n",
    "        Y = np.zeros((nsamples, 9*9), np.int32) \n",
    "\n",
    "        for i, line in enumerate(lines):\n",
    "            quiz, solution = line.split(\",\")\n",
    "            for j, (q, s) in enumerate(zip(quiz, solution)):\n",
    "                X[i, j], Y[i, j] = q, s\n",
    "            if i>=nsamples-1:\n",
    "                break\n",
    "\n",
    "        X = np.reshape(X, (-1, 9, 9))\n",
    "        Y = np.reshape(Y, (-1, 9, 9))\n",
    "        Y -= 1\n",
    "        self.X = X\n",
    "        self.Y = Y\n",
    "#         print(Y)\n",
    "#         print(Y.shape)\n",
    "\n",
    "    def __getitem__(self, index):\n",
    "        quiz = self.X[index]\n",
    "        sol = self.Y[index]\n",
    "        return quiz, sol\n",
    "    \n",
    "    def __len__(self):\n",
    "        return len(self.X)"
   ]
  },
  {
   "cell_type": "code",
   "execution_count": 7,
   "metadata": {},
   "outputs": [
    {
     "name": "stdout",
     "output_type": "stream",
     "text": [
      "data\\kaggle_sudoku.csv\n",
      "TRAINING\n"
     ]
    },
    {
     "data": {
      "application/vnd.jupyter.widget-view+json": {
       "model_id": "a73af7ddb04a4a498ec0c03fc23d7274",
       "version_major": 2,
       "version_minor": 0
      },
      "text/plain": [
       "A Jupyter Widget"
      ]
     },
     "metadata": {},
     "output_type": "display_data"
    },
    {
     "name": "stdout",
     "output_type": "stream",
     "text": [
      "\n"
     ]
    },
    {
     "name": "stderr",
     "output_type": "stream",
     "text": [
      "Exception in thread Thread-11:\n",
      "Traceback (most recent call last):\n",
      "  File \"C:\\Users\\Akrofi\\Anaconda3\\lib\\threading.py\", line 916, in _bootstrap_inner\n",
      "    self.run()\n",
      "  File \"C:\\Users\\Akrofi\\Anaconda3\\lib\\site-packages\\tqdm\\_monitor.py\", line 63, in run\n",
      "    for instance in self.tqdm_cls._instances:\n",
      "  File \"C:\\Users\\Akrofi\\Anaconda3\\lib\\_weakrefset.py\", line 60, in __iter__\n",
      "    for itemref in self.data:\n",
      "RuntimeError: Set changed size during iteration\n",
      "\n"
     ]
    },
    {
     "name": "stdout",
     "output_type": "stream",
     "text": [
      "\n",
      "[Epoch:   0/100] Training Loss: 1.874, Training Acc: 0.475\n"
     ]
    },
    {
     "data": {
      "application/vnd.jupyter.widget-view+json": {
       "model_id": "7629d8ea8d324854833b1700234ac36f",
       "version_major": 2,
       "version_minor": 0
      },
      "text/plain": [
       "A Jupyter Widget"
      ]
     },
     "metadata": {},
     "output_type": "display_data"
    },
    {
     "name": "stdout",
     "output_type": "stream",
     "text": [
      "\n",
      "[Epoch:   1/100] Training Loss: 1.856, Training Acc: 0.495\n"
     ]
    },
    {
     "data": {
      "application/vnd.jupyter.widget-view+json": {
       "model_id": "0bfda011f2b5463a9f417bdabd8432c3",
       "version_major": 2,
       "version_minor": 0
      },
      "text/plain": [
       "A Jupyter Widget"
      ]
     },
     "metadata": {},
     "output_type": "display_data"
    },
    {
     "name": "stdout",
     "output_type": "stream",
     "text": [
      "\n",
      "[Epoch:   2/100] Training Loss: 1.847, Training Acc: 0.506\n"
     ]
    },
    {
     "data": {
      "application/vnd.jupyter.widget-view+json": {
       "model_id": "45d373fee98747c29e4daaa23a344b08",
       "version_major": 2,
       "version_minor": 0
      },
      "text/plain": [
       "A Jupyter Widget"
      ]
     },
     "metadata": {},
     "output_type": "display_data"
    },
    {
     "name": "stdout",
     "output_type": "stream",
     "text": [
      "\n",
      "[Epoch:   3/100] Training Loss: 1.840, Training Acc: 0.515\n"
     ]
    },
    {
     "data": {
      "application/vnd.jupyter.widget-view+json": {
       "model_id": "7387dddab8d4462986848f3a6622ac72",
       "version_major": 2,
       "version_minor": 0
      },
      "text/plain": [
       "A Jupyter Widget"
      ]
     },
     "metadata": {},
     "output_type": "display_data"
    },
    {
     "name": "stdout",
     "output_type": "stream",
     "text": [
      "\n",
      "[Epoch:   4/100] Training Loss: 1.833, Training Acc: 0.522\n"
     ]
    },
    {
     "data": {
      "application/vnd.jupyter.widget-view+json": {
       "model_id": "5666ef6f90ad4d39be549ccbbf1bd409",
       "version_major": 2,
       "version_minor": 0
      },
      "text/plain": [
       "A Jupyter Widget"
      ]
     },
     "metadata": {},
     "output_type": "display_data"
    },
    {
     "name": "stdout",
     "output_type": "stream",
     "text": [
      "\n",
      "[Epoch:   5/100] Training Loss: 1.826, Training Acc: 0.531\n"
     ]
    },
    {
     "data": {
      "application/vnd.jupyter.widget-view+json": {
       "model_id": "3dbdcab6c31b4deebef662c900e21f1d",
       "version_major": 2,
       "version_minor": 0
      },
      "text/plain": [
       "A Jupyter Widget"
      ]
     },
     "metadata": {},
     "output_type": "display_data"
    },
    {
     "name": "stdout",
     "output_type": "stream",
     "text": [
      "\n",
      "[Epoch:   6/100] Training Loss: 1.819, Training Acc: 0.540\n"
     ]
    },
    {
     "data": {
      "application/vnd.jupyter.widget-view+json": {
       "model_id": "62615e4fb6164b45a6005cb1e87a3a23",
       "version_major": 2,
       "version_minor": 0
      },
      "text/plain": [
       "A Jupyter Widget"
      ]
     },
     "metadata": {},
     "output_type": "display_data"
    },
    {
     "name": "stdout",
     "output_type": "stream",
     "text": [
      "\n",
      "[Epoch:   7/100] Training Loss: 1.810, Training Acc: 0.550\n"
     ]
    },
    {
     "data": {
      "application/vnd.jupyter.widget-view+json": {
       "model_id": "ba4aa7fe1d3441aeb93bcea9bb82f82f",
       "version_major": 2,
       "version_minor": 0
      },
      "text/plain": [
       "A Jupyter Widget"
      ]
     },
     "metadata": {},
     "output_type": "display_data"
    },
    {
     "name": "stdout",
     "output_type": "stream",
     "text": [
      "\n",
      "[Epoch:   8/100] Training Loss: 1.801, Training Acc: 0.561\n"
     ]
    },
    {
     "data": {
      "application/vnd.jupyter.widget-view+json": {
       "model_id": "161e3beae34c48d891601d9f88298c49",
       "version_major": 2,
       "version_minor": 0
      },
      "text/plain": [
       "A Jupyter Widget"
      ]
     },
     "metadata": {},
     "output_type": "display_data"
    },
    {
     "name": "stdout",
     "output_type": "stream",
     "text": [
      "\n",
      "[Epoch:   9/100] Training Loss: 1.791, Training Acc: 0.573\n"
     ]
    },
    {
     "data": {
      "application/vnd.jupyter.widget-view+json": {
       "model_id": "6acc8cc61ef34bcc99a97519952d8ce2",
       "version_major": 2,
       "version_minor": 0
      },
      "text/plain": [
       "A Jupyter Widget"
      ]
     },
     "metadata": {},
     "output_type": "display_data"
    },
    {
     "name": "stdout",
     "output_type": "stream",
     "text": [
      "\n",
      "[Epoch:  10/100] Training Loss: 1.780, Training Acc: 0.584\n"
     ]
    },
    {
     "data": {
      "application/vnd.jupyter.widget-view+json": {
       "model_id": "3d7a001e97c54cd1bfd66c885efc4d5b",
       "version_major": 2,
       "version_minor": 0
      },
      "text/plain": [
       "A Jupyter Widget"
      ]
     },
     "metadata": {},
     "output_type": "display_data"
    },
    {
     "name": "stdout",
     "output_type": "stream",
     "text": [
      "\n",
      "[Epoch:  11/100] Training Loss: 1.770, Training Acc: 0.595\n"
     ]
    },
    {
     "data": {
      "application/vnd.jupyter.widget-view+json": {
       "model_id": "f6f4b82322e44f259907de2fde72c87b",
       "version_major": 2,
       "version_minor": 0
      },
      "text/plain": [
       "A Jupyter Widget"
      ]
     },
     "metadata": {},
     "output_type": "display_data"
    },
    {
     "name": "stdout",
     "output_type": "stream",
     "text": [
      "\n",
      "[Epoch:  12/100] Training Loss: 1.760, Training Acc: 0.606\n"
     ]
    },
    {
     "data": {
      "application/vnd.jupyter.widget-view+json": {
       "model_id": "6b80dfccda2c4b0590e216d44cb5ef58",
       "version_major": 2,
       "version_minor": 0
      },
      "text/plain": [
       "A Jupyter Widget"
      ]
     },
     "metadata": {},
     "output_type": "display_data"
    },
    {
     "name": "stdout",
     "output_type": "stream",
     "text": [
      "\n",
      "[Epoch:  13/100] Training Loss: 1.751, Training Acc: 0.616\n"
     ]
    },
    {
     "data": {
      "application/vnd.jupyter.widget-view+json": {
       "model_id": "d7d5f7658a3f47809b7c4512f5e02b86",
       "version_major": 2,
       "version_minor": 0
      },
      "text/plain": [
       "A Jupyter Widget"
      ]
     },
     "metadata": {},
     "output_type": "display_data"
    },
    {
     "name": "stdout",
     "output_type": "stream",
     "text": [
      "\n",
      "[Epoch:  14/100] Training Loss: 1.742, Training Acc: 0.626\n"
     ]
    },
    {
     "data": {
      "application/vnd.jupyter.widget-view+json": {
       "model_id": "c558f9a1c5904ffc9ff4264516753994",
       "version_major": 2,
       "version_minor": 0
      },
      "text/plain": [
       "A Jupyter Widget"
      ]
     },
     "metadata": {},
     "output_type": "display_data"
    },
    {
     "name": "stdout",
     "output_type": "stream",
     "text": [
      "\n",
      "[Epoch:  15/100] Training Loss: 1.733, Training Acc: 0.634\n"
     ]
    },
    {
     "data": {
      "application/vnd.jupyter.widget-view+json": {
       "model_id": "fc0d1dc5d37642f689767980210d814d",
       "version_major": 2,
       "version_minor": 0
      },
      "text/plain": [
       "A Jupyter Widget"
      ]
     },
     "metadata": {},
     "output_type": "display_data"
    },
    {
     "name": "stdout",
     "output_type": "stream",
     "text": [
      "\n",
      "[Epoch:  16/100] Training Loss: 1.726, Training Acc: 0.642\n"
     ]
    },
    {
     "data": {
      "application/vnd.jupyter.widget-view+json": {
       "model_id": "5980ef7d19a94a3495fc88c3ba614acc",
       "version_major": 2,
       "version_minor": 0
      },
      "text/plain": [
       "A Jupyter Widget"
      ]
     },
     "metadata": {},
     "output_type": "display_data"
    },
    {
     "name": "stdout",
     "output_type": "stream",
     "text": [
      "\n",
      "[Epoch:  17/100] Training Loss: 1.718, Training Acc: 0.650\n"
     ]
    },
    {
     "data": {
      "application/vnd.jupyter.widget-view+json": {
       "model_id": "d7cec58f1a8043a79f4726239bfd9fa3",
       "version_major": 2,
       "version_minor": 0
      },
      "text/plain": [
       "A Jupyter Widget"
      ]
     },
     "metadata": {},
     "output_type": "display_data"
    },
    {
     "name": "stdout",
     "output_type": "stream",
     "text": [
      "\n",
      "[Epoch:  18/100] Training Loss: 1.712, Training Acc: 0.657\n"
     ]
    },
    {
     "data": {
      "application/vnd.jupyter.widget-view+json": {
       "model_id": "ea600d5726a341a1a1862bbf956e51bc",
       "version_major": 2,
       "version_minor": 0
      },
      "text/plain": [
       "A Jupyter Widget"
      ]
     },
     "metadata": {},
     "output_type": "display_data"
    },
    {
     "name": "stdout",
     "output_type": "stream",
     "text": [
      "\n",
      "[Epoch:  19/100] Training Loss: 1.705, Training Acc: 0.663\n"
     ]
    },
    {
     "data": {
      "application/vnd.jupyter.widget-view+json": {
       "model_id": "190dcdc326b241b6ac8d5c1c2b2350ec",
       "version_major": 2,
       "version_minor": 0
      },
      "text/plain": [
       "A Jupyter Widget"
      ]
     },
     "metadata": {},
     "output_type": "display_data"
    },
    {
     "name": "stdout",
     "output_type": "stream",
     "text": [
      "\n",
      "[Epoch:  20/100] Training Loss: 1.700, Training Acc: 0.669\n"
     ]
    },
    {
     "data": {
      "application/vnd.jupyter.widget-view+json": {
       "model_id": "1a9536233b5444b3937a30b0642187c2",
       "version_major": 2,
       "version_minor": 0
      },
      "text/plain": [
       "A Jupyter Widget"
      ]
     },
     "metadata": {},
     "output_type": "display_data"
    },
    {
     "name": "stdout",
     "output_type": "stream",
     "text": [
      "\n",
      "[Epoch:  21/100] Training Loss: 1.694, Training Acc: 0.675\n"
     ]
    },
    {
     "data": {
      "application/vnd.jupyter.widget-view+json": {
       "model_id": "3345bae0812541c799c22c0c3e96363a",
       "version_major": 2,
       "version_minor": 0
      },
      "text/plain": [
       "A Jupyter Widget"
      ]
     },
     "metadata": {},
     "output_type": "display_data"
    },
    {
     "name": "stdout",
     "output_type": "stream",
     "text": [
      "\n",
      "[Epoch:  22/100] Training Loss: 1.689, Training Acc: 0.681\n"
     ]
    },
    {
     "data": {
      "application/vnd.jupyter.widget-view+json": {
       "model_id": "6ffe38734a7848aca55409dc06423e91",
       "version_major": 2,
       "version_minor": 0
      },
      "text/plain": [
       "A Jupyter Widget"
      ]
     },
     "metadata": {},
     "output_type": "display_data"
    },
    {
     "name": "stdout",
     "output_type": "stream",
     "text": [
      "\n",
      "[Epoch:  23/100] Training Loss: 1.684, Training Acc: 0.686\n"
     ]
    },
    {
     "data": {
      "application/vnd.jupyter.widget-view+json": {
       "model_id": "4fb3911d78bf472b9dc3c3549e657910",
       "version_major": 2,
       "version_minor": 0
      },
      "text/plain": [
       "A Jupyter Widget"
      ]
     },
     "metadata": {},
     "output_type": "display_data"
    },
    {
     "name": "stdout",
     "output_type": "stream",
     "text": [
      "\n",
      "[Epoch:  24/100] Training Loss: 1.679, Training Acc: 0.690\n"
     ]
    },
    {
     "data": {
      "application/vnd.jupyter.widget-view+json": {
       "model_id": "5222ffe592e949118971bee859e314e7",
       "version_major": 2,
       "version_minor": 0
      },
      "text/plain": [
       "A Jupyter Widget"
      ]
     },
     "metadata": {},
     "output_type": "display_data"
    },
    {
     "name": "stdout",
     "output_type": "stream",
     "text": [
      "\n",
      "[Epoch:  25/100] Training Loss: 1.675, Training Acc: 0.695\n"
     ]
    },
    {
     "data": {
      "application/vnd.jupyter.widget-view+json": {
       "model_id": "c5d23be35a854879a976a2354d48e9b4",
       "version_major": 2,
       "version_minor": 0
      },
      "text/plain": [
       "A Jupyter Widget"
      ]
     },
     "metadata": {},
     "output_type": "display_data"
    },
    {
     "name": "stdout",
     "output_type": "stream",
     "text": [
      "\n",
      "[Epoch:  26/100] Training Loss: 1.671, Training Acc: 0.699\n"
     ]
    },
    {
     "data": {
      "application/vnd.jupyter.widget-view+json": {
       "model_id": "1325a64f007e4408a7c9712612f3f400",
       "version_major": 2,
       "version_minor": 0
      },
      "text/plain": [
       "A Jupyter Widget"
      ]
     },
     "metadata": {},
     "output_type": "display_data"
    },
    {
     "name": "stdout",
     "output_type": "stream",
     "text": [
      "\n",
      "[Epoch:  27/100] Training Loss: 1.667, Training Acc: 0.703\n"
     ]
    },
    {
     "data": {
      "application/vnd.jupyter.widget-view+json": {
       "model_id": "eed5a07a6cd443eb8f4f9ec914252d8c",
       "version_major": 2,
       "version_minor": 0
      },
      "text/plain": [
       "A Jupyter Widget"
      ]
     },
     "metadata": {},
     "output_type": "display_data"
    },
    {
     "name": "stdout",
     "output_type": "stream",
     "text": [
      "\n",
      "[Epoch:  28/100] Training Loss: 1.663, Training Acc: 0.707\n"
     ]
    },
    {
     "data": {
      "application/vnd.jupyter.widget-view+json": {
       "model_id": "aca7f4ee26e0466cac13cdd5606699a9",
       "version_major": 2,
       "version_minor": 0
      },
      "text/plain": [
       "A Jupyter Widget"
      ]
     },
     "metadata": {},
     "output_type": "display_data"
    },
    {
     "name": "stdout",
     "output_type": "stream",
     "text": [
      "\n",
      "[Epoch:  29/100] Training Loss: 1.659, Training Acc: 0.711\n"
     ]
    },
    {
     "data": {
      "application/vnd.jupyter.widget-view+json": {
       "model_id": "7be49e0f29e84ab9bb2f6be0910beecd",
       "version_major": 2,
       "version_minor": 0
      },
      "text/plain": [
       "A Jupyter Widget"
      ]
     },
     "metadata": {},
     "output_type": "display_data"
    },
    {
     "name": "stdout",
     "output_type": "stream",
     "text": [
      "\n",
      "[Epoch:  30/100] Training Loss: 1.656, Training Acc: 0.714\n"
     ]
    },
    {
     "data": {
      "application/vnd.jupyter.widget-view+json": {
       "model_id": "f805152724ed4ec391d029c816178714",
       "version_major": 2,
       "version_minor": 0
      },
      "text/plain": [
       "A Jupyter Widget"
      ]
     },
     "metadata": {},
     "output_type": "display_data"
    },
    {
     "name": "stdout",
     "output_type": "stream",
     "text": [
      "\n",
      "[Epoch:  31/100] Training Loss: 1.653, Training Acc: 0.718\n"
     ]
    },
    {
     "data": {
      "application/vnd.jupyter.widget-view+json": {
       "model_id": "1dafdebd55854deebc1654cc95879ac0",
       "version_major": 2,
       "version_minor": 0
      },
      "text/plain": [
       "A Jupyter Widget"
      ]
     },
     "metadata": {},
     "output_type": "display_data"
    },
    {
     "name": "stdout",
     "output_type": "stream",
     "text": [
      "\n",
      "[Epoch:  32/100] Training Loss: 1.650, Training Acc: 0.721\n"
     ]
    },
    {
     "data": {
      "application/vnd.jupyter.widget-view+json": {
       "model_id": "ce436941145c4fd68fe5e9a123fdf3b1",
       "version_major": 2,
       "version_minor": 0
      },
      "text/plain": [
       "A Jupyter Widget"
      ]
     },
     "metadata": {},
     "output_type": "display_data"
    },
    {
     "name": "stdout",
     "output_type": "stream",
     "text": [
      "\n",
      "[Epoch:  33/100] Training Loss: 1.646, Training Acc: 0.724\n"
     ]
    },
    {
     "data": {
      "application/vnd.jupyter.widget-view+json": {
       "model_id": "fd7d51bb54de4bbfa32e151877c8b277",
       "version_major": 2,
       "version_minor": 0
      },
      "text/plain": [
       "A Jupyter Widget"
      ]
     },
     "metadata": {},
     "output_type": "display_data"
    },
    {
     "name": "stdout",
     "output_type": "stream",
     "text": [
      "\n",
      "[Epoch:  34/100] Training Loss: 1.644, Training Acc: 0.727\n"
     ]
    },
    {
     "data": {
      "application/vnd.jupyter.widget-view+json": {
       "model_id": "d7350614728d407d9b963a721d538f8f",
       "version_major": 2,
       "version_minor": 0
      },
      "text/plain": [
       "A Jupyter Widget"
      ]
     },
     "metadata": {},
     "output_type": "display_data"
    },
    {
     "name": "stdout",
     "output_type": "stream",
     "text": [
      "\n",
      "[Epoch:  35/100] Training Loss: 1.641, Training Acc: 0.730\n"
     ]
    },
    {
     "data": {
      "application/vnd.jupyter.widget-view+json": {
       "model_id": "ad4b9f9e7e4f465ab76d45501f0b2110",
       "version_major": 2,
       "version_minor": 0
      },
      "text/plain": [
       "A Jupyter Widget"
      ]
     },
     "metadata": {},
     "output_type": "display_data"
    },
    {
     "name": "stdout",
     "output_type": "stream",
     "text": [
      "\n",
      "[Epoch:  36/100] Training Loss: 1.638, Training Acc: 0.732\n"
     ]
    },
    {
     "data": {
      "application/vnd.jupyter.widget-view+json": {
       "model_id": "e9bebd2ea5c641bb9eee7924939a2830",
       "version_major": 2,
       "version_minor": 0
      },
      "text/plain": [
       "A Jupyter Widget"
      ]
     },
     "metadata": {},
     "output_type": "display_data"
    },
    {
     "name": "stdout",
     "output_type": "stream",
     "text": [
      "\n",
      "[Epoch:  37/100] Training Loss: 1.636, Training Acc: 0.735\n"
     ]
    },
    {
     "data": {
      "application/vnd.jupyter.widget-view+json": {
       "model_id": "5dd1510ce4b243008d37a51203251712",
       "version_major": 2,
       "version_minor": 0
      },
      "text/plain": [
       "A Jupyter Widget"
      ]
     },
     "metadata": {},
     "output_type": "display_data"
    },
    {
     "name": "stdout",
     "output_type": "stream",
     "text": [
      "\n",
      "[Epoch:  38/100] Training Loss: 1.633, Training Acc: 0.738\n"
     ]
    },
    {
     "data": {
      "application/vnd.jupyter.widget-view+json": {
       "model_id": "140486c31ade4e1cadd155b2e5be8c54",
       "version_major": 2,
       "version_minor": 0
      },
      "text/plain": [
       "A Jupyter Widget"
      ]
     },
     "metadata": {},
     "output_type": "display_data"
    },
    {
     "name": "stdout",
     "output_type": "stream",
     "text": [
      "\n",
      "[Epoch:  39/100] Training Loss: 1.631, Training Acc: 0.740\n"
     ]
    },
    {
     "data": {
      "application/vnd.jupyter.widget-view+json": {
       "model_id": "434879fb40af4fe68951dd61f82a425b",
       "version_major": 2,
       "version_minor": 0
      },
      "text/plain": [
       "A Jupyter Widget"
      ]
     },
     "metadata": {},
     "output_type": "display_data"
    },
    {
     "name": "stdout",
     "output_type": "stream",
     "text": [
      "\n",
      "[Epoch:  40/100] Training Loss: 1.628, Training Acc: 0.742\n"
     ]
    },
    {
     "data": {
      "application/vnd.jupyter.widget-view+json": {
       "model_id": "4957469eb93b464d82e9069f36087722",
       "version_major": 2,
       "version_minor": 0
      },
      "text/plain": [
       "A Jupyter Widget"
      ]
     },
     "metadata": {},
     "output_type": "display_data"
    },
    {
     "name": "stdout",
     "output_type": "stream",
     "text": [
      "\n",
      "[Epoch:  41/100] Training Loss: 1.626, Training Acc: 0.745\n"
     ]
    },
    {
     "data": {
      "application/vnd.jupyter.widget-view+json": {
       "model_id": "8d86c5d45827447f8fd039fa449b31e3",
       "version_major": 2,
       "version_minor": 0
      },
      "text/plain": [
       "A Jupyter Widget"
      ]
     },
     "metadata": {},
     "output_type": "display_data"
    },
    {
     "name": "stdout",
     "output_type": "stream",
     "text": [
      "\n",
      "[Epoch:  42/100] Training Loss: 1.624, Training Acc: 0.747\n"
     ]
    },
    {
     "data": {
      "application/vnd.jupyter.widget-view+json": {
       "model_id": "6fe6a667b596417887564b613ca193dc",
       "version_major": 2,
       "version_minor": 0
      },
      "text/plain": [
       "A Jupyter Widget"
      ]
     },
     "metadata": {},
     "output_type": "display_data"
    },
    {
     "name": "stdout",
     "output_type": "stream",
     "text": [
      "\n",
      "[Epoch:  43/100] Training Loss: 1.622, Training Acc: 0.749\n"
     ]
    },
    {
     "data": {
      "application/vnd.jupyter.widget-view+json": {
       "model_id": "aea747ffcca5454cb661c82f539a0b2f",
       "version_major": 2,
       "version_minor": 0
      },
      "text/plain": [
       "A Jupyter Widget"
      ]
     },
     "metadata": {},
     "output_type": "display_data"
    },
    {
     "name": "stdout",
     "output_type": "stream",
     "text": [
      "\n",
      "[Epoch:  44/100] Training Loss: 1.620, Training Acc: 0.751\n"
     ]
    },
    {
     "data": {
      "application/vnd.jupyter.widget-view+json": {
       "model_id": "a90d8218b7df4f0cb567230a2e4c0879",
       "version_major": 2,
       "version_minor": 0
      },
      "text/plain": [
       "A Jupyter Widget"
      ]
     },
     "metadata": {},
     "output_type": "display_data"
    },
    {
     "name": "stdout",
     "output_type": "stream",
     "text": [
      "\n",
      "[Epoch:  45/100] Training Loss: 1.618, Training Acc: 0.753\n"
     ]
    },
    {
     "data": {
      "application/vnd.jupyter.widget-view+json": {
       "model_id": "74e0de56e5ff4a5c86474e5654f87fb7",
       "version_major": 2,
       "version_minor": 0
      },
      "text/plain": [
       "A Jupyter Widget"
      ]
     },
     "metadata": {},
     "output_type": "display_data"
    },
    {
     "name": "stdout",
     "output_type": "stream",
     "text": [
      "\n",
      "[Epoch:  46/100] Training Loss: 1.616, Training Acc: 0.755\n"
     ]
    },
    {
     "data": {
      "application/vnd.jupyter.widget-view+json": {
       "model_id": "a0ece4b6be7e494695820e47e988639c",
       "version_major": 2,
       "version_minor": 0
      },
      "text/plain": [
       "A Jupyter Widget"
      ]
     },
     "metadata": {},
     "output_type": "display_data"
    },
    {
     "name": "stdout",
     "output_type": "stream",
     "text": [
      "\n",
      "[Epoch:  47/100] Training Loss: 1.614, Training Acc: 0.757\n"
     ]
    },
    {
     "data": {
      "application/vnd.jupyter.widget-view+json": {
       "model_id": "74cff5ac83f248d9994fa9a56103a0d3",
       "version_major": 2,
       "version_minor": 0
      },
      "text/plain": [
       "A Jupyter Widget"
      ]
     },
     "metadata": {},
     "output_type": "display_data"
    },
    {
     "name": "stdout",
     "output_type": "stream",
     "text": [
      "\n",
      "[Epoch:  48/100] Training Loss: 1.612, Training Acc: 0.759\n"
     ]
    },
    {
     "data": {
      "application/vnd.jupyter.widget-view+json": {
       "model_id": "0e3005c8dbee477eb8e8f5f5e2d78ec2",
       "version_major": 2,
       "version_minor": 0
      },
      "text/plain": [
       "A Jupyter Widget"
      ]
     },
     "metadata": {},
     "output_type": "display_data"
    },
    {
     "name": "stdout",
     "output_type": "stream",
     "text": [
      "\n",
      "[Epoch:  49/100] Training Loss: 1.610, Training Acc: 0.761\n"
     ]
    },
    {
     "data": {
      "application/vnd.jupyter.widget-view+json": {
       "model_id": "08ac6d801d7e4912996104bfdde58d19",
       "version_major": 2,
       "version_minor": 0
      },
      "text/plain": [
       "A Jupyter Widget"
      ]
     },
     "metadata": {},
     "output_type": "display_data"
    },
    {
     "name": "stdout",
     "output_type": "stream",
     "text": [
      "\n",
      "[Epoch:  50/100] Training Loss: 1.609, Training Acc: 0.762\n"
     ]
    },
    {
     "data": {
      "application/vnd.jupyter.widget-view+json": {
       "model_id": "c62564b82bf14202bcc8ecedd05ea37c",
       "version_major": 2,
       "version_minor": 0
      },
      "text/plain": [
       "A Jupyter Widget"
      ]
     },
     "metadata": {},
     "output_type": "display_data"
    },
    {
     "name": "stdout",
     "output_type": "stream",
     "text": [
      "\n",
      "[Epoch:  51/100] Training Loss: 1.607, Training Acc: 0.764\n"
     ]
    },
    {
     "data": {
      "application/vnd.jupyter.widget-view+json": {
       "model_id": "704ecd3e85e04a5bb34540f91d5c3bc9",
       "version_major": 2,
       "version_minor": 0
      },
      "text/plain": [
       "A Jupyter Widget"
      ]
     },
     "metadata": {},
     "output_type": "display_data"
    },
    {
     "name": "stdout",
     "output_type": "stream",
     "text": [
      "\n",
      "[Epoch:  52/100] Training Loss: 1.605, Training Acc: 0.766\n"
     ]
    },
    {
     "data": {
      "application/vnd.jupyter.widget-view+json": {
       "model_id": "5e135af0c8af4c6baf0583f6b97083f7",
       "version_major": 2,
       "version_minor": 0
      },
      "text/plain": [
       "A Jupyter Widget"
      ]
     },
     "metadata": {},
     "output_type": "display_data"
    },
    {
     "name": "stdout",
     "output_type": "stream",
     "text": [
      "\n",
      "[Epoch:  53/100] Training Loss: 1.604, Training Acc: 0.767\n"
     ]
    },
    {
     "data": {
      "application/vnd.jupyter.widget-view+json": {
       "model_id": "7621efc14c924c86b674c27436691c58",
       "version_major": 2,
       "version_minor": 0
      },
      "text/plain": [
       "A Jupyter Widget"
      ]
     },
     "metadata": {},
     "output_type": "display_data"
    },
    {
     "name": "stdout",
     "output_type": "stream",
     "text": [
      "\n",
      "[Epoch:  54/100] Training Loss: 1.602, Training Acc: 0.769\n"
     ]
    },
    {
     "data": {
      "application/vnd.jupyter.widget-view+json": {
       "model_id": "0157ec40e2674352abd97879872986df",
       "version_major": 2,
       "version_minor": 0
      },
      "text/plain": [
       "A Jupyter Widget"
      ]
     },
     "metadata": {},
     "output_type": "display_data"
    },
    {
     "name": "stdout",
     "output_type": "stream",
     "text": [
      "\n",
      "[Epoch:  55/100] Training Loss: 1.601, Training Acc: 0.770\n"
     ]
    },
    {
     "data": {
      "application/vnd.jupyter.widget-view+json": {
       "model_id": "4e380299ffc142d89b2462606dbeb65e",
       "version_major": 2,
       "version_minor": 0
      },
      "text/plain": [
       "A Jupyter Widget"
      ]
     },
     "metadata": {},
     "output_type": "display_data"
    },
    {
     "name": "stdout",
     "output_type": "stream",
     "text": [
      "\n",
      "[Epoch:  56/100] Training Loss: 1.599, Training Acc: 0.772\n"
     ]
    },
    {
     "data": {
      "application/vnd.jupyter.widget-view+json": {
       "model_id": "a055f1c152054886bd0546f25fad3857",
       "version_major": 2,
       "version_minor": 0
      },
      "text/plain": [
       "A Jupyter Widget"
      ]
     },
     "metadata": {},
     "output_type": "display_data"
    },
    {
     "name": "stdout",
     "output_type": "stream",
     "text": [
      "\n",
      "[Epoch:  57/100] Training Loss: 1.598, Training Acc: 0.773\n"
     ]
    },
    {
     "data": {
      "application/vnd.jupyter.widget-view+json": {
       "model_id": "74c818eeb74245ad9a0261fee72ee1bf",
       "version_major": 2,
       "version_minor": 0
      },
      "text/plain": [
       "A Jupyter Widget"
      ]
     },
     "metadata": {},
     "output_type": "display_data"
    },
    {
     "name": "stdout",
     "output_type": "stream",
     "text": [
      "\n",
      "[Epoch:  58/100] Training Loss: 1.597, Training Acc: 0.775\n"
     ]
    },
    {
     "data": {
      "application/vnd.jupyter.widget-view+json": {
       "model_id": "25e81eb195ed461f8eacc9b2aead8f4f",
       "version_major": 2,
       "version_minor": 0
      },
      "text/plain": [
       "A Jupyter Widget"
      ]
     },
     "metadata": {},
     "output_type": "display_data"
    },
    {
     "name": "stdout",
     "output_type": "stream",
     "text": [
      "\n",
      "[Epoch:  59/100] Training Loss: 1.595, Training Acc: 0.776\n"
     ]
    },
    {
     "data": {
      "application/vnd.jupyter.widget-view+json": {
       "model_id": "094cf5a47ff64d27a80f35fe228d7c57",
       "version_major": 2,
       "version_minor": 0
      },
      "text/plain": [
       "A Jupyter Widget"
      ]
     },
     "metadata": {},
     "output_type": "display_data"
    },
    {
     "name": "stdout",
     "output_type": "stream",
     "text": [
      "\n",
      "[Epoch:  60/100] Training Loss: 1.594, Training Acc: 0.777\n"
     ]
    },
    {
     "data": {
      "application/vnd.jupyter.widget-view+json": {
       "model_id": "b3f86761989a48d7bc6e90158f58ccc6",
       "version_major": 2,
       "version_minor": 0
      },
      "text/plain": [
       "A Jupyter Widget"
      ]
     },
     "metadata": {},
     "output_type": "display_data"
    },
    {
     "name": "stdout",
     "output_type": "stream",
     "text": [
      "\n",
      "[Epoch:  61/100] Training Loss: 1.593, Training Acc: 0.779\n"
     ]
    },
    {
     "data": {
      "application/vnd.jupyter.widget-view+json": {
       "model_id": "1251eac9814f4ac292b3ef287846a7de",
       "version_major": 2,
       "version_minor": 0
      },
      "text/plain": [
       "A Jupyter Widget"
      ]
     },
     "metadata": {},
     "output_type": "display_data"
    },
    {
     "name": "stdout",
     "output_type": "stream",
     "text": [
      "\n",
      "[Epoch:  62/100] Training Loss: 1.591, Training Acc: 0.780\n"
     ]
    },
    {
     "data": {
      "application/vnd.jupyter.widget-view+json": {
       "model_id": "b849299809c946bf94839b4aa1cd502d",
       "version_major": 2,
       "version_minor": 0
      },
      "text/plain": [
       "A Jupyter Widget"
      ]
     },
     "metadata": {},
     "output_type": "display_data"
    },
    {
     "name": "stdout",
     "output_type": "stream",
     "text": [
      "\n",
      "[Epoch:  63/100] Training Loss: 1.590, Training Acc: 0.781\n"
     ]
    },
    {
     "data": {
      "application/vnd.jupyter.widget-view+json": {
       "model_id": "849f7d67508c4b27bac814e9841ba542",
       "version_major": 2,
       "version_minor": 0
      },
      "text/plain": [
       "A Jupyter Widget"
      ]
     },
     "metadata": {},
     "output_type": "display_data"
    },
    {
     "name": "stdout",
     "output_type": "stream",
     "text": [
      "\n",
      "[Epoch:  64/100] Training Loss: 1.589, Training Acc: 0.783\n"
     ]
    },
    {
     "data": {
      "application/vnd.jupyter.widget-view+json": {
       "model_id": "a9bd6d93422e40d0b5fdac1b21c5ed5a",
       "version_major": 2,
       "version_minor": 0
      },
      "text/plain": [
       "A Jupyter Widget"
      ]
     },
     "metadata": {},
     "output_type": "display_data"
    },
    {
     "name": "stdout",
     "output_type": "stream",
     "text": [
      "\n",
      "[Epoch:  65/100] Training Loss: 1.588, Training Acc: 0.784\n"
     ]
    },
    {
     "data": {
      "application/vnd.jupyter.widget-view+json": {
       "model_id": "15015133f92248b8954c1ed950017b7e",
       "version_major": 2,
       "version_minor": 0
      },
      "text/plain": [
       "A Jupyter Widget"
      ]
     },
     "metadata": {},
     "output_type": "display_data"
    },
    {
     "name": "stdout",
     "output_type": "stream",
     "text": [
      "\n",
      "[Epoch:  66/100] Training Loss: 1.586, Training Acc: 0.785\n"
     ]
    },
    {
     "data": {
      "application/vnd.jupyter.widget-view+json": {
       "model_id": "3880b46002d740ec847be524fbb1c30d",
       "version_major": 2,
       "version_minor": 0
      },
      "text/plain": [
       "A Jupyter Widget"
      ]
     },
     "metadata": {},
     "output_type": "display_data"
    },
    {
     "name": "stdout",
     "output_type": "stream",
     "text": [
      "\n",
      "[Epoch:  67/100] Training Loss: 1.585, Training Acc: 0.786\n"
     ]
    },
    {
     "data": {
      "application/vnd.jupyter.widget-view+json": {
       "model_id": "1db15ffc42fb4e41988c76b4f5a3a4ee",
       "version_major": 2,
       "version_minor": 0
      },
      "text/plain": [
       "A Jupyter Widget"
      ]
     },
     "metadata": {},
     "output_type": "display_data"
    },
    {
     "name": "stdout",
     "output_type": "stream",
     "text": [
      "\n",
      "[Epoch:  68/100] Training Loss: 1.584, Training Acc: 0.787\n"
     ]
    },
    {
     "data": {
      "application/vnd.jupyter.widget-view+json": {
       "model_id": "f7f783ec4bad4e678bc85687a2fcc513",
       "version_major": 2,
       "version_minor": 0
      },
      "text/plain": [
       "A Jupyter Widget"
      ]
     },
     "metadata": {},
     "output_type": "display_data"
    },
    {
     "name": "stdout",
     "output_type": "stream",
     "text": [
      "\n",
      "[Epoch:  69/100] Training Loss: 1.583, Training Acc: 0.788\n"
     ]
    },
    {
     "data": {
      "application/vnd.jupyter.widget-view+json": {
       "model_id": "57a564ee556b4da4b932e62838f7cd4a",
       "version_major": 2,
       "version_minor": 0
      },
      "text/plain": [
       "A Jupyter Widget"
      ]
     },
     "metadata": {},
     "output_type": "display_data"
    },
    {
     "name": "stdout",
     "output_type": "stream",
     "text": [
      "\n",
      "[Epoch:  70/100] Training Loss: 1.582, Training Acc: 0.789\n"
     ]
    },
    {
     "data": {
      "application/vnd.jupyter.widget-view+json": {
       "model_id": "e87a63adef284bb2b715a27edca5c126",
       "version_major": 2,
       "version_minor": 0
      },
      "text/plain": [
       "A Jupyter Widget"
      ]
     },
     "metadata": {},
     "output_type": "display_data"
    },
    {
     "name": "stdout",
     "output_type": "stream",
     "text": [
      "\n",
      "[Epoch:  71/100] Training Loss: 1.581, Training Acc: 0.791\n"
     ]
    },
    {
     "data": {
      "application/vnd.jupyter.widget-view+json": {
       "model_id": "4376649dcbaf44e1b89fb52b0ca49ff8",
       "version_major": 2,
       "version_minor": 0
      },
      "text/plain": [
       "A Jupyter Widget"
      ]
     },
     "metadata": {},
     "output_type": "display_data"
    },
    {
     "name": "stdout",
     "output_type": "stream",
     "text": [
      "\n",
      "[Epoch:  72/100] Training Loss: 1.580, Training Acc: 0.792\n"
     ]
    },
    {
     "data": {
      "application/vnd.jupyter.widget-view+json": {
       "model_id": "a0f5643c99744f1a958dd3c115bd7c2e",
       "version_major": 2,
       "version_minor": 0
      },
      "text/plain": [
       "A Jupyter Widget"
      ]
     },
     "metadata": {},
     "output_type": "display_data"
    },
    {
     "name": "stdout",
     "output_type": "stream",
     "text": [
      "\n",
      "[Epoch:  73/100] Training Loss: 1.579, Training Acc: 0.793\n"
     ]
    },
    {
     "data": {
      "application/vnd.jupyter.widget-view+json": {
       "model_id": "c6b4865e89d249c8b20a18b747a7a490",
       "version_major": 2,
       "version_minor": 0
      },
      "text/plain": [
       "A Jupyter Widget"
      ]
     },
     "metadata": {},
     "output_type": "display_data"
    },
    {
     "name": "stdout",
     "output_type": "stream",
     "text": [
      "\n",
      "[Epoch:  74/100] Training Loss: 1.578, Training Acc: 0.794\n"
     ]
    },
    {
     "data": {
      "application/vnd.jupyter.widget-view+json": {
       "model_id": "4a5090ae90484b95abe9ae4fe8cea01f",
       "version_major": 2,
       "version_minor": 0
      },
      "text/plain": [
       "A Jupyter Widget"
      ]
     },
     "metadata": {},
     "output_type": "display_data"
    },
    {
     "name": "stdout",
     "output_type": "stream",
     "text": [
      "\n",
      "[Epoch:  75/100] Training Loss: 1.577, Training Acc: 0.795\n"
     ]
    },
    {
     "data": {
      "application/vnd.jupyter.widget-view+json": {
       "model_id": "e2de835b66934a9c9fc3fadb2276dae9",
       "version_major": 2,
       "version_minor": 0
      },
      "text/plain": [
       "A Jupyter Widget"
      ]
     },
     "metadata": {},
     "output_type": "display_data"
    },
    {
     "name": "stdout",
     "output_type": "stream",
     "text": [
      "\n",
      "[Epoch:  76/100] Training Loss: 1.576, Training Acc: 0.796\n"
     ]
    },
    {
     "data": {
      "application/vnd.jupyter.widget-view+json": {
       "model_id": "e255a375a1aa4170a38c000f4175bfc3",
       "version_major": 2,
       "version_minor": 0
      },
      "text/plain": [
       "A Jupyter Widget"
      ]
     },
     "metadata": {},
     "output_type": "display_data"
    },
    {
     "name": "stdout",
     "output_type": "stream",
     "text": [
      "\n",
      "[Epoch:  77/100] Training Loss: 1.575, Training Acc: 0.797\n"
     ]
    },
    {
     "data": {
      "application/vnd.jupyter.widget-view+json": {
       "model_id": "954c0adcd2ef425ea53e0bba1aea3855",
       "version_major": 2,
       "version_minor": 0
      },
      "text/plain": [
       "A Jupyter Widget"
      ]
     },
     "metadata": {},
     "output_type": "display_data"
    },
    {
     "name": "stdout",
     "output_type": "stream",
     "text": [
      "\n",
      "[Epoch:  78/100] Training Loss: 1.574, Training Acc: 0.798\n"
     ]
    },
    {
     "data": {
      "application/vnd.jupyter.widget-view+json": {
       "model_id": "7de9f23611ef491e8647456de72e83bc",
       "version_major": 2,
       "version_minor": 0
      },
      "text/plain": [
       "A Jupyter Widget"
      ]
     },
     "metadata": {},
     "output_type": "display_data"
    },
    {
     "name": "stdout",
     "output_type": "stream",
     "text": [
      "\n",
      "[Epoch:  79/100] Training Loss: 1.573, Training Acc: 0.798\n"
     ]
    },
    {
     "data": {
      "application/vnd.jupyter.widget-view+json": {
       "model_id": "21d8161ae9ac41269ade42ac6f11cdf1",
       "version_major": 2,
       "version_minor": 0
      },
      "text/plain": [
       "A Jupyter Widget"
      ]
     },
     "metadata": {},
     "output_type": "display_data"
    },
    {
     "name": "stdout",
     "output_type": "stream",
     "text": [
      "\n",
      "[Epoch:  80/100] Training Loss: 1.572, Training Acc: 0.799\n"
     ]
    },
    {
     "data": {
      "application/vnd.jupyter.widget-view+json": {
       "model_id": "186103ede18a48ed8f40294334330ab6",
       "version_major": 2,
       "version_minor": 0
      },
      "text/plain": [
       "A Jupyter Widget"
      ]
     },
     "metadata": {},
     "output_type": "display_data"
    },
    {
     "name": "stdout",
     "output_type": "stream",
     "text": [
      "\n",
      "[Epoch:  81/100] Training Loss: 1.571, Training Acc: 0.800\n"
     ]
    },
    {
     "data": {
      "application/vnd.jupyter.widget-view+json": {
       "model_id": "ac7af2f063294410bb45e648ef7d21a7",
       "version_major": 2,
       "version_minor": 0
      },
      "text/plain": [
       "A Jupyter Widget"
      ]
     },
     "metadata": {},
     "output_type": "display_data"
    },
    {
     "name": "stdout",
     "output_type": "stream",
     "text": [
      "\n",
      "[Epoch:  82/100] Training Loss: 1.570, Training Acc: 0.801\n"
     ]
    },
    {
     "data": {
      "application/vnd.jupyter.widget-view+json": {
       "model_id": "95c4a3bd12f249b5bfdff98699690ec4",
       "version_major": 2,
       "version_minor": 0
      },
      "text/plain": [
       "A Jupyter Widget"
      ]
     },
     "metadata": {},
     "output_type": "display_data"
    },
    {
     "name": "stdout",
     "output_type": "stream",
     "text": [
      "\n",
      "[Epoch:  83/100] Training Loss: 1.570, Training Acc: 0.802\n"
     ]
    },
    {
     "data": {
      "application/vnd.jupyter.widget-view+json": {
       "model_id": "e4da6e8307704ab496cd6994616aabb7",
       "version_major": 2,
       "version_minor": 0
      },
      "text/plain": [
       "A Jupyter Widget"
      ]
     },
     "metadata": {},
     "output_type": "display_data"
    },
    {
     "name": "stdout",
     "output_type": "stream",
     "text": [
      "\n",
      "[Epoch:  84/100] Training Loss: 1.569, Training Acc: 0.803\n"
     ]
    },
    {
     "data": {
      "application/vnd.jupyter.widget-view+json": {
       "model_id": "d469bb5796ce435799346bb75fcf4d4c",
       "version_major": 2,
       "version_minor": 0
      },
      "text/plain": [
       "A Jupyter Widget"
      ]
     },
     "metadata": {},
     "output_type": "display_data"
    },
    {
     "name": "stdout",
     "output_type": "stream",
     "text": [
      "\n",
      "[Epoch:  85/100] Training Loss: 1.568, Training Acc: 0.804\n"
     ]
    },
    {
     "data": {
      "application/vnd.jupyter.widget-view+json": {
       "model_id": "d8e402e2210942a3a3945aad110c81ff",
       "version_major": 2,
       "version_minor": 0
      },
      "text/plain": [
       "A Jupyter Widget"
      ]
     },
     "metadata": {},
     "output_type": "display_data"
    },
    {
     "name": "stdout",
     "output_type": "stream",
     "text": [
      "\n",
      "[Epoch:  86/100] Training Loss: 1.567, Training Acc: 0.804\n"
     ]
    },
    {
     "data": {
      "application/vnd.jupyter.widget-view+json": {
       "model_id": "d50a5bc589a9426f8527f915757bd446",
       "version_major": 2,
       "version_minor": 0
      },
      "text/plain": [
       "A Jupyter Widget"
      ]
     },
     "metadata": {},
     "output_type": "display_data"
    },
    {
     "name": "stdout",
     "output_type": "stream",
     "text": [
      "\n",
      "[Epoch:  87/100] Training Loss: 1.566, Training Acc: 0.805\n"
     ]
    },
    {
     "data": {
      "application/vnd.jupyter.widget-view+json": {
       "model_id": "4ee31ce629fb4abd8210d980b8193eb0",
       "version_major": 2,
       "version_minor": 0
      },
      "text/plain": [
       "A Jupyter Widget"
      ]
     },
     "metadata": {},
     "output_type": "display_data"
    },
    {
     "name": "stdout",
     "output_type": "stream",
     "text": [
      "\n",
      "[Epoch:  88/100] Training Loss: 1.565, Training Acc: 0.806\n"
     ]
    },
    {
     "data": {
      "application/vnd.jupyter.widget-view+json": {
       "model_id": "1028f7361e664b059bf06732c700a645",
       "version_major": 2,
       "version_minor": 0
      },
      "text/plain": [
       "A Jupyter Widget"
      ]
     },
     "metadata": {},
     "output_type": "display_data"
    },
    {
     "name": "stdout",
     "output_type": "stream",
     "text": [
      "\n",
      "[Epoch:  89/100] Training Loss: 1.565, Training Acc: 0.807\n"
     ]
    },
    {
     "data": {
      "application/vnd.jupyter.widget-view+json": {
       "model_id": "26406e87e37346fa979e687c02f0c153",
       "version_major": 2,
       "version_minor": 0
      },
      "text/plain": [
       "A Jupyter Widget"
      ]
     },
     "metadata": {},
     "output_type": "display_data"
    },
    {
     "name": "stdout",
     "output_type": "stream",
     "text": [
      "\n",
      "[Epoch:  90/100] Training Loss: 1.564, Training Acc: 0.808\n"
     ]
    },
    {
     "data": {
      "application/vnd.jupyter.widget-view+json": {
       "model_id": "efed1476176c4c57926a7228ad6adadd",
       "version_major": 2,
       "version_minor": 0
      },
      "text/plain": [
       "A Jupyter Widget"
      ]
     },
     "metadata": {},
     "output_type": "display_data"
    },
    {
     "name": "stdout",
     "output_type": "stream",
     "text": [
      "\n",
      "[Epoch:  91/100] Training Loss: 1.563, Training Acc: 0.808\n"
     ]
    },
    {
     "data": {
      "application/vnd.jupyter.widget-view+json": {
       "model_id": "7cfe9a64cabb49cab352cb413d79333f",
       "version_major": 2,
       "version_minor": 0
      },
      "text/plain": [
       "A Jupyter Widget"
      ]
     },
     "metadata": {},
     "output_type": "display_data"
    },
    {
     "name": "stdout",
     "output_type": "stream",
     "text": [
      "\n",
      "[Epoch:  92/100] Training Loss: 1.562, Training Acc: 0.809\n"
     ]
    },
    {
     "data": {
      "application/vnd.jupyter.widget-view+json": {
       "model_id": "f239ec25ad9643b98dd4378282ef14d4",
       "version_major": 2,
       "version_minor": 0
      },
      "text/plain": [
       "A Jupyter Widget"
      ]
     },
     "metadata": {},
     "output_type": "display_data"
    },
    {
     "name": "stdout",
     "output_type": "stream",
     "text": [
      "\n",
      "[Epoch:  93/100] Training Loss: 1.562, Training Acc: 0.810\n"
     ]
    },
    {
     "data": {
      "application/vnd.jupyter.widget-view+json": {
       "model_id": "46d0728154c441c4bb26ca9089e9a686",
       "version_major": 2,
       "version_minor": 0
      },
      "text/plain": [
       "A Jupyter Widget"
      ]
     },
     "metadata": {},
     "output_type": "display_data"
    },
    {
     "name": "stdout",
     "output_type": "stream",
     "text": [
      "\n",
      "[Epoch:  94/100] Training Loss: 1.561, Training Acc: 0.811\n"
     ]
    },
    {
     "data": {
      "application/vnd.jupyter.widget-view+json": {
       "model_id": "a95b2901719d48a3b16ec1e5cdf9a299",
       "version_major": 2,
       "version_minor": 0
      },
      "text/plain": [
       "A Jupyter Widget"
      ]
     },
     "metadata": {},
     "output_type": "display_data"
    },
    {
     "name": "stdout",
     "output_type": "stream",
     "text": [
      "\n",
      "[Epoch:  95/100] Training Loss: 1.560, Training Acc: 0.811\n"
     ]
    },
    {
     "data": {
      "application/vnd.jupyter.widget-view+json": {
       "model_id": "8643cafd037241d59270d7558132dda3",
       "version_major": 2,
       "version_minor": 0
      },
      "text/plain": [
       "A Jupyter Widget"
      ]
     },
     "metadata": {},
     "output_type": "display_data"
    },
    {
     "name": "stdout",
     "output_type": "stream",
     "text": [
      "\n",
      "[Epoch:  96/100] Training Loss: 1.560, Training Acc: 0.812\n"
     ]
    },
    {
     "data": {
      "application/vnd.jupyter.widget-view+json": {
       "model_id": "788f632b8d8d426389b2c0834a2de9a0",
       "version_major": 2,
       "version_minor": 0
      },
      "text/plain": [
       "A Jupyter Widget"
      ]
     },
     "metadata": {},
     "output_type": "display_data"
    },
    {
     "name": "stdout",
     "output_type": "stream",
     "text": [
      "\n",
      "[Epoch:  97/100] Training Loss: 1.559, Training Acc: 0.813\n"
     ]
    },
    {
     "data": {
      "application/vnd.jupyter.widget-view+json": {
       "model_id": "3d33ed4f30054e1ab05073d37cb85da7",
       "version_major": 2,
       "version_minor": 0
      },
      "text/plain": [
       "A Jupyter Widget"
      ]
     },
     "metadata": {},
     "output_type": "display_data"
    },
    {
     "name": "stdout",
     "output_type": "stream",
     "text": [
      "\n",
      "[Epoch:  98/100] Training Loss: 1.558, Training Acc: 0.813\n"
     ]
    },
    {
     "data": {
      "application/vnd.jupyter.widget-view+json": {
       "model_id": "7bad236fd1ce498bb73cee42b2083673",
       "version_major": 2,
       "version_minor": 0
      },
      "text/plain": [
       "A Jupyter Widget"
      ]
     },
     "metadata": {},
     "output_type": "display_data"
    },
    {
     "name": "stdout",
     "output_type": "stream",
     "text": [
      "\n",
      "[Epoch:  99/100] Training Loss: 1.558, Training Acc: 0.814\n"
     ]
    }
   ],
   "source": [
    "if __name__=='__main__':\n",
    "    \n",
    "    ## parameter setting\n",
    "    epochs = 100\n",
    "    batch_size = 1\n",
    "    use_gpu = torch.cuda.is_available()\n",
    "    learning_rate = 0.001\n",
    "\n",
    "    input_dim = 9\n",
    "    hidden_dim = 200\n",
    "    n_label = 9\n",
    "    n_layers = 3\n",
    "    \n",
    "    train_path = os.path.join(DATA_DIR, TRAIN_FILE)\n",
    "    test_path = os.path.join(DATA_DIR, TEST_FILE)\n",
    "    save_filepath = 'rnn-3-100-1000.pt'\n",
    "\n",
    "\n",
    "     ### ********************create model**************************\n",
    "    model = LSTMClassifier(input_dim, hidden_dim, n_label, batch_size, n_layers, use_gpu)\n",
    "    if use_gpu:\n",
    "        model = model.cuda()\n",
    "    \n",
    "    training_set = SudokuDataset(train_path)\n",
    "    train_loader = DataLoader(training_set,\n",
    "                          batch_size,\n",
    "                          shuffle=True,\n",
    "                          num_workers=0\n",
    "                          )\n",
    "    \n",
    "    print('TRAINING')\n",
    "\n",
    "    optimizer = optim.Adam(model.parameters())\n",
    "    loss_function = nn.CrossEntropyLoss()\n",
    "    train_loss_ = []\n",
    "    test_loss_ = []\n",
    "    train_acc_ = []\n",
    "    test_acc_ = []\n",
    "    \n",
    "    \n",
    "    def adjust_learning_rate(optimizer, epoch):\n",
    "        lr = learning_rate * (0.1 ** (epoch // 10))\n",
    "        for param_group in optimizer.param_groups:\n",
    "            param_group['lr'] = lr\n",
    "        return optimizer\n",
    "    \n",
    "    import pdb\n",
    "    nsamples = 1000//batch_size\n",
    "\n",
    "### training procedure\n",
    "\n",
    "#     t = trange(100, desc='Bar desc', leave=True)\n",
    "    for epoch in range(epochs):\n",
    "#         optimizer = adjust_learning_rate(optimizer, epoch)\n",
    "        total_acc = 0.0\n",
    "        total_loss = 0.0\n",
    "        total = 0.0\n",
    "\n",
    "#         model.hidden = model.init_hidden()\n",
    "\n",
    "#         t = trange(100000, desc='RNN', leave=True)\n",
    "        for i, traindata in zip(tqdm_notebook(range(nsamples)), train_loader):\n",
    "#             traindata = train_loader[i]\n",
    "            model.zero_grad()\n",
    "            train_inputs_raw, train_labels_raw = traindata\n",
    "#             print(train_inputs_raw.shape)\n",
    "\n",
    "            train_data_numpy = Variable(train_inputs_raw).data.numpy()\n",
    "            train_labels_numpy = Variable(train_labels_raw).data.numpy()\n",
    "            train_labels = Variable(torch.LongTensor(train_labels_numpy[0]))\n",
    "\n",
    "#             pdb.set_trace ()\n",
    "            input_grid = InputGrid(train_data_numpy[0])\n",
    "            row_tensor, col_tensor, square_tensor = input_grid.getInput()\n",
    "\n",
    "            if use_gpu:\n",
    "                row_tensor, col_tensor, square_tensor, train_labels = \\\n",
    "                        row_tensor.cuda(), col_tensor.cuda(), square_tensor.cuda(), train_labels.cuda()\n",
    "\n",
    "            model.hidden = model.init_hidden()\n",
    "            model.batch_size =  batch_size \n",
    "            output = model(row_tensor, col_tensor, square_tensor)\n",
    "            output = output.view(81,9)\n",
    "\n",
    "\n",
    "#             for i in range(output.size()[1]):\n",
    "            loss = loss_function(output, train_labels.view(81,))\n",
    "            loss.backward()\n",
    "            optimizer.step()\n",
    "\n",
    "            # calc training acc\n",
    "            _, predicted = torch.max(output.data, 1)\n",
    "#             print(predicted.shape)\n",
    "#             print('TrainPred =  ',predicted, 'While TrainLabel = ' ,train_labels.data)\n",
    "            acc = (predicted == train_labels.data.view(81)).sum()/81\n",
    "#             print(acc)\n",
    "            total += 81\n",
    "#             print(loss.data[0])\n",
    "#             print (acc)\n",
    "\n",
    "#        print(\"loss:\", loss.data[0], \"acc\", total_acc)\n",
    "            train_loss_.append(loss.data[0])\n",
    "            train_acc_.append(acc)\n",
    "\n",
    "#             t.set_description(\"Bar desc (file %i)\" % iter)\n",
    "#             tqdm.refresh(self=) # t/o show immediately the update\n",
    "\n",
    "        print('[Epoch: %3d/%3d] Training Loss: %.3f, Training Acc: %.3f' \n",
    "                  % (epoch, epochs, np.mean(train_loss_), np.mean (train_acc_)))\n",
    "    torch.save(model.state_dict(), save_filepath+'_'+str(epoch))\n"
   ]
  },
  {
   "cell_type": "code",
   "execution_count": 62,
   "metadata": {
    "scrolled": false
   },
   "outputs": [
    {
     "name": "stdout",
     "output_type": "stream",
     "text": [
      "data\\test.csv\n"
     ]
    },
    {
     "data": {
      "application/vnd.jupyter.widget-view+json": {
       "model_id": "293c6d4ab16345dea4e3fbdd85535043",
       "version_major": 2,
       "version_minor": 0
      },
      "text/plain": [
       "A Jupyter Widget"
      ]
     },
     "metadata": {},
     "output_type": "display_data"
    },
    {
     "name": "stdout",
     "output_type": "stream",
     "text": [
      "\n",
      "[0, 7, 5, 8, 2, 1, 4, 3, 0, 6, 8, 2, 5, 7, 8, 0, 6, 1, 4, 5, 0, 0, 3, 6, 1, 2, 8, 1, 4, 5, 1, 7, 0, 8, 6, 2, 5, 2, 0, 6, 2, 8, 1, 2, 7, 2, 3, 6, 1, 0, 7, 0, 4, 2, 0, 1, 0, 5, 6, 2, 0, 4, 8, 7, 0, 6, 6, 8, 0, 2, 3, 4, 2, 0, 6, 7, 1, 5, 7, 0, 8, 6, 8, 6, 5, 1, 0, 7, 6, 5, 3, 0, 1, 2, 7, 2, 8, 2, 5, 2, 7, 6, 8, 4, 0, 2, 3, 3, 7, 5, 3, 0, 8, 4, 1, 3, 3, 0, 2, 5, 4, 1, 6, 4, 7, 5, 0, 3, 6, 1, 2, 7, 5, 8, 0, 1, 1, 7, 2, 0, 6, 4, 5, 3, 1, 2, 7, 2, 5, 2, 1, 6, 7, 7, 8, 6, 6, 6, 4, 7, 0, 2, 2, 6, 4, 5, 7, 3, 0, 8, 1, 5, 4, 1, 3, 2, 8, 6, 7, 5, 0, 3, 8, 6, 7, 7, 2, 4, 4, 1, 5, 3, 8, 0, 3, 1, 8, 3, 6, 1, 7, 3, 0, 2, 2, 0, 5, 3, 6, 4, 3, 7, 1, 6, 2, 8, 7, 8, 1, 6, 4, 2, 7, 6, 3, 2, 6, 2, 8, 0, 5, 3, 1, 5, 7, 3, 2, 3, 4, 7, 6, 0, 8, 5, 4, 0, 3, 8, 2, 8, 1, 5, 7, 6, 5, 2, 4, 1, 7, 0, 3, 6, 4, 0, 7, 8, 4, 1, 5, 6, 3, 0, 7, 6, 1, 3, 2, 6, 2, 2, 1, 4, 0, 7, 5, 8, 1, 6, 3, 3, 0, 2, 8, 0, 4, 7, 2, 3, 2, 1, 5, 6, 4, 0, 8, 3, 4, 5, 7, 1, 0, 2, 3, 8, 3, 0, 3, 6, 4, 5, 7, 3, 1, 6, 1, 0, 7, 2, 8, 4, 5, 2, 7, 6, 7, 5, 1, 3, 6, 2, 8, 0, 2, 6, 7, 8, 5, 8, 1, 4, 7, 3, 6, 4, 7, 0, 6, 5, 5, 4, 8, 1, 6, 8, 7, 7, 2, 1, 8, 1, 1, 8, 6, 5, 8, 1, 7, 4, 8, 3, 0, 8, 3, 5, 1, 2, 3, 7, 5, 4, 4, 8, 6, 8, 0, 8, 8, 8, 2, 0, 4, 5, 1, 7, 4, 4, 0, 6, 4, 1, 7, 4, 5, 3, 3, 2, 3, 8, 3, 0, 5, 1, 6, 3, 5, 2, 4, 3, 8, 4, 8, 7, 0, 3, 1, 2, 4, 6, 3, 5, 1, 1, 1, 2, 2, 8, 3, 7, 1, 1, 3, 6, 2, 5, 3, 4, 1, 8, 0, 4, 7, 6, 1, 5, 5, 6, 3, 1, 8, 0, 2, 7, 8, 3, 1, 4, 5, 6, 7, 8, 4, 2, 5, 1, 3, 2, 8, 0, 4, 1, 7, 5, 4, 0, 6, 8, 7, 5, 2, 0, 3, 4, 8, 7, 4, 0, 6, 8, 2, 6, 3, 5, 6, 6, 5, 7, 2, 4, 7, 0, 7, 1, 2, 1, 8, 2, 0, 0, 6, 4, 8, 7, 0, 5, 4, 1, 8, 5, 3, 4, 4, 2, 7, 4, 5, 6, 0, 1, 8, 4, 8, 5, 7, 3, 4, 2, 1, 1, 5, 1, 8, 0, 7, 7, 3, 4, 8, 5, 0, 6, 8, 4, 5, 2, 3, 6, 5, 7, 2, 3, 5, 0, 7, 1, 8, 1, 1, 3, 6, 7, 7, 4, 0, 1, 8, 2, 2, 7, 5, 6, 6, 8, 4, 2, 3, 5, 0, 0, 1, 0, 8, 5, 6, 0, 7, 4, 2, 5, 5, 3, 3, 0, 4, 5, 1, 5, 6, 2, 2, 8, 1, 5, 8, 8, 4, 0, 7, 5, 8, 4, 6, 3, 0, 1, 4, 4, 0, 5, 5, 6, 6, 2, 7, 3, 7, 1, 8, 6, 6, 7, 0, 4, 8, 6, 0, 5, 6, 0, 2, 3, 5, 5, 4, 7, 1, 7, 4, 3, 5, 6, 1, 0, 1, 1, 2, 5, 2, 0, 8, 2, 2, 4, 1, 7, 7, 1, 1, 5, 8, 7, 3, 0, 7, 2, 3, 1, 3, 3, 1, 8, 2, 8, 5, 7, 7, 0, 2, 5, 7, 3, 4, 6, 2, 3, 2, 1, 7, 0, 0, 2, 3, 4, 1, 4, 8, 5, 7, 6, 3, 5, 1, 3, 4, 1, 7, 4, 1, 6, 7, 8, 3, 5, 1, 2, 4, 0, 3, 2, 6, 5, 6, 0, 4, 8, 5, 1, 8, 6, 4, 3, 7, 3, 1, 2, 2, 0, 7, 5, 1, 3, 4, 6, 2, 8, 3, 2, 1, 0, 1, 6, 7, 5, 1, 1, 4, 2, 7, 8, 1, 3, 6, 0, 8, 5, 3, 7, 2, 6, 2, 1, 3, 6, 3, 0, 6, 7, 3, 0, 4, 0, 5, 2, 3, 5, 1, 7, 5, 5, 4, 5, 8, 7, 0, 2, 8, 6, 3, 5, 1, 6, 4, 6, 8, 5, 6, 5, 2, 3, 4, 8, 3, 1, 1, 4, 8, 6, 1, 3, 5, 2, 0, 1, 4, 2, 3, 6, 5, 6, 1, 8, 4, 6, 7, 5, 2, 1, 3, 5, 4, 0, 5, 6, 8, 2, 7, 6, 1, 3, 1, 5, 1, 2, 7, 3, 5, 1, 8, 2, 0, 4, 4, 1, 7, 8, 4, 5, 6, 3, 2, 8, 1, 6, 1, 5, 6, 7, 4, 5, 0, 3, 8, 6, 3, 7, 4, 2, 5, 8, 1, 1, 1, 0, 4, 4, 4, 7, 2, 7, 0, 0, 5, 3, 5, 5, 1, 8, 4, 8, 5, 6, 2, 2, 3, 3, 5, 0, 2, 1, 4, 7, 7, 6, 4, 6, 8, 7, 2, 0, 6, 1, 6, 4, 8, 8, 1, 6, 6, 3, 2, 7, 0, 7, 4, 4, 6, 6, 5, 8, 8, 1, 2, 0, 3, 7, 8, 4, 6, 2, 2, 2, 1, 0, 5, 7, 4, 0, 6, 2, 1, 8, 6, 1, 8, 8, 4, 5, 5, 3, 0, 6, 7, 4, 1, 5, 5, 5, 8, 3, 8, 4, 0, 2, 6, 3, 5, 2, 3, 3, 3, 1, 5, 1, 8, 6, 8, 7, 4, 5, 1, 3, 3, 1, 8, 2, 8, 6, 1, 4, 3, 7, 5, 5, 5, 1, 1, 6, 4, 0, 2, 1, 6, 6, 3, 5, 7, 2, 7, 8, 1, 4, 6, 0, 0, 0, 0, 5, 3, 4, 1, 2, 5, 7, 4, 8, 6, 3, 2, 3, 8, 4, 7, 2, 7, 0, 7, 1, 7, 6, 0, 4, 2, 3, 7, 5, 8, 2, 6, 6, 7, 1, 2, 2, 0, 8, 5, 5, 8, 4, 7, 6, 7, 3, 1, 2, 1, 1, 6, 2, 7, 8, 7, 4, 2, 3, 5, 8, 5, 0, 5, 6, 1, 7, 4, 5, 3, 3, 2, 7, 6, 3, 0, 7, 2, 8, 6, 1, 6, 0, 8, 6, 4, 8, 4, 6, 3, 3, 4, 4, 3, 0, 4, 1, 2, 2, 4, 8, 7, 0, 5, 4, 0, 6, 3, 0, 7, 2, 8, 3, 6, 7, 5, 4, 7, 3, 3, 1, 5, 7, 0, 1, 3, 2, 4, 7, 5, 3, 6, 0, 5, 5, 1, 4, 8, 7, 1, 8, 7, 3, 8, 0, 5, 4, 6, 6, 3, 4, 2, 2, 5, 5, 2, 1, 6, 8, 6, 5, 0, 7, 4, 4, 1, 6, 0, 3, 0, 8, 2, 4, 1, 0, 3, 3, 7, 2, 1, 4, 7, 8, 7, 6, 4, 3, 7, 4, 7, 2, 0, 2, 1, 1, 4, 5, 3, 4, 8, 7, 6, 2, 7, 0, 1, 6, 0, 3, 5, 4, 8, 8, 6, 1, 3, 1, 8, 8, 2, 3, 5, 6, 6, 4, 7, 8, 1, 0, 5, 2, 4, 8, 7, 5, 4, 6, 7, 4, 3, 8, 7, 0, 3, 1, 7, 5, 0, 7, 3, 4, 8, 7, 6, 7, 0, 6, 0, 5, 4, 4, 4, 3, 1, 8, 7, 7, 2, 3, 6, 0, 1, 5, 1, 6, 0, 2, 4, 1, 3, 1, 2, 1, 5, 0, 8, 2, 6, 1, 2, 8, 0, 2, 2, 0, 5, 7, 8, 6, 6, 3, 1, 0, 8, 6, 4, 0, 5, 5, 8, 6, 8, 5, 1, 0, 8, 2, 7, 3, 5, 8, 8, 7, 5, 5, 5, 3, 0, 6, 1, 7, 3, 8, 2, 5, 4, 6, 5, 6, 5, 5, 4, 0, 5, 7, 3, 4, 8, 2, 6, 1, 7, 0, 0, 5, 7, 1, 8, 6, 2, 0, 3, 1, 4, 2, 2, 6, 8, 7, 4, 6, 7, 5, 4, 1, 5, 8, 3, 0, 3, 3, 7, 5, 6, 7, 5, 2, 2, 4, 1, 0, 2, 5, 7, 7, 3, 6, 2, 8, 4, 5, 1, 4, 0, 1, 3, 1, 0, 6, 2, 4, 8, 4, 0, 0, 7, 4, 5, 6, 2, 5, 1, 4, 8, 3, 5, 2, 7, 8, 4, 5, 0, 3, 0, 6, 3, 3, 7, 6, 3, 8, 4, 5, 0, 7, 2, 8, 5, 6, 0, 7, 3, 3, 4, 1, 2, 2, 0, 8, 7, 6, 6, 3, 8, 0, 8, 7, 5, 8, 4, 2, 0, 2, 6, 3, 3, 4, 2, 8, 3, 7, 5, 8, 3, 1, 0, 4, 3, 2, 6, 2, 4, 3, 0, 6, 7, 5, 5, 2, 2, 8, 1, 5, 6, 3, 6, 0, 4, 8, 3, 5, 8, 7, 8, 8, 2, 8, 1, 7, 3, 4, 4, 2, 6, 5, 5, 8, 4, 0, 5, 3, 1, 6, 4, 7, 0, 8, 5, 5, 6, 4, 1, 4, 2, 8, 6, 7, 6, 1, 5, 3, 7, 0, 2, 3, 7, 0, 2, 6, 7, 7, 7, 8, 4, 0, 7, 2, 1, 7, 3, 5, 4, 7, 1, 5, 2, 6, 2, 0, 3, 5, 4, 0, 6, 7, 4, 4, 1, 8, 4, 8, 5, 7, 4, 0, 6, 3, 1, 7, 6, 3, 4, 2, 7, 0, 5, 6, 4, 6, 5, 0, 3, 6, 1, 6, 8, 4, 7, 1, 3, 6, 6, 2, 1, 1, 6, 6, 7, 7, 6, 8, 7, 1, 3, 1, 4, 2, 6, 0, 1, 0, 8, 0, 7, 0, 3, 5, 8, 5, 6, 3, 4, 2, 6, 0, 5, 6, 5, 8, 6, 3, 2, 1, 4, 5, 4, 4, 4, 5, 7, 4, 6, 4, 4, 2, 3, 5, 0, 7, 8, 5, 7, 2, 4, 6, 7, 7, 7, 4, 0, 1, 4, 4, 7, 8, 6, 8, 6, 3, 1, 8, 0, 2, 6, 8, 2, 7, 0, 2, 3, 6, 4, 1, 5, 5, 0, 1, 3, 2, 2, 5, 8, 5, 3, 4, 6, 5, 3, 1, 2, 0, 7, 1, 8, 4, 7, 6, 8, 7, 8, 3, 8, 1, 0, 3, 5, 8, 6, 0, 2, 8, 8, 1, 4, 8, 1, 8, 3, 5, 2, 1, 1, 5, 6, 2, 8, 4, 7, 0, 3, 1, 1, 4, 5, 7, 6, 4, 8, 1, 0, 2, 4, 5, 2, 2, 7, 0, 4, 6, 5, 8, 3, 1, 7, 2, 2, 6, 5, 7, 4, 2, 8, 8, 6, 8, 3, 0, 0, 0, 6, 8, 1, 7, 6, 2, 3, 6, 5, 2, 4, 0, 1, 0, 1, 5, 2, 3, 8, 7, 1, 4, 0, 4, 8, 8, 6, 5, 8, 0, 3, 4, 5, 4, 6, 1, 0, 3, 5, 8, 6, 2, 4, 8, 8, 0, 5, 1, 4, 2, 4, 1, 0, 3, 5, 5, 5, 7, 8, 3, 6, 2, 0, 4, 5, 6, 2, 2, 5, 2, 4, 8, 2, 7, 3, 8, 8, 4, 0, 2, 5, 7, 6, 1, 7, 7, 7, 0, 6, 2, 8, 5, 2, 0, 3, 6, 2, 7, 4, 1, 3, 8, 3, 5, 1, 0, 5, 6, 0, 7, 4, 1, 8, 0, 1, 5, 1, 3, 2, 8, 5, 6, 7, 3, 5, 8, 8, 4, 0, 1, 5, 5, 6, 3, 3, 4, 8, 2, 0, 6, 3, 6, 8, 0, 2, 6, 5, 8, 7, 8, 6, 8, 8, 2, 7, 6, 8, 3, 1, 5, 4, 8, 1, 8, 1, 6, 2, 8, 7, 6, 8, 6, 0, 0, 4, 3, 2, 5, 1, 0, 1, 7, 8, 6, 0, 6, 2, 3, 7, 1, 5, 0, 1, 3, 0, 2, 5, 2, 6, 0, 4, 4, 8, 2, 3, 7, 1, 5, 4, 0, 0, 4, 5, 8, 4, 1, 0, 6, 3, 6, 8, 8, 0, 4, 2, 5, 6, 7, 1, 5, 8, 1, 3, 0, 6, 6, 6, 5, 2, 0, 7, 1, 5, 8, 5, 2, 6, 4, 6, 2, 7, 4, 5, 0, 8, 5, 8, 4, 2, 6, 8, 3, 2, 1, 4, 7, 1, 2, 2, 0, 4, 8, 5, 2, 3, 1, 4, 0, 1, 0, 1, 7, 6, 5, 5, 4, 8, 3, 6, 7, 2, 3, 1, 3, 7, 8, 6, 1, 5, 1, 7, 6, 0, 8, 2, 7, 3, 8, 4, 8, 8, 1, 7, 0, 2, 8, 6, 6, 1, 4, 7, 6, 8, 3, 1, 0, 2, 4, 4, 0, 1, 1, 1, 5, 5, 1, 2, 6, 3, 3, 4, 6, 5, 8, 0, 2, 1, 5, 2, 6, 6, 8, 3, 5, 7, 7, 6, 3, 5, 0, 2, 7, 1, 0, 3, 6, 2, 4, 7, 3, 6, 1, 4, 0, 6, 5, 8, 7, 2, 7, 3, 4, 8, 2, 3, 6, 8, 1, 0, 7, 8, 8, 7, 2, 0, 1, 8, 3, 2, 2, 6, 0, 1, 5, 1, 8, 7, 8, 4, 8, 5, 8, 3, 2, 6, 4, 0, 7, 7, 7, 7, 7, 3, 0, 1, 8, 4, 2, 5, 0, 6, 6, 2, 1, 2, 7, 8, 3, 4, 2, 3, 5, 5, 6, 3, 1, 3, 8, 0, 7, 1, 5, 7, 2, 4, 8, 7, 4, 3, 5, 0, 5, 1, 6, 8, 3, 6, 4, 1, 7, 5, 8, 1, 8, 0, 8, 6, 8, 2, 3, 4, 7, 5, 4, 1, 0, 5, 6, 3, 3, 2, 2, 4, 8, 5, 6, 0, 1, 7, 5, 3, 8, 4, 8, 0, 2, 6, 3, 0, 6, 0, 5, 0, 1, 8, 3, 4, 0, 3, 6, 7, 2, 6, 4, 5, 8, 0, 1, 7, 7, 5, 6, 3, 4, 7, 0]\n",
      "-------------------------------------\n",
      "[3, 7, 8, 4, 2, 1, 6, 5, 0, 6, 0, 2, 3, 7, 5, 4, 8, 1, 4, 5, 1, 8, 0, 6, 7, 2, 3, 1, 4, 7, 2, 3, 0, 8, 6, 5, 5, 2, 0, 6, 4, 8, 1, 3, 7, 8, 3, 6, 1, 5, 7, 0, 4, 2, 0, 1, 4, 5, 6, 2, 3, 7, 8, 7, 6, 5, 0, 8, 3, 2, 1, 4, 2, 8, 3, 7, 1, 4, 5, 0, 6, 4, 8, 2, 5, 6, 1, 0, 3, 7, 5, 0, 1, 3, 7, 2, 8, 4, 6, 3, 7, 6, 8, 4, 0, 2, 1, 5, 7, 5, 4, 0, 8, 3, 6, 2, 1, 0, 2, 8, 6, 1, 5, 3, 7, 4, 6, 1, 3, 4, 2, 7, 5, 8, 0, 1, 3, 7, 2, 0, 6, 4, 5, 8, 2, 4, 0, 7, 5, 8, 1, 6, 3, 8, 6, 5, 1, 3, 4, 7, 0, 2, 1, 2, 6, 3, 7, 4, 0, 5, 8, 3, 4, 5, 0, 2, 8, 6, 7, 1, 0, 7, 8, 6, 1, 5, 2, 3, 4, 2, 5, 0, 4, 3, 6, 1, 8, 7, 6, 1, 3, 2, 8, 7, 4, 0, 5, 7, 8, 4, 1, 5, 0, 3, 2, 6, 8, 0, 1, 5, 6, 2, 7, 4, 3, 4, 6, 7, 8, 0, 3, 5, 1, 2, 5, 3, 2, 7, 4, 1, 8, 6, 0, 1, 4, 2, 3, 5, 0, 7, 6, 8, 7, 6, 8, 2, 4, 1, 5, 0, 3, 5, 3, 0, 7, 8, 6, 1, 4, 2, 6, 0, 7, 4, 2, 8, 3, 5, 1, 3, 1, 4, 0, 7, 5, 8, 2, 6, 8, 2, 5, 6, 1, 3, 4, 7, 0, 2, 7, 1, 8, 6, 4, 0, 3, 5, 4, 5, 3, 1, 0, 2, 6, 8, 7, 0, 8, 6, 5, 3, 7, 2, 1, 4, 8, 0, 1, 2, 3, 4, 5, 6, 7, 2, 3, 5, 1, 6, 7, 4, 8, 0, 4, 6, 7, 5, 8, 0, 1, 3, 2, 3, 2, 4, 6, 0, 1, 7, 5, 8, 5, 1, 6, 4, 7, 8, 2, 0, 3, 0, 7, 8, 3, 5, 2, 6, 1, 4, 6, 4, 0, 7, 1, 3, 8, 2, 5, 7, 5, 3, 8, 2, 6, 0, 4, 1, 1, 8, 2, 0, 4, 5, 3, 7, 6, 8, 1, 6, 3, 5, 7, 0, 2, 4, 7, 2, 4, 8, 6, 0, 5, 1, 3, 3, 5, 0, 1, 4, 2, 8, 6, 7, 0, 3, 8, 2, 7, 6, 4, 5, 1, 2, 4, 5, 0, 8, 1, 3, 7, 6, 1, 6, 7, 5, 3, 4, 2, 8, 0, 4, 8, 1, 6, 0, 5, 7, 3, 2, 5, 0, 2, 7, 1, 3, 6, 4, 8, 6, 7, 3, 4, 2, 8, 1, 0, 5, 8, 3, 2, 4, 7, 5, 1, 0, 6, 6, 7, 5, 1, 0, 3, 8, 2, 4, 1, 0, 4, 8, 6, 2, 3, 5, 7, 3, 5, 6, 2, 4, 0, 7, 8, 1, 2, 1, 8, 3, 5, 7, 6, 4, 0, 7, 4, 0, 6, 1, 8, 5, 3, 2, 4, 2, 7, 5, 8, 6, 0, 1, 3, 0, 8, 1, 7, 3, 4, 2, 6, 5, 5, 6, 3, 0, 2, 1, 4, 7, 8, 5, 0, 6, 1, 4, 8, 2, 3, 7, 7, 1, 2, 3, 0, 5, 4, 6, 8, 3, 8, 4, 6, 7, 2, 5, 0, 1, 8, 2, 1, 0, 5, 3, 6, 7, 4, 4, 3, 5, 7, 6, 1, 0, 8, 2, 6, 7, 0, 8, 2, 4, 1, 5, 3, 0, 4, 7, 2, 8, 6, 3, 1, 5, 1, 5, 8, 4, 3, 0, 7, 2, 6, 2, 6, 3, 5, 1, 7, 8, 4, 0, 5, 4, 6, 2, 3, 7, 0, 1, 8, 1, 8, 7, 0, 4, 6, 3, 2, 5, 3, 0, 2, 5, 1, 8, 4, 7, 6, 7, 3, 8, 4, 6, 0, 2, 5, 1, 2, 5, 0, 1, 8, 3, 6, 4, 7, 6, 1, 4, 7, 5, 2, 8, 3, 0, 0, 2, 3, 6, 7, 5, 1, 8, 4, 8, 7, 1, 3, 0, 4, 5, 6, 2, 4, 6, 5, 8, 2, 1, 7, 0, 3, 2, 4, 0, 7, 3, 8, 1, 5, 6, 1, 5, 3, 6, 4, 2, 7, 0, 8, 6, 7, 8, 0, 5, 1, 2, 4, 3, 3, 2, 1, 5, 6, 0, 4, 8, 7, 5, 8, 6, 4, 2, 7, 3, 1, 0, 4, 0, 7, 8, 1, 3, 5, 6, 2, 8, 3, 2, 1, 0, 4, 6, 7, 5, 7, 6, 4, 2, 8, 5, 0, 3, 1, 0, 1, 5, 3, 7, 6, 8, 2, 4, 1, 3, 6, 2, 5, 7, 8, 0, 4, 0, 5, 2, 8, 4, 3, 7, 6, 1, 4, 7, 8, 1, 0, 6, 2, 5, 3, 5, 1, 3, 4, 2, 8, 6, 7, 0, 2, 0, 4, 7, 6, 1, 5, 3, 8, 6, 8, 7, 5, 3, 0, 1, 4, 2, 3, 6, 5, 0, 1, 2, 4, 8, 7, 7, 4, 1, 3, 8, 5, 0, 2, 6, 8, 2, 0, 6, 7, 4, 3, 1, 5, 6, 2, 3, 4, 1, 8, 5, 7, 0, 4, 0, 8, 7, 3, 5, 6, 1, 2, 7, 5, 1, 0, 6, 2, 3, 4, 8, 0, 3, 4, 6, 7, 1, 8, 2, 5, 8, 1, 6, 5, 2, 0, 4, 3, 7, 2, 7, 5, 8, 4, 3, 0, 6, 1, 1, 4, 0, 3, 5, 7, 2, 8, 6, 5, 6, 2, 1, 8, 4, 7, 0, 3, 3, 8, 7, 2, 0, 6, 1, 5, 4, 8, 6, 0, 1, 5, 3, 2, 7, 4, 7, 4, 3, 6, 2, 0, 5, 8, 1, 1, 5, 2, 7, 8, 4, 6, 3, 0, 4, 8, 1, 0, 7, 5, 3, 6, 2, 5, 2, 6, 3, 1, 8, 4, 0, 7, 3, 0, 7, 2, 4, 6, 1, 5, 8, 6, 3, 8, 4, 0, 2, 7, 1, 5, 2, 1, 5, 8, 3, 7, 0, 4, 6, 0, 7, 4, 5, 6, 1, 8, 2, 3, 2, 8, 6, 5, 4, 3, 1, 7, 0, 4, 3, 1, 8, 7, 0, 2, 6, 5, 0, 7, 5, 6, 2, 1, 8, 3, 4, 7, 6, 2, 3, 8, 5, 0, 4, 1, 1, 5, 3, 4, 0, 6, 7, 2, 8, 8, 4, 0, 2, 1, 7, 6, 5, 3, 6, 1, 4, 0, 3, 2, 5, 8, 7, 3, 2, 7, 1, 5, 8, 4, 0, 6, 5, 0, 8, 7, 6, 4, 3, 1, 2, 1, 0, 6, 2, 5, 8, 7, 3, 4, 3, 7, 8, 4, 0, 6, 5, 1, 2, 4, 5, 2, 3, 1, 7, 8, 6, 0, 7, 2, 4, 5, 6, 1, 0, 8, 3, 0, 8, 5, 7, 2, 3, 1, 4, 6, 6, 3, 1, 0, 8, 4, 2, 7, 5, 5, 1, 3, 6, 7, 0, 4, 2, 8, 2, 6, 7, 8, 4, 5, 3, 0, 1, 8, 4, 0, 1, 3, 2, 6, 5, 7, 3, 6, 0, 8, 2, 1, 5, 4, 7, 1, 5, 7, 3, 4, 0, 2, 6, 8, 8, 2, 4, 7, 6, 5, 0, 3, 1, 5, 8, 2, 4, 0, 7, 6, 1, 3, 7, 1, 3, 6, 5, 8, 4, 2, 0, 0, 4, 6, 2, 1, 3, 7, 8, 5, 6, 3, 5, 0, 8, 4, 1, 7, 2, 4, 7, 1, 5, 3, 2, 8, 0, 6, 2, 0, 8, 1, 7, 6, 3, 5, 4, 0, 8, 4, 1, 3, 6, 5, 7, 2, 3, 6, 5, 2, 4, 7, 8, 1, 0, 1, 2, 7, 8, 0, 5, 4, 6, 3, 4, 7, 8, 6, 2, 3, 1, 0, 5, 2, 5, 3, 0, 8, 1, 6, 4, 7, 6, 1, 0, 5, 7, 4, 3, 2, 8, 8, 4, 2, 3, 1, 0, 7, 5, 6, 7, 0, 6, 4, 5, 8, 2, 3, 1, 5, 3, 1, 7, 6, 2, 0, 8, 4, 2, 7, 0, 5, 3, 8, 4, 6, 1, 1, 4, 8, 6, 7, 2, 0, 5, 3, 6, 3, 5, 4, 0, 1, 2, 7, 8, 8, 2, 4, 7, 6, 5, 1, 3, 0, 0, 1, 7, 2, 8, 3, 5, 4, 6, 5, 6, 3, 1, 4, 0, 8, 2, 7, 4, 8, 2, 3, 1, 7, 6, 0, 5, 7, 5, 1, 0, 2, 6, 3, 8, 4, 3, 0, 6, 8, 5, 4, 7, 1, 2, 4, 6, 3, 8, 5, 0, 1, 2, 7, 8, 0, 7, 2, 1, 6, 4, 3, 5, 1, 5, 2, 7, 3, 4, 6, 8, 0, 5, 7, 1, 0, 2, 3, 8, 4, 6, 3, 2, 8, 4, 6, 5, 7, 0, 1, 6, 4, 0, 1, 7, 8, 3, 5, 2, 7, 8, 4, 5, 0, 1, 2, 6, 3, 0, 1, 6, 3, 4, 2, 5, 7, 8, 2, 3, 5, 6, 8, 7, 0, 1, 4, 1, 4, 8, 0, 2, 6, 5, 7, 3, 3, 5, 0, 7, 1, 8, 4, 6, 2, 2, 6, 7, 3, 4, 5, 8, 1, 0, 5, 8, 2, 1, 0, 4, 7, 3, 6, 0, 3, 4, 2, 6, 7, 1, 8, 5, 6, 7, 1, 5, 8, 3, 2, 0, 4, 4, 1, 5, 6, 7, 0, 3, 2, 8, 7, 0, 3, 8, 5, 2, 6, 4, 1, 8, 2, 6, 4, 3, 1, 0, 5, 7, 0, 5, 4, 3, 8, 7, 1, 6, 2, 8, 6, 7, 2, 1, 5, 3, 4, 0, 2, 3, 1, 0, 4, 6, 5, 8, 7, 3, 4, 6, 8, 0, 1, 7, 2, 5, 1, 7, 8, 5, 3, 2, 6, 0, 4, 5, 2, 0, 6, 7, 4, 8, 1, 3, 6, 8, 2, 7, 5, 0, 4, 3, 1, 7, 1, 3, 4, 2, 8, 0, 5, 6, 4, 0, 5, 1, 6, 3, 2, 7, 8, 6, 7, 8, 3, 0, 4, 2, 1, 5, 1, 0, 5, 7, 2, 8, 6, 4, 3, 3, 4, 2, 6, 1, 5, 7, 8, 0, 7, 8, 6, 0, 5, 2, 1, 3, 4, 5, 3, 0, 4, 7, 1, 8, 2, 6, 2, 1, 4, 8, 3, 6, 0, 5, 7, 4, 6, 7, 1, 8, 3, 5, 0, 2, 8, 5, 3, 2, 6, 0, 4, 7, 1, 0, 2, 1, 5, 4, 7, 3, 6, 8, 4, 3, 6, 8, 0, 1, 5, 7, 2, 7, 8, 2, 5, 6, 4, 1, 0, 3, 5, 1, 0, 7, 3, 2, 8, 6, 4, 2, 6, 8, 3, 7, 5, 0, 4, 1, 0, 4, 7, 2, 1, 8, 6, 3, 5, 1, 5, 3, 0, 4, 6, 7, 2, 8, 6, 2, 4, 1, 8, 0, 3, 5, 7, 8, 7, 5, 6, 2, 3, 4, 1, 0, 3, 0, 1, 4, 5, 7, 2, 8, 6, 1, 0, 3, 4, 2, 7, 6, 5, 8, 4, 6, 5, 8, 3, 1, 2, 0, 7, 8, 2, 7, 0, 5, 6, 3, 1, 4, 3, 4, 8, 2, 6, 0, 1, 7, 5, 6, 1, 0, 5, 7, 4, 8, 2, 3, 7, 5, 2, 3, 1, 8, 4, 6, 0, 5, 8, 6, 7, 4, 2, 0, 3, 1, 2, 7, 4, 1, 0, 3, 5, 8, 6, 0, 3, 1, 6, 8, 5, 7, 4, 2, 2, 1, 0, 3, 6, 8, 5, 7, 4, 3, 7, 8, 0, 4, 5, 2, 6, 1, 5, 6, 4, 1, 2, 7, 3, 8, 0, 4, 8, 2, 5, 7, 6, 1, 0, 3, 1, 5, 3, 2, 8, 0, 6, 4, 7, 6, 0, 7, 4, 1, 3, 8, 2, 5, 7, 2, 5, 6, 0, 1, 4, 3, 8, 0, 4, 1, 8, 3, 2, 7, 5, 6, 8, 3, 6, 7, 5, 4, 0, 1, 2, 7, 6, 8, 5, 4, 3, 2, 0, 1, 3, 4, 1, 0, 2, 8, 5, 7, 6, 5, 0, 2, 6, 1, 7, 4, 8, 3, 8, 5, 4, 3, 7, 6, 0, 1, 2, 0, 7, 6, 2, 8, 1, 3, 4, 5, 2, 1, 3, 4, 0, 5, 8, 6, 7, 6, 8, 0, 7, 3, 2, 1, 5, 4, 4, 2, 5, 1, 6, 0, 7, 3, 8, 1, 3, 7, 8, 5, 4, 6, 2, 0, 5, 6, 2, 1, 7, 4, 3, 8, 0, 7, 0, 4, 8, 2, 3, 6, 1, 5, 8, 1, 3, 0, 6, 5, 4, 7, 2, 0, 5, 1, 7, 8, 6, 2, 3, 4, 3, 2, 7, 4, 1, 0, 8, 5, 6, 4, 8, 6, 5, 3, 2, 1, 0, 7, 1, 7, 0, 6, 4, 8, 5, 2, 3, 2, 4, 5, 3, 0, 1, 7, 6, 8, 6, 3, 8, 2, 5, 7, 0, 4, 1, 3, 4, 1, 8, 0, 5, 6, 7, 2, 5, 7, 2, 1, 3, 6, 4, 0, 8, 6, 8, 0, 2, 4, 7, 5, 1, 3, 7, 6, 8, 3, 1, 0, 2, 4, 5, 0, 1, 3, 4, 5, 2, 7, 8, 6, 2, 5, 4, 6, 7, 8, 0, 3, 1, 1, 0, 7, 5, 6, 3, 8, 2, 4, 8, 3, 5, 0, 2, 4, 1, 6, 7, 4, 2, 6, 7, 8, 1, 3, 5, 0, 3, 5, 8, 6, 7, 2, 1, 4, 0, 2, 1, 6, 5, 4, 0, 7, 8, 3, 7, 0, 4, 1, 8, 3, 2, 5, 6, 0, 2, 5, 8, 1, 7, 3, 6, 4, 8, 7, 3, 2, 6, 4, 0, 1, 5, 6, 4, 1, 3, 0, 5, 8, 7, 2, 5, 6, 7, 0, 2, 1, 4, 3, 8, 4, 3, 2, 7, 5, 8, 6, 0, 1, 1, 8, 0, 4, 3, 6, 5, 2, 7, 8, 1, 7, 3, 5, 0, 4, 2, 6, 5, 3, 6, 4, 2, 7, 0, 1, 8, 4, 0, 2, 6, 8, 1, 3, 5, 7, 7, 6, 1, 0, 4, 5, 8, 3, 2, 2, 4, 8, 7, 3, 6, 1, 0, 5, 3, 5, 0, 8, 1, 2, 6, 7, 4, 6, 2, 5, 1, 0, 8, 7, 4, 3, 0, 7, 3, 2, 6, 4, 5, 8, 1, 1, 8, 4, 5, 7, 3, 2, 6, 0]\n",
      "[Epoch:   1/  1], Testing Acc: 0.465\n"
     ]
    }
   ],
   "source": [
    "### TEST\n",
    "epochs = 100\n",
    "batch_size = 1\n",
    "use_gpu = torch.cuda.is_available()\n",
    "learning_rate = 0.001\n",
    "\n",
    "input_dim = 9\n",
    "hidden_dim = 200\n",
    "n_label = 9\n",
    "n_layers = 3\n",
    "\n",
    "train_path = os.path.join(DATA_DIR, TRAIN_FILE)\n",
    "test_path = os.path.join(DATA_DIR, TEST_FILE)\n",
    "save_filepath = 'rnn-3-100-1000.pt_99'\n",
    "\n",
    "\n",
    " ### ********************create model**************************\n",
    "model = LSTMClassifier(input_dim, hidden_dim, n_label, batch_size, n_layers, use_gpu)\n",
    "if use_gpu:\n",
    "    model = model.cuda()    \n",
    "\n",
    "\n",
    "model.load_state_dict(torch.load(save_filepath))\n",
    "model.eval()\n",
    "\n",
    "# original saved file with DataParallel\n",
    "# state_dict = torch.load(save_filepath)\n",
    "# # create new OrderedDict that does not contain `module.`\n",
    "# from collections import OrderedDict\n",
    "# new_state_dict = OrderedDict()\n",
    "# for k, v in state_dict.items():\n",
    "#     print(k,v)\n",
    "#     name = k[7:] # remove `module.`\n",
    "#     new_state_dict[name] = v\n",
    "# # load params\n",
    "# model.load_state_dict(new_state_dict)\n",
    "# model.eval()\n",
    "\n",
    "total_acc = 0.0\n",
    "total = 0.0\n",
    "\n",
    "test_set = SudokuDataset(test_path)\n",
    "test_loader = DataLoader(test_set,\n",
    "                        batch_size,\n",
    "                        shuffle=True,\n",
    "                        num_workers=0\n",
    "                        )\n",
    "nsamples = 30\n",
    "test_loss_ = []\n",
    "test_acc_ = []\n",
    "predictedStore = []\n",
    "solutionStore = []\n",
    "for i, testdata in zip(tqdm_notebook(range(nsamples)), test_loader):\n",
    "    model.zero_grad()\n",
    "    train_inputs_raw, train_labels_raw = testdata\n",
    "#             print(train_inputs_raw.shape)\n",
    "\n",
    "    train_data_numpy = Variable(train_inputs_raw).data.numpy()\n",
    "    train_labels_numpy = Variable(train_labels_raw).data.numpy()\n",
    "    train_labels = Variable(torch.LongTensor(train_labels_numpy[0]))\n",
    "\n",
    "    input_grid = InputGrid(train_data_numpy[0])\n",
    "    row_tensor, col_tensor, square_tensor = input_grid.getInput()\n",
    "\n",
    "    if use_gpu:\n",
    "        row_tensor, col_tensor, square_tensor, train_labels = \\\n",
    "                row_tensor.cuda(), col_tensor.cuda(), square_tensor.cuda(), train_labels.cuda()\n",
    "\n",
    "    model.hidden = model.init_hidden()\n",
    "    model.batch_size = batch_size \n",
    "    output = model(row_tensor, col_tensor, square_tensor)\n",
    "    output = output.view(81,9)\n",
    "\n",
    "#             for i in range(output.size()[1]):\n",
    "#         loss = loss_function(output, train_labels.view(81,))\n",
    "# #         loss.backward()\n",
    "# #         optimizer.step()\n",
    "\n",
    "    # calc training acc\n",
    "    _, predicted = torch.max(output.data, 1)\n",
    "    predictedStore.append(predicted.view(81,).cpu().numpy().tolist())\n",
    "    solutionStore.append(train_labels.data.view(81,).cpu().numpy().tolist())\n",
    "#     print('TrainPred = ', predicted.view(9,9), 'While TrainLabel = ' ,train_labels.data.view(9,9))\n",
    "    acc = (predicted == train_labels.data.view(81)).sum()/81\n",
    "#             print(acc)\n",
    "#             print(loss.data[0])\n",
    "#             print (acc)\n",
    "\n",
    "#        print(\"loss:\", loss.data[0], \"acc\", total_acc)\n",
    "#     test_loss_.append(loss.data[0])\n",
    "    test_acc_.append(acc)\n",
    "\n",
    "#             t.set_description(\"Bar desc (file %i)\" % iter)\n",
    "#             tqdm.refresh(self=) # t/o show immediately the update\n",
    "\n",
    "predictedStore = [i for arr in predictedStore for i in arr]\n",
    "solutionStore = [i for arr in solutionStore for i in arr]\n",
    "\n",
    "print(predictedStore)\n",
    "print(\"-------------------------------------\")\n",
    "print(solutionStore)\n",
    "\n",
    "print('[Epoch: %3d/%3d], Testing Acc: %.3f' % (1, 1, np.mean (test_acc_)))\n",
    "\n",
    "np.savetxt(\"predictedStore.csv\", predictedStore, delimiter=\",\", fmt='%s')\n",
    "np.savetxt(\"solutionStore.csv\", solutionStore, delimiter=\",\", fmt='%s')"
   ]
  },
  {
   "cell_type": "code",
   "execution_count": 15,
   "metadata": {
    "collapsed": true
   },
   "outputs": [],
   "source": [
    "sn =  [4, 8, 9, 5, 3, 2, 7, 6, 1, 7, 1, 3, 4, 8, 6, 5, 9, 2, 5, 6, 2, 9, 1, 7, 8, 3, 4, 2, 5, 8, 3, 4, 1, 9, 7, 6, 6, 3, 1, 7, 5, 9, 2, 4, 8, 9, 4, 7, 2, 6, 8, 1, 5, 3, 1, 2, 5, 6, 7, 3, 4, 8, 9, 8, 7, 6, 1, 9, 4, 3, 2, 5, 3, 9, 4, 8, 2, 5, 6, 1, 7, 3, 5, 1, 8, 4, 9, 2, 6, 7, 2, 6, 4, 7, 5, 3, 8, 1, 9, 7, 8, 9, 1, 6, 2, 3, 5, 4, 4, 3, 2, 6, 7, 1, 5, 9, 8, 6, 9, 7, 5, 3, 8, 4, 2, 1, 5, 1, 8, 9, 2, 4, 6, 7, 3, 9, 4, 3, 2, 1, 5, 7, 8, 6, 8, 7, 5, 3, 9, 6, 1, 4, 2, 1, 2, 6, 4, 8, 7, 9, 3, 5, 9, 2, 8, 4, 6, 1, 5, 3, 7, 6, 4, 7, 5, 3, 8, 1, 2, 9, 5, 1, 3, 7, 9, 2, 4, 6, 8, 8, 7, 2, 1, 5, 6, 9, 4, 3, 3, 5, 9, 8, 4, 7, 2, 1, 6, 4, 6, 1, 9, 2, 3, 7, 8, 5, 7, 3, 6, 2, 1, 9, 8, 5, 4, 1, 8, 4, 3, 7, 5, 6, 9, 2, 2, 9, 5, 6, 8, 4, 3, 7, 1, 1, 6, 5, 4, 9, 8, 2, 7, 3, 9, 7, 8, 3, 2, 6, 4, 5, 1, 3, 4, 2, 1, 5, 7, 6, 9, 8, 4, 5, 7, 9, 1, 2, 8, 3, 6, 2, 8, 9, 6, 4, 3, 7, 1, 5, 6, 3, 1, 7, 8, 5, 9, 2, 4, 7, 9, 3, 8, 6, 1, 5, 4, 2, 8, 2, 4, 5, 3, 9, 1, 6, 7, 5, 1, 6, 2, 7, 4, 3, 8, 9, 6, 7, 3, 2, 8, 5, 4, 9, 1, 8, 1, 5, 9, 3, 4, 7, 2, 6, 9, 2, 4, 1, 7, 6, 5, 8, 3, 1, 6, 2, 8, 9, 7, 3, 4, 5, 4, 3, 8, 5, 2, 1, 9, 6, 7, 5, 9, 7, 6, 4, 3, 2, 1, 8, 2, 8, 1, 7, 5, 9, 6, 3, 4, 3, 5, 6, 4, 1, 2, 8, 7, 9, 7, 4, 9, 3, 6, 8, 1, 5, 2, 3, 2, 1, 4, 7, 9, 6, 8, 5, 4, 8, 9, 1, 5, 6, 3, 7, 2, 6, 7, 5, 2, 3, 8, 4, 9, 1, 5, 9, 3, 6, 8, 7, 2, 1, 4, 2, 6, 4, 3, 9, 1, 7, 5, 8, 7, 1, 8, 5, 2, 4, 9, 3, 6, 8, 3, 6, 7, 1, 2, 5, 4, 9, 1, 5, 2, 9, 4, 3, 8, 6, 7, 9, 4, 7, 8, 6, 5, 1, 2, 3, 5, 7, 4, 9, 6, 1, 2, 3, 8, 9, 1, 8, 3, 2, 7, 5, 4, 6, 2, 6, 3, 8, 4, 5, 7, 9, 1, 6, 8, 2, 1, 3, 4, 9, 5, 7, 4, 3, 9, 5, 7, 6, 8, 1, 2, 7, 5, 1, 2, 8, 9, 4, 6, 3, 8, 9, 5, 6, 1, 2, 3, 7, 4, 1, 2, 7, 4, 5, 3, 6, 8, 9, 3, 4, 6, 7, 9, 8, 1, 2, 5, 4, 5, 2, 9, 1, 6, 7, 8, 3, 6, 8, 3, 2, 4, 7, 5, 1, 9, 7, 9, 1, 3, 5, 8, 6, 2, 4, 8, 7, 9, 4, 2, 1, 3, 5, 6, 1, 2, 4, 5, 6, 3, 8, 9, 7, 3, 6, 5, 7, 8, 9, 1, 4, 2, 2, 1, 8, 6, 7, 4, 9, 3, 5, 9, 4, 6, 1, 3, 5, 2, 7, 8, 5, 3, 7, 8, 9, 2, 4, 6, 1, 6, 1, 7, 2, 5, 9, 3, 4, 8, 8, 2, 3, 4, 1, 6, 5, 7, 9, 4, 9, 5, 7, 8, 3, 6, 1, 2, 9, 3, 2, 1, 6, 4, 7, 8, 5, 5, 4, 6, 8, 7, 2, 1, 9, 3, 7, 8, 1, 9, 3, 5, 2, 6, 4, 1, 5, 8, 3, 9, 7, 4, 2, 6, 2, 6, 9, 5, 4, 1, 8, 3, 7, 3, 7, 4, 6, 2, 8, 9, 5, 1, 2, 3, 7, 4, 8, 5, 1, 6, 9, 4, 5, 6, 1, 3, 9, 7, 8, 2, 1, 8, 9, 7, 2, 6, 3, 4, 5, 3, 6, 1, 5, 4, 7, 2, 9, 8, 7, 2, 4, 3, 9, 8, 5, 1, 6, 8, 9, 5, 2, 6, 1, 4, 3, 7, 9, 1, 2, 6, 7, 3, 8, 5, 4, 5, 7, 8, 9, 1, 4, 6, 2, 3, 6, 4, 3, 8, 5, 2, 9, 7, 1, 9, 2, 7, 4, 6, 8, 1, 3, 5, 8, 3, 5, 9, 7, 1, 6, 2, 4, 4, 6, 1, 2, 5, 3, 9, 7, 8, 1, 4, 9, 3, 8, 7, 5, 6, 2, 3, 5, 6, 1, 9, 2, 4, 8, 7, 2, 7, 8, 6, 4, 5, 3, 9, 1, 5, 9, 2, 7, 1, 6, 8, 4, 3, 6, 1, 3, 8, 2, 4, 7, 5, 9, 7, 8, 4, 5, 3, 9, 2, 1, 6, 9, 1, 2, 3, 4, 5, 6, 7, 8, 3, 4, 6, 2, 7, 8, 5, 9, 1, 5, 7, 8, 6, 9, 1, 2, 4, 3, 4, 3, 5, 7, 1, 2, 8, 6, 9, 6, 2, 7, 5, 8, 9, 3, 1, 4, 1, 8, 9, 4, 6, 3, 7, 2, 5, 7, 5, 1, 8, 2, 4, 9, 3, 6, 8, 6, 4, 9, 3, 7, 1, 5, 2, 2, 9, 3, 1, 5, 6, 4, 8, 7, 2, 5, 9, 1, 3, 7, 6, 8, 4, 4, 6, 1, 8, 2, 9, 5, 7, 3, 3, 7, 8, 4, 5, 6, 9, 2, 1, 6, 9, 3, 2, 1, 5, 8, 4, 7, 1, 4, 5, 3, 7, 8, 2, 9, 6, 7, 8, 2, 6, 9, 4, 3, 1, 5, 5, 2, 6, 7, 8, 1, 4, 3, 9, 8, 1, 4, 9, 6, 3, 7, 5, 2, 9, 3, 7, 5, 4, 2, 1, 6, 8, 4, 7, 1, 9, 3, 2, 6, 5, 8, 2, 6, 8, 4, 5, 1, 3, 7, 9, 9, 3, 5, 8, 7, 6, 1, 4, 2, 6, 9, 3, 5, 1, 8, 7, 2, 4, 8, 2, 4, 7, 6, 9, 5, 3, 1, 1, 5, 7, 3, 2, 4, 8, 9, 6, 7, 4, 6, 1, 9, 5, 2, 8, 3, 5, 8, 2, 6, 4, 3, 9, 1, 7, 3, 1, 9, 2, 8, 7, 4, 6, 5, 2, 1, 4, 5, 3, 8, 7, 6, 9, 5, 7, 6, 9, 4, 2, 3, 1, 8, 9, 3, 8, 1, 6, 7, 4, 2, 5, 4, 5, 9, 3, 7, 1, 2, 8, 6, 7, 2, 1, 6, 8, 5, 9, 3, 4, 8, 6, 3, 4, 2, 9, 5, 7, 1, 6, 9, 7, 8, 5, 3, 1, 4, 2, 3, 8, 5, 2, 1, 4, 6, 9, 7, 1, 4, 2, 7, 9, 6, 8, 5, 3, 7, 3, 4, 5, 2, 9, 6, 8, 1, 5, 1, 9, 8, 4, 6, 7, 2, 3, 8, 6, 2, 1, 7, 3, 4, 5, 9, 1, 4, 5, 7, 8, 2, 9, 3, 6, 9, 2, 7, 6, 3, 1, 5, 4, 8, 3, 8, 6, 9, 5, 4, 1, 7, 2, 2, 5, 1, 4, 6, 8, 3, 9, 7, 6, 7, 3, 2, 9, 5, 8, 1, 4, 4, 9, 8, 3, 1, 7, 2, 6, 5, 8, 7, 9, 6, 5, 4, 3, 1, 2, 4, 5, 2, 1, 3, 9, 6, 8, 7, 6, 1, 3, 7, 2, 8, 5, 9, 4, 9, 6, 5, 4, 8, 7, 1, 2, 3, 1, 8, 7, 3, 9, 2, 4, 5, 6, 3, 2, 4, 5, 1, 6, 9, 7, 8, 7, 9, 1, 8, 4, 3, 2, 6, 5, 5, 3, 6, 2, 7, 1, 8, 4, 9, 2, 4, 8, 9, 6, 5, 7, 3, 1, 1, 9, 5, 2, 4, 7, 6, 8, 3, 4, 7, 6, 3, 5, 8, 9, 2, 1, 2, 3, 8, 9, 1, 6, 5, 7, 4, 5, 8, 9, 7, 3, 4, 2, 1, 6, 3, 6, 4, 1, 9, 2, 7, 5, 8, 7, 2, 1, 6, 8, 5, 4, 3, 9, 9, 5, 3, 4, 2, 1, 8, 6, 7, 8, 1, 7, 5, 6, 9, 3, 4, 2, 6, 4, 2, 8, 7, 3, 1, 9, 5, 6, 5, 7, 3, 4, 8, 1, 2, 9, 2, 9, 8, 1, 5, 7, 4, 3, 6, 4, 1, 3, 6, 2, 9, 5, 8, 7, 8, 4, 9, 5, 7, 1, 3, 6, 2, 3, 6, 1, 2, 9, 4, 7, 5, 8, 7, 2, 5, 8, 6, 3, 9, 4, 1, 1, 3, 4, 7, 8, 6, 2, 9, 5, 9, 8, 2, 4, 1, 5, 6, 7, 3, 5, 7, 6, 9, 3, 2, 8, 1, 4, 2, 1, 7, 3, 6, 9, 8, 4, 5, 4, 8, 9, 5, 1, 7, 6, 2, 3, 5, 6, 3, 4, 2, 8, 9, 7, 1, 8, 3, 5, 6, 7, 2, 1, 9, 4, 1, 9, 6, 8, 3, 4, 2, 5, 7, 7, 4, 2, 1, 9, 5, 3, 8, 6, 6, 2, 4, 7, 8, 1, 5, 3, 9, 3, 7, 8, 9, 5, 6, 4, 1, 2, 9, 5, 1, 2, 4, 3, 7, 6, 8, 3, 8, 1, 6, 4, 9, 5, 7, 2, 2, 5, 9, 7, 8, 3, 1, 6, 4, 7, 4, 6, 5, 1, 2, 3, 8, 9, 9, 3, 5, 8, 7, 6, 2, 4, 1, 1, 2, 8, 3, 9, 4, 6, 5, 7, 6, 7, 4, 2, 5, 1, 9, 3, 8, 5, 9, 3, 4, 2, 8, 7, 1, 6, 8, 6, 2, 1, 3, 7, 4, 9, 5, 4, 1, 7, 9, 6, 5, 8, 2, 3, 7, 8, 9, 4, 1, 5, 3, 2, 6, 2, 1, 6, 8, 3, 9, 7, 5, 4, 4, 5, 3, 7, 2, 6, 8, 9, 1, 8, 9, 7, 1, 6, 3, 2, 4, 5, 6, 4, 1, 5, 8, 2, 9, 3, 7, 3, 2, 5, 9, 4, 7, 1, 6, 8, 5, 7, 8, 2, 9, 4, 6, 1, 3, 9, 6, 4, 3, 7, 1, 5, 8, 2, 1, 3, 2, 6, 5, 8, 4, 7, 9, 9, 7, 1, 2, 6, 4, 3, 8, 5, 8, 5, 4, 7, 3, 1, 6, 9, 2, 2, 6, 3, 8, 9, 5, 7, 4, 1, 5, 9, 2, 1, 8, 6, 4, 7, 3, 6, 3, 7, 4, 2, 9, 5, 1, 8, 4, 1, 8, 3, 5, 7, 2, 6, 9, 7, 4, 9, 5, 1, 3, 8, 2, 6, 3, 2, 6, 9, 4, 8, 1, 5, 7, 1, 8, 5, 6, 7, 2, 9, 3, 4, 4, 6, 9, 7, 8, 3, 2, 5, 1, 3, 2, 7, 6, 5, 1, 8, 9, 4, 8, 1, 5, 2, 9, 4, 3, 6, 7, 1, 3, 6, 9, 2, 8, 4, 7, 5, 9, 8, 4, 3, 7, 5, 1, 2, 6, 7, 5, 2, 4, 1, 6, 9, 8, 3, 6, 7, 8, 1, 3, 2, 5, 4, 9, 5, 4, 3, 8, 6, 9, 7, 1, 2, 2, 9, 1, 5, 4, 7, 6, 3, 8, 2, 5, 3, 4, 6, 1, 8, 7, 9, 8, 7, 9, 3, 5, 2, 6, 1, 4, 6, 4, 1, 8, 9, 7, 2, 5, 3, 7, 1, 8, 5, 3, 9, 4, 6, 2, 4, 2, 5, 1, 8, 6, 9, 3, 7, 9, 3, 6, 7, 2, 4, 5, 8, 1, 3, 8, 2, 9, 7, 5, 1, 4, 6, 5, 6, 4, 2, 1, 3, 7, 9, 8, 1, 9, 7, 6, 4, 8, 3, 2, 5, 5, 9, 3, 6, 7, 2, 1, 4, 8, 6, 1, 2, 4, 8, 3, 9, 5, 7, 4, 8, 7, 9, 5, 1, 3, 2, 6, 8, 6, 5, 1, 9, 4, 7, 3, 2, 1, 3, 9, 7, 2, 6, 4, 8, 5, 7, 2, 4, 5, 3, 8, 6, 9, 1, 2, 4, 8, 3, 1, 7, 5, 6, 9, 3, 5, 1, 8, 6, 9, 2, 7, 4, 9, 7, 6, 2, 4, 5, 8, 1, 3, 9, 4, 3, 5, 8, 6, 2, 1, 7, 7, 8, 6, 2, 1, 4, 9, 3, 5, 2, 1, 5, 9, 7, 3, 4, 6, 8, 4, 6, 7, 3, 5, 1, 8, 9, 2, 3, 2, 9, 4, 6, 8, 7, 5, 1, 8, 5, 1, 7, 2, 9, 6, 4, 3, 5, 3, 8, 6, 9, 7, 1, 2, 4, 1, 9, 2, 8, 4, 5, 3, 7, 6, 6, 7, 4, 1, 3, 2, 5, 8, 9, 2, 4, 7, 3, 6, 8, 9, 1, 5, 1, 6, 3, 9, 5, 4, 8, 7, 2, 5, 8, 9, 2, 1, 7, 3, 6, 4, 6, 2, 4, 5, 3, 9, 7, 8, 1, 3, 1, 5, 8, 7, 2, 6, 4, 9, 7, 9, 8, 6, 4, 1, 2, 5, 3, 4, 7, 6, 1, 2, 3, 5, 9, 8, 8, 5, 2, 4, 9, 6, 1, 3, 7, 9, 3, 1, 7, 8, 5, 4, 2, 6, 5, 4, 7, 9, 1, 2, 6, 8, 3, 8, 9, 3, 6, 7, 5, 2, 1, 4, 6, 2, 1, 8, 4, 3, 9, 7, 5, 3, 7, 9, 4, 8, 6, 1, 5, 2, 1, 5, 8, 3, 2, 9, 7, 4, 6, 2, 6, 4, 1, 5, 7, 8, 3, 9, 7, 3, 5, 2, 9, 1, 4, 6, 8, 9, 8, 6, 7, 3, 4, 5, 2, 1, 4, 1, 2, 5, 6, 8, 3, 9, 7, 3, 9, 7, 6, 5, 4, 2, 8, 1, 5, 4, 2, 9, 8, 1, 3, 7, 6, 1, 8, 6, 7, 3, 2, 9, 4, 5, 8, 7, 3, 4, 9, 6, 1, 5, 2, 2, 6, 4, 5, 1, 7, 8, 3, 9, 9, 5, 1, 3, 2, 8, 7, 6, 4, 7, 2, 5, 1, 4, 3, 6, 9, 8, 4, 3, 8, 2, 6, 9, 5, 1, 7, 6, 1, 9, 8, 7, 5, 4, 2, 3]\n",
    "\n",
    "pred =  [4, 8, 9, 5, 3, 2, 7, 6, 1, 7, 1, 3, 4, 8, 6, 5, 9, 2, 5, 6, 2, 9, 1, 7, 8, 3, 4, 2, 5, 8, 3, 4, 1, 9, 7, 6, 6, 3, 1, 7, 5, 9, 2, 4, 8, 9, 4, 7, 2, 6, 8, 1, 5, 3, 1, 2, 5, 6, 7, 3, 4, 8, 9, 8, 7, 6, 1, 9, 4, 3, 2, 5, 3, 9, 4, 8, 2, 5, 6, 1, 7, 3, 5, 1, 8, 4, 9, 2, 6, 7, 2, 6, 4, 7, 5, 3, 8, 1, 9, 7, 8, 9, 1, 6, 2, 3, 5, 4, 4, 3, 2, 6, 7, 1, 5, 9, 8, 6, 9, 7, 5, 3, 8, 4, 2, 1, 5, 1, 8, 9, 2, 4, 6, 7, 3, 9, 4, 3, 2, 1, 5, 7, 8, 6, 8, 7, 5, 3, 9, 6, 1, 4, 2, 1, 2, 6, 4, 8, 7, 9, 3, 5, 9, 2, 8, 4, 6, 1, 5, 3, 7, 6, 4, 7, 5, 3, 8, 1, 2, 9, 5, 1, 3, 7, 9, 2, 4, 6, 8, 8, 7, 2, 1, 5, 6, 9, 4, 3, 3, 5, 9, 8, 4, 7, 2, 1, 6, 4, 6, 1, 9, 2, 3, 7, 8, 5, 7, 3, 6, 2, 1, 9, 8, 5, 4, 1, 8, 4, 3, 7, 5, 6, 9, 2, 2, 9, 5, 6, 8, 4, 3, 7, 1, 1, 6, 5, 4, 9, 8, 2, 7, 3, 9, 7, 8, 3, 2, 6, 4, 5, 1, 3, 4, 2, 1, 5, 7, 6, 9, 8, 4, 5, 7, 9, 1, 2, 8, 3, 6, 2, 8, 9, 6, 4, 3, 7, 1, 5, 6, 3, 1, 7, 8, 5, 9, 2, 4, 7, 9, 3, 8, 6, 1, 5, 4, 2, 8, 2, 4, 5, 3, 9, 1, 6, 7, 5, 1, 6, 2, 7, 4, 3, 8, 9, 6, 7, 3, 2, 8, 5, 4, 9, 1, 8, 1, 5, 9, 3, 4, 7, 2, 6, 9, 2, 4, 1, 7, 6, 5, 8, 3, 1, 6, 2, 8, 9, 7, 3, 4, 5, 4, 3, 8, 5, 2, 1, 9, 6, 7, 5, 9, 7, 6, 4, 3, 2, 1, 8, 2, 8, 1, 7, 5, 9, 6, 3, 4, 3, 5, 6, 4, 1, 2, 8, 7, 9, 7, 4, 9, 3, 6, 8, 1, 5, 2, 3, 2, 1, 4, 7, 9, 6, 8, 5, 4, 8, 9, 1, 5, 6, 3, 7, 2, 6, 7, 5, 2, 3, 8, 4, 9, 1, 5, 9, 3, 6, 8, 7, 2, 1, 4, 2, 6, 4, 3, 9, 1, 7, 5, 8, 7, 1, 8, 5, 2, 4, 9, 3, 6, 8, 3, 6, 7, 1, 2, 5, 4, 9, 1, 5, 2, 9, 4, 3, 8, 6, 7, 9, 4, 7, 8, 6, 5, 1, 2, 3, 5, 7, 4, 9, 6, 1, 2, 3, 8, 9, 1, 8, 3, 7, 2, 5, 4, 6, 2, 6, 3, 8, 4, 5, 7, 9, 1, 6, 3, 5, 1, 8, 4, 9, 5, 7, 4, 2, 9, 6, 3, 7, 8, 1, 2, 7, 8, 1, 2, 5, 9, 4, 6, 3, 8, 9, 2, 5, 1, 6, 3, 7, 4, 1, 5, 7, 4, 2, 3, 6, 8, 9, 3, 4, 6, 7, 9, 8, 1, 2, 5, 4, 2, 1, 5, 9, 6, 7, 8, 3, 7, 9, 3, 1, 4, 8, 5, 2, 6, 6, 5, 8, 3, 7, 2, 4, 1, 9, 8, 7, 9, 4, 2, 1, 3, 6, 5, 1, 4, 2, 6, 5, 3, 8, 9, 7, 3, 6, 5, 7, 8, 9, 1, 4, 2, 9, 8, 7, 2, 1, 4, 6, 3, 8, 5, 1, 6, 9, 3, 7, 2, 5, 4, 2, 3, 4, 8, 6, 5, 9, 7, 1, 6, 1, 7, 2, 5, 9, 3, 4, 8, 8, 2, 3, 4, 1, 6, 5, 7, 9, 4, 9, 5, 7, 8, 3, 6, 1, 2, 9, 3, 1, 1, 6, 4, 7, 8, 5, 5, 4, 6, 8, 7, 2, 2, 9, 3, 7, 8, 2, 9, 3, 5, 1, 6, 4, 1, 5, 8, 3, 9, 7, 4, 2, 6, 2, 6, 9, 5, 4, 1, 8, 3, 7, 3, 7, 4, 6, 2, 8, 9, 5, 1, 2, 3, 6, 5, 8, 4, 1, 7, 9, 4, 5, 7, 1, 3, 9, 6, 8, 2, 1, 8, 9, 7, 2, 6, 3, 4, 5, 3, 6, 4, 8, 9, 1, 2, 5, 7, 7, 2, 8, 3, 4, 5, 9, 1, 6, 9, 1, 5, 2, 6, 7, 4, 3, 8, 5, 1, 2, 6, 7, 3, 8, 9, 4, 6, 7, 1, 9, 1, 8, 5, 2, 3, 8, 9, 3, 4, 5, 2, 7, 6, 1, 9, 2, 7, 4, 6, 8, 3, 1, 5, 8, 3, 5, 9, 7, 1, 6, 2, 4, 4, 6, 1, 2, 5, 3, 9, 7, 8, 1, 4, 9, 3, 8, 7, 5, 6, 2, 8, 5, 6, 1, 9, 2, 4, 3, 7, 3, 7, 2, 6, 4, 5, 8, 9, 1, 5, 8, 2, 7, 3, 9, 1, 4, 6, 6, 1, 3, 8, 2, 4, 7, 5, 9, 7, 9, 4, 5, 1, 6, 2, 8, 3, 2, 1, 4, 3, 9, 5, 6, 7, 8, 6, 3, 5, 2, 7, 8, 4, 9, 1, 9, 7, 8, 6, 4, 1, 2, 5, 3, 4, 9, 6, 5, 1, 3, 8, 2, 7, 1, 5, 7, 4, 8, 2, 3, 6, 9, 3, 8, 2, 7, 6, 9, 1, 4, 5, 7, 2, 1, 8, 5, 4, 9, 3, 6, 8, 6, 8, 9, 3, 7, 5, 1, 4, 5, 4, 3, 1, 2, 6, 7, 8, 2, 2, 5, 9, 1, 3, 7, 6, 8, 4, 4, 6, 3, 8, 2, 9, 5, 7, 1, 8, 7, 1, 4, 5, 6, 9, 2, 3, 6, 9, 8, 2, 1, 5, 3, 4, 7, 1, 4, 5, 3, 7, 8, 2, 9, 6, 2, 3, 7, 6, 9, 4, 8, 1, 5, 5, 2, 6, 7, 8, 1, 4, 3, 9, 7, 8, 4, 9, 6, 3, 1, 5, 2, 9, 1, 3, 5, 4, 2, 7, 6, 8, 4, 7, 1, 9, 3, 2, 6, 5, 8, 2, 6, 8, 4, 5, 1, 3, 7, 9, 9, 3, 5, 8, 7, 6, 1, 4, 2, 6, 9, 3, 5, 1, 8, 7, 2, 4, 8, 2, 4, 7, 8, 6, 5, 3, 1, 1, 5, 7, 3, 2, 4, 8, 9, 6, 7, 4, 6, 1, 9, 5, 2, 8, 3, 5, 8, 2, 6, 4, 3, 9, 1, 7, 3, 1, 9, 2, 8, 7, 4, 6, 5, 2, 1, 9, 5, 8, 3, 7, 6, 4, 5, 7, 6, 9, 4, 2, 3, 1, 8, 3, 4, 8, 1, 6, 7, 9, 2, 5, 4, 5, 7, 3, 8, 1, 2, 8, 6, 1, 8, 2, 6, 7, 5, 4, 3, 9, 9, 6, 3, 4, 2, 8, 5, 7, 1, 7, 2, 6, 8, 5, 9, 1, 4, 2, 8, 3, 5, 2, 1, 4, 6, 9, 7, 1, 9, 4, 7, 1, 6, 8, 5, 3, 7, 3, 4, 5, 2, 9, 6, 8, 1, 5, 1, 9, 8, 4, 6, 7, 2, 3, 8, 6, 2, 1, 7, 3, 4, 5, 9, 1, 4, 5, 7, 8, 2, 9, 3, 6, 9, 2, 7, 6, 3, 1, 5, 4, 8, 3, 8, 6, 9, 5, 4, 1, 7, 2, 2, 5, 1, 4, 6, 8, 3, 9, 7, 6, 7, 3, 2, 9, 5, 8, 1, 4, 4, 9, 8, 3, 1, 7, 2, 6, 5, 8, 7, 9, 9, 5, 4, 3, 1, 2, 4, 5, 2, 1, 3, 6, 6, 8, 7, 6, 1, 3, 7, 2, 8, 5, 9, 4, 9, 6, 5, 4, 8, 7, 1, 2, 3, 1, 8, 7, 3, 9, 2, 4, 5, 6, 3, 2, 4, 6, 1, 5, 9, 7, 8, 7, 9, 1, 8, 4, 3, 2, 6, 5, 5, 3, 6, 2, 7, 1, 8, 4, 9, 2, 4, 8, 5, 6, 9, 7, 3, 1, 8, 9, 5, 1, 4, 2, 6, 7, 3, 4, 7, 6, 3, 5, 8, 9, 2, 1, 1, 3, 2, 9, 6, 7, 5, 8, 4, 5, 8, 9, 7, 1, 4, 2, 3, 6, 3, 2, 4, 6, 9, 5, 7, 1, 8, 7, 6, 1, 8, 2, 3, 4, 5, 9, 2, 5, 3, 4, 1, 1, 8, 6, 7, 9, 1, 7, 5, 8, 6, 3, 4, 2, 6, 4, 8, 2, 7, 9, 1, 9, 5, 6, 5, 7, 3, 4, 8, 1, 2, 9, 2, 9, 8, 1, 5, 7, 4, 3, 6, 4, 1, 3, 6, 2, 9, 5, 8, 7, 8, 4, 8, 5, 7, 1, 3, 6, 2, 3, 6, 1, 2, 9, 4, 7, 5, 8, 7, 2, 5, 8, 6, 3, 9, 4, 1, 1, 3, 4, 7, 8, 6, 2, 9, 5, 9, 8, 2, 4, 1, 5, 6, 7, 3, 5, 7, 6, 9, 3, 2, 8, 1, 4, 2, 1, 7, 3, 6, 9, 8, 4, 5, 4, 8, 9, 5, 1, 7, 6, 2, 3, 5, 6, 3, 4, 2, 8, 9, 7, 1, 8, 3, 5, 6, 7, 2, 1, 9, 4, 1, 9, 6, 8, 8, 4, 2, 5, 7, 7, 4, 2, 1, 9, 5, 3, 8, 6, 6, 2, 4, 7, 8, 1, 5, 3, 9, 3, 7, 8, 9, 5, 6, 4, 1, 2, 9, 5, 1, 2, 4, 3, 7, 6, 8, 3, 8, 1, 6, 4, 9, 5, 7, 2, 2, 5, 9, 7, 8, 3, 1, 6, 4, 7, 4, 6, 5, 1, 2, 3, 8, 9, 9, 3, 5, 8, 7, 6, 2, 4, 1, 1, 2, 8, 3, 9, 4, 6, 5, 7, 6, 7, 4, 2, 5, 1, 9, 3, 8, 5, 9, 3, 4, 2, 8, 7, 1, 6, 8, 6, 2, 1, 3, 7, 4, 9, 5, 4, 1, 7, 9, 6, 5, 8, 2, 3, 7, 8, 9, 4, 1, 5, 3, 2, 6, 2, 1, 6, 8, 3, 9, 7, 5, 4, 4, 5, 3, 7, 2, 6, 8, 9, 1, 8, 9, 7, 1, 6, 3, 2, 4, 5, 6, 4, 1, 5, 8, 2, 9, 3, 7, 3, 2, 5, 9, 4, 7, 1, 6, 8, 5, 7, 8, 2, 9, 4, 6, 1, 3, 9, 6, 4, 3, 7, 1, 5, 8, 2, 1, 3, 2, 6, 5, 8, 4, 7, 9, 7, 9, 1, 2, 6, 4, 3, 8, 5, 8, 5, 4, 7, 3, 1, 6, 9, 2, 6, 2, 3, 8, 9, 5, 7, 4, 1, 5, 6, 2, 1, 8, 9, 4, 7, 3, 9, 3, 7, 4, 2, 6, 5, 1, 8, 4, 1, 8, 3, 5, 7, 2, 6, 9, 2, 4, 9, 5, 1, 3, 8, 2, 6, 3, 7, 6, 9, 4, 8, 1, 5, 7, 1, 8, 5, 6, 7, 2, 9, 3, 4, 4, 6, 9, 7, 8, 3, 2, 5, 1, 3, 2, 7, 6, 5, 1, 8, 9, 4, 8, 1, 5, 2, 9, 4, 3, 6, 7, 1, 3, 6, 9, 2, 8, 4, 7, 5, 9, 8, 4, 3, 7, 5, 1, 2, 6, 7, 5, 2, 4, 1, 6, 9, 8, 3, 6, 7, 8, 1, 3, 2, 5, 4, 9, 5, 4, 3, 8, 6, 9, 7, 1, 2, 2, 9, 1, 5, 4, 7, 6, 3, 8, 2, 5, 3, 4, 6, 1, 8, 7, 9, 8, 7, 9, 3, 5, 2, 6, 1, 4, 6, 4, 1, 8, 9, 7, 2, 5, 3, 7, 1, 8, 5, 3, 9, 4, 6, 2, 4, 2, 5, 1, 8, 6, 9, 3, 7, 9, 3, 6, 7, 2, 4, 5, 8, 1, 3, 8, 2, 9, 7, 5, 1, 4, 6, 5, 6, 4, 2, 1, 3, 7, 9, 8, 1, 9, 7, 6, 4, 8, 3, 2, 5, 5, 9, 3, 6, 7, 2, 1, 4, 8, 6, 1, 2, 4, 8, 3, 9, 5, 7, 4, 8, 7, 9, 5, 1, 3, 2, 6, 8, 6, 5, 1, 9, 4, 7, 3, 2, 1, 3, 9, 7, 2, 6, 4, 8, 5, 7, 2, 4, 5, 3, 8, 6, 9, 1, 9, 4, 8, 3, 1, 7, 5, 6, 4, 2, 5, 1, 8, 6, 9, 2, 7, 3, 3, 7, 6, 2, 4, 5, 8, 1, 9, 9, 4, 3, 5, 8, 6, 2, 1, 7, 7, 8, 6, 2, 1, 4, 9, 3, 5, 2, 1, 5, 9, 7, 3, 4, 6, 8, 4, 6, 7, 3, 5, 1, 8, 9, 2, 3, 2, 9, 4, 6, 8, 7, 5, 1, 8, 5, 1, 7, 2, 9, 6, 4, 3, 5, 3, 8, 6, 9, 7, 1, 2, 4, 1, 9, 2, 8, 4, 5, 3, 7, 6, 6, 7, 4, 1, 3, 2, 5, 8, 9, 2, 4, 7, 3, 6, 8, 9, 1, 5, 1, 6, 3, 9, 5, 4, 8, 7, 2, 5, 8, 9, 2, 1, 7, 3, 6, 4, 6, 2, 4, 5, 3, 9, 7, 8, 1, 3, 1, 5, 8, 7, 2, 6, 4, 9, 7, 9, 8, 6, 4, 1, 2, 5, 3, 4, 7, 6, 1, 2, 3, 5, 9, 8, 8, 5, 2, 4, 8, 6, 1, 3, 7, 9, 3, 1, 7, 8, 5, 4, 2, 6, 5, 4, 7, 9, 1, 2, 6, 8, 3, 8, 9, 3, 6, 7, 5, 2, 1, 4, 6, 2, 1, 8, 4, 3, 9, 7, 5, 3, 7, 9, 4, 8, 6, 1, 5, 2, 1, 5, 8, 3, 2, 9, 7, 4, 6, 2, 6, 4, 1, 5, 7, 8, 3, 9, 7, 3, 5, 2, 9, 1, 4, 6, 8, 9, 8, 6, 7, 3, 4, 5, 2, 1, 4, 1, 2, 5, 6, 8, 3, 9, 7, 3, 9, 7, 6, 5, 4, 2, 8, 1, 5, 4, 2, 9, 8, 1, 3, 7, 6, 1, 8, 6, 7, 3, 2, 9, 4, 5, 8, 7, 3, 4, 9, 6, 1, 5, 2, 2, 6, 4, 5, 1, 7, 8, 3, 9, 9, 5, 1, 3, 2, 8, 7, 6, 4, 7, 2, 5, 1, 4, 3, 6, 9, 8, 4, 3, 8, 2, 6, 9, 5, 1, 7, 6, 1, 9, 8, 7, 5, 4, 2, 3]\n",
    "\n",
    "predictedStore = [0, 7, 5, 8, 2, 1, 4, 3, 0, 6, 8, 2, 5, 7, 8, 0, 6, 1, 4, 5, 0, 0, 3, 6, 1, 2, 8, 1, 4, 5, 1, 7, 0, 8, 6, 2, 5, 2, 0, 6, 2, 8, 1, 2, 7, 2, 3, 6, 1, 0, 7, 0, 4, 2, 0, 1, 0, 5, 6, 2, 0, 4, 8, 7, 0, 6, 6, 8, 0, 2, 3, 4, 2, 0, 6, 7, 1, 5, 7, 0, 8, 6, 8, 6, 5, 1, 0, 7, 6, 5, 3, 0, 1, 2, 7, 2, 8, 2, 5, 2, 7, 6, 8, 4, 0, 2, 3, 3, 7, 5, 3, 0, 8, 4, 1, 3, 3, 0, 2, 5, 4, 1, 6, 4, 7, 5, 0, 3, 6, 1, 2, 7, 5, 8, 0, 1, 1, 7, 2, 0, 6, 4, 5, 3, 1, 2, 7, 2, 5, 2, 1, 6, 7, 7, 8, 6, 6, 6, 4, 7, 0, 2, 2, 6, 4, 5, 7, 3, 0, 8, 1, 5, 4, 1, 3, 2, 8, 6, 7, 5, 0, 3, 8, 6, 7, 7, 2, 4, 4, 1, 5, 3, 8, 0, 3, 1, 8, 3, 6, 1, 7, 3, 0, 2, 2, 0, 5, 3, 6, 4, 3, 7, 1, 6, 2, 8, 7, 8, 1, 6, 4, 2, 7, 6, 3, 2, 6, 2, 8, 0, 5, 3, 1, 5, 7, 3, 2, 3, 4, 7, 6, 0, 8, 5, 4, 0, 3, 8, 2, 8, 1, 5, 7, 6, 5, 2, 4, 1, 7, 0, 3, 6, 4, 0, 7, 8, 4, 1, 5, 6, 3, 0, 7, 6, 1, 3, 2, 6, 2, 2, 1, 4, 0, 7, 5, 8, 1, 6, 3, 3, 0, 2, 8, 0, 4, 7, 2, 3, 2, 1, 5, 6, 4, 0, 8, 3, 4, 5, 7, 1, 0, 2, 3, 8, 3, 0, 3, 6, 4, 5, 7, 3, 1, 6, 1, 0, 7, 2, 8, 4, 5, 2, 7, 6, 7, 5, 1, 3, 6, 2, 8, 0, 2, 6, 7, 8, 5, 8, 1, 4, 7, 3, 6, 4, 7, 0, 6, 5, 5, 4, 8, 1, 6, 8, 7, 7, 2, 1, 8, 1, 1, 8, 6, 5, 8, 1, 7, 4, 8, 3, 0, 8, 3, 5, 1, 2, 3, 7, 5, 4, 4, 8, 6, 8, 0, 8, 8, 8, 2, 0, 4, 5, 1, 7, 4, 4, 0, 6, 4, 1, 7, 4, 5, 3, 3, 2, 3, 8, 3, 0, 5, 1, 6, 3, 5, 2, 4, 3, 8, 4, 8, 7, 0, 3, 1, 2, 4, 6, 3, 5, 1, 1, 1, 2, 2, 8, 3, 7, 1, 1, 3, 6, 2, 5, 3, 4, 1, 8, 0, 4, 7, 6, 1, 5, 5, 6, 3, 1, 8, 0, 2, 7, 8, 3, 1, 4, 5, 6, 7, 8, 4, 2, 5, 1, 3, 2, 8, 0, 4, 1, 7, 5, 4, 0, 6, 8, 7, 5, 2, 0, 3, 4, 8, 7, 4, 0, 6, 8, 2, 6, 3, 5, 6, 6, 5, 7, 2, 4, 7, 0, 7, 1, 2, 1, 8, 2, 0, 0, 6, 4, 8, 7, 0, 5, 4, 1, 8, 5, 3, 4, 4, 2, 7, 4, 5, 6, 0, 1, 8, 4, 8, 5, 7, 3, 4, 2, 1, 1, 5, 1, 8, 0, 7, 7, 3, 4, 8, 5, 0, 6, 8, 4, 5, 2, 3, 6, 5, 7, 2, 3, 5, 0, 7, 1, 8, 1, 1, 3, 6, 7, 7, 4, 0, 1, 8, 2, 2, 7, 5, 6, 6, 8, 4, 2, 3, 5, 0, 0, 1, 0, 8, 5, 6, 0, 7, 4, 2, 5, 5, 3, 3, 0, 4, 5, 1, 5, 6, 2, 2, 8, 1, 5, 8, 8, 4, 0, 7, 5, 8, 4, 6, 3, 0, 1, 4, 4, 0, 5, 5, 6, 6, 2, 7, 3, 7, 1, 8, 6, 6, 7, 0, 4, 8, 6, 0, 5, 6, 0, 2, 3, 5, 5, 4, 7, 1, 7, 4, 3, 5, 6, 1, 0, 1, 1, 2, 5, 2, 0, 8, 2, 2, 4, 1, 7, 7, 1, 1, 5, 8, 7, 3, 0, 7, 2, 3, 1, 3, 3, 1, 8, 2, 8, 5, 7, 7, 0, 2, 5, 7, 3, 4, 6, 2, 3, 2, 1, 7, 0, 0, 2, 3, 4, 1, 4, 8, 5, 7, 6, 3, 5, 1, 3, 4, 1, 7, 4, 1, 6, 7, 8, 3, 5, 1, 2, 4, 0, 3, 2, 6, 5, 6, 0, 4, 8, 5, 1, 8, 6, 4, 3, 7, 3, 1, 2, 2, 0, 7, 5, 1, 3, 4, 6, 2, 8, 3, 2, 1, 0, 1, 6, 7, 5, 1, 1, 4, 2, 7, 8, 1, 3, 6, 0, 8, 5, 3, 7, 2, 6, 2, 1, 3, 6, 3, 0, 6, 7, 3, 0, 4, 0, 5, 2, 3, 5, 1, 7, 5, 5, 4, 5, 8, 7, 0, 2, 8, 6, 3, 5, 1, 6, 4, 6, 8, 5, 6, 5, 2, 3, 4, 8, 3, 1, 1, 4, 8, 6, 1, 3, 5, 2, 0, 1, 4, 2, 3, 6, 5, 6, 1, 8, 4, 6, 7, 5, 2, 1, 3, 5, 4, 0, 5, 6, 8, 2, 7, 6, 1, 3, 1, 5, 1, 2, 7, 3, 5, 1, 8, 2, 0, 4, 4, 1, 7, 8, 4, 5, 6, 3, 2, 8, 1, 6, 1, 5, 6, 7, 4, 5, 0, 3, 8, 6, 3, 7, 4, 2, 5, 8, 1, 1, 1, 0, 4, 4, 4, 7, 2, 7, 0, 0, 5, 3, 5, 5, 1, 8, 4, 8, 5, 6, 2, 2, 3, 3, 5, 0, 2, 1, 4, 7, 7, 6, 4, 6, 8, 7, 2, 0, 6, 1, 6, 4, 8, 8, 1, 6, 6, 3, 2, 7, 0, 7, 4, 4, 6, 6, 5, 8, 8, 1, 2, 0, 3, 7, 8, 4, 6, 2, 2, 2, 1, 0, 5, 7, 4, 0, 6, 2, 1, 8, 6, 1, 8, 8, 4, 5, 5, 3, 0, 6, 7, 4, 1, 5, 5, 5, 8, 3, 8, 4, 0, 2, 6, 3, 5, 2, 3, 3, 3, 1, 5, 1, 8, 6, 8, 7, 4, 5, 1, 3, 3, 1, 8, 2, 8, 6, 1, 4, 3, 7, 5, 5, 5, 1, 1, 6, 4, 0, 2, 1, 6, 6, 3, 5, 7, 2, 7, 8, 1, 4, 6, 0, 0, 0, 0, 5, 3, 4, 1, 2, 5, 7, 4, 8, 6, 3, 2, 3, 8, 4, 7, 2, 7, 0, 7, 1, 7, 6, 0, 4, 2, 3, 7, 5, 8, 2, 6, 6, 7, 1, 2, 2, 0, 8, 5, 5, 8, 4, 7, 6, 7, 3, 1, 2, 1, 1, 6, 2, 7, 8, 7, 4, 2, 3, 5, 8, 5, 0, 5, 6, 1, 7, 4, 5, 3, 3, 2, 7, 6, 3, 0, 7, 2, 8, 6, 1, 6, 0, 8, 6, 4, 8, 4, 6, 3, 3, 4, 4, 3, 0, 4, 1, 2, 2, 4, 8, 7, 0, 5, 4, 0, 6, 3, 0, 7, 2, 8, 3, 6, 7, 5, 4, 7, 3, 3, 1, 5, 7, 0, 1, 3, 2, 4, 7, 5, 3, 6, 0, 5, 5, 1, 4, 8, 7, 1, 8, 7, 3, 8, 0, 5, 4, 6, 6, 3, 4, 2, 2, 5, 5, 2, 1, 6, 8, 6, 5, 0, 7, 4, 4, 1, 6, 0, 3, 0, 8, 2, 4, 1, 0, 3, 3, 7, 2, 1, 4, 7, 8, 7, 6, 4, 3, 7, 4, 7, 2, 0, 2, 1, 1, 4, 5, 3, 4, 8, 7, 6, 2, 7, 0, 1, 6, 0, 3, 5, 4, 8, 8, 6, 1, 3, 1, 8, 8, 2, 3, 5, 6, 6, 4, 7, 8, 1, 0, 5, 2, 4, 8, 7, 5, 4, 6, 7, 4, 3, 8, 7, 0, 3, 1, 7, 5, 0, 7, 3, 4, 8, 7, 6, 7, 0, 6, 0, 5, 4, 4, 4, 3, 1, 8, 7, 7, 2, 3, 6, 0, 1, 5, 1, 6, 0, 2, 4, 1, 3, 1, 2, 1, 5, 0, 8, 2, 6, 1, 2, 8, 0, 2, 2, 0, 5, 7, 8, 6, 6, 3, 1, 0, 8, 6, 4, 0, 5, 5, 8, 6, 8, 5, 1, 0, 8, 2, 7, 3, 5, 8, 8, 7, 5, 5, 5, 3, 0, 6, 1, 7, 3, 8, 2, 5, 4, 6, 5, 6, 5, 5, 4, 0, 5, 7, 3, 4, 8, 2, 6, 1, 7, 0, 0, 5, 7, 1, 8, 6, 2, 0, 3, 1, 4, 2, 2, 6, 8, 7, 4, 6, 7, 5, 4, 1, 5, 8, 3, 0, 3, 3, 7, 5, 6, 7, 5, 2, 2, 4, 1, 0, 2, 5, 7, 7, 3, 6, 2, 8, 4, 5, 1, 4, 0, 1, 3, 1, 0, 6, 2, 4, 8, 4, 0, 0, 7, 4, 5, 6, 2, 5, 1, 4, 8, 3, 5, 2, 7, 8, 4, 5, 0, 3, 0, 6, 3, 3, 7, 6, 3, 8, 4, 5, 0, 7, 2, 8, 5, 6, 0, 7, 3, 3, 4, 1, 2, 2, 0, 8, 7, 6, 6, 3, 8, 0, 8, 7, 5, 8, 4, 2, 0, 2, 6, 3, 3, 4, 2, 8, 3, 7, 5, 8, 3, 1, 0, 4, 3, 2, 6, 2, 4, 3, 0, 6, 7, 5, 5, 2, 2, 8, 1, 5, 6, 3, 6, 0, 4, 8, 3, 5, 8, 7, 8, 8, 2, 8, 1, 7, 3, 4, 4, 2, 6, 5, 5, 8, 4, 0, 5, 3, 1, 6, 4, 7, 0, 8, 5, 5, 6, 4, 1, 4, 2, 8, 6, 7, 6, 1, 5, 3, 7, 0, 2, 3, 7, 0, 2, 6, 7, 7, 7, 8, 4, 0, 7, 2, 1, 7, 3, 5, 4, 7, 1, 5, 2, 6, 2, 0, 3, 5, 4, 0, 6, 7, 4, 4, 1, 8, 4, 8, 5, 7, 4, 0, 6, 3, 1, 7, 6, 3, 4, 2, 7, 0, 5, 6, 4, 6, 5, 0, 3, 6, 1, 6, 8, 4, 7, 1, 3, 6, 6, 2, 1, 1, 6, 6, 7, 7, 6, 8, 7, 1, 3, 1, 4, 2, 6, 0, 1, 0, 8, 0, 7, 0, 3, 5, 8, 5, 6, 3, 4, 2, 6, 0, 5, 6, 5, 8, 6, 3, 2, 1, 4, 5, 4, 4, 4, 5, 7, 4, 6, 4, 4, 2, 3, 5, 0, 7, 8, 5, 7, 2, 4, 6, 7, 7, 7, 4, 0, 1, 4, 4, 7, 8, 6, 8, 6, 3, 1, 8, 0, 2, 6, 8, 2, 7, 0, 2, 3, 6, 4, 1, 5, 5, 0, 1, 3, 2, 2, 5, 8, 5, 3, 4, 6, 5, 3, 1, 2, 0, 7, 1, 8, 4, 7, 6, 8, 7, 8, 3, 8, 1, 0, 3, 5, 8, 6, 0, 2, 8, 8, 1, 4, 8, 1, 8, 3, 5, 2, 1, 1, 5, 6, 2, 8, 4, 7, 0, 3, 1, 1, 4, 5, 7, 6, 4, 8, 1, 0, 2, 4, 5, 2, 2, 7, 0, 4, 6, 5, 8, 3, 1, 7, 2, 2, 6, 5, 7, 4, 2, 8, 8, 6, 8, 3, 0, 0, 0, 6, 8, 1, 7, 6, 2, 3, 6, 5, 2, 4, 0, 1, 0, 1, 5, 2, 3, 8, 7, 1, 4, 0, 4, 8, 8, 6, 5, 8, 0, 3, 4, 5, 4, 6, 1, 0, 3, 5, 8, 6, 2, 4, 8, 8, 0, 5, 1, 4, 2, 4, 1, 0, 3, 5, 5, 5, 7, 8, 3, 6, 2, 0, 4, 5, 6, 2, 2, 5, 2, 4, 8, 2, 7, 3, 8, 8, 4, 0, 2, 5, 7, 6, 1, 7, 7, 7, 0, 6, 2, 8, 5, 2, 0, 3, 6, 2, 7, 4, 1, 3, 8, 3, 5, 1, 0, 5, 6, 0, 7, 4, 1, 8, 0, 1, 5, 1, 3, 2, 8, 5, 6, 7, 3, 5, 8, 8, 4, 0, 1, 5, 5, 6, 3, 3, 4, 8, 2, 0, 6, 3, 6, 8, 0, 2, 6, 5, 8, 7, 8, 6, 8, 8, 2, 7, 6, 8, 3, 1, 5, 4, 8, 1, 8, 1, 6, 2, 8, 7, 6, 8, 6, 0, 0, 4, 3, 2, 5, 1, 0, 1, 7, 8, 6, 0, 6, 2, 3, 7, 1, 5, 0, 1, 3, 0, 2, 5, 2, 6, 0, 4, 4, 8, 2, 3, 7, 1, 5, 4, 0, 0, 4, 5, 8, 4, 1, 0, 6, 3, 6, 8, 8, 0, 4, 2, 5, 6, 7, 1, 5, 8, 1, 3, 0, 6, 6, 6, 5, 2, 0, 7, 1, 5, 8, 5, 2, 6, 4, 6, 2, 7, 4, 5, 0, 8, 5, 8, 4, 2, 6, 8, 3, 2, 1, 4, 7, 1, 2, 2, 0, 4, 8, 5, 2, 3, 1, 4, 0, 1, 0, 1, 7, 6, 5, 5, 4, 8, 3, 6, 7, 2, 3, 1, 3, 7, 8, 6, 1, 5, 1, 7, 6, 0, 8, 2, 7, 3, 8, 4, 8, 8, 1, 7, 0, 2, 8, 6, 6, 1, 4, 7, 6, 8, 3, 1, 0, 2, 4, 4, 0, 1, 1, 1, 5, 5, 1, 2, 6, 3, 3, 4, 6, 5, 8, 0, 2, 1, 5, 2, 6, 6, 8, 3, 5, 7, 7, 6, 3, 5, 0, 2, 7, 1, 0, 3, 6, 2, 4, 7, 3, 6, 1, 4, 0, 6, 5, 8, 7, 2, 7, 3, 4, 8, 2, 3, 6, 8, 1, 0, 7, 8, 8, 7, 2, 0, 1, 8, 3, 2, 2, 6, 0, 1, 5, 1, 8, 7, 8, 4, 8, 5, 8, 3, 2, 6, 4, 0, 7, 7, 7, 7, 7, 3, 0, 1, 8, 4, 2, 5, 0, 6, 6, 2, 1, 2, 7, 8, 3, 4, 2, 3, 5, 5, 6, 3, 1, 3, 8, 0, 7, 1, 5, 7, 2, 4, 8, 7, 4, 3, 5, 0, 5, 1, 6, 8, 3, 6, 4, 1, 7, 5, 8, 1, 8, 0, 8, 6, 8, 2, 3, 4, 7, 5, 4, 1, 0, 5, 6, 3, 3, 2, 2, 4, 8, 5, 6, 0, 1, 7, 5, 3, 8, 4, 8, 0, 2, 6, 3, 0, 6, 0, 5, 0, 1, 8, 3, 4, 0, 3, 6, 7, 2, 6, 4, 5, 8, 0, 1, 7, 7, 5, 6, 3, 4, 7, 0]\n",
    "\n",
    "solutionStore = [3, 7, 8, 4, 2, 1, 6, 5, 0, 6, 0, 2, 3, 7, 5, 4, 8, 1, 4, 5, 1, 8, 0, 6, 7, 2, 3, 1, 4, 7, 2, 3, 0, 8, 6, 5, 5, 2, 0, 6, 4, 8, 1, 3, 7, 8, 3, 6, 1, 5, 7, 0, 4, 2, 0, 1, 4, 5, 6, 2, 3, 7, 8, 7, 6, 5, 0, 8, 3, 2, 1, 4, 2, 8, 3, 7, 1, 4, 5, 0, 6, 4, 8, 2, 5, 6, 1, 0, 3, 7, 5, 0, 1, 3, 7, 2, 8, 4, 6, 3, 7, 6, 8, 4, 0, 2, 1, 5, 7, 5, 4, 0, 8, 3, 6, 2, 1, 0, 2, 8, 6, 1, 5, 3, 7, 4, 6, 1, 3, 4, 2, 7, 5, 8, 0, 1, 3, 7, 2, 0, 6, 4, 5, 8, 2, 4, 0, 7, 5, 8, 1, 6, 3, 8, 6, 5, 1, 3, 4, 7, 0, 2, 1, 2, 6, 3, 7, 4, 0, 5, 8, 3, 4, 5, 0, 2, 8, 6, 7, 1, 0, 7, 8, 6, 1, 5, 2, 3, 4, 2, 5, 0, 4, 3, 6, 1, 8, 7, 6, 1, 3, 2, 8, 7, 4, 0, 5, 7, 8, 4, 1, 5, 0, 3, 2, 6, 8, 0, 1, 5, 6, 2, 7, 4, 3, 4, 6, 7, 8, 0, 3, 5, 1, 2, 5, 3, 2, 7, 4, 1, 8, 6, 0, 1, 4, 2, 3, 5, 0, 7, 6, 8, 7, 6, 8, 2, 4, 1, 5, 0, 3, 5, 3, 0, 7, 8, 6, 1, 4, 2, 6, 0, 7, 4, 2, 8, 3, 5, 1, 3, 1, 4, 0, 7, 5, 8, 2, 6, 8, 2, 5, 6, 1, 3, 4, 7, 0, 2, 7, 1, 8, 6, 4, 0, 3, 5, 4, 5, 3, 1, 0, 2, 6, 8, 7, 0, 8, 6, 5, 3, 7, 2, 1, 4, 8, 0, 1, 2, 3, 4, 5, 6, 7, 2, 3, 5, 1, 6, 7, 4, 8, 0, 4, 6, 7, 5, 8, 0, 1, 3, 2, 3, 2, 4, 6, 0, 1, 7, 5, 8, 5, 1, 6, 4, 7, 8, 2, 0, 3, 0, 7, 8, 3, 5, 2, 6, 1, 4, 6, 4, 0, 7, 1, 3, 8, 2, 5, 7, 5, 3, 8, 2, 6, 0, 4, 1, 1, 8, 2, 0, 4, 5, 3, 7, 6, 8, 1, 6, 3, 5, 7, 0, 2, 4, 7, 2, 4, 8, 6, 0, 5, 1, 3, 3, 5, 0, 1, 4, 2, 8, 6, 7, 0, 3, 8, 2, 7, 6, 4, 5, 1, 2, 4, 5, 0, 8, 1, 3, 7, 6, 1, 6, 7, 5, 3, 4, 2, 8, 0, 4, 8, 1, 6, 0, 5, 7, 3, 2, 5, 0, 2, 7, 1, 3, 6, 4, 8, 6, 7, 3, 4, 2, 8, 1, 0, 5, 8, 3, 2, 4, 7, 5, 1, 0, 6, 6, 7, 5, 1, 0, 3, 8, 2, 4, 1, 0, 4, 8, 6, 2, 3, 5, 7, 3, 5, 6, 2, 4, 0, 7, 8, 1, 2, 1, 8, 3, 5, 7, 6, 4, 0, 7, 4, 0, 6, 1, 8, 5, 3, 2, 4, 2, 7, 5, 8, 6, 0, 1, 3, 0, 8, 1, 7, 3, 4, 2, 6, 5, 5, 6, 3, 0, 2, 1, 4, 7, 8, 5, 0, 6, 1, 4, 8, 2, 3, 7, 7, 1, 2, 3, 0, 5, 4, 6, 8, 3, 8, 4, 6, 7, 2, 5, 0, 1, 8, 2, 1, 0, 5, 3, 6, 7, 4, 4, 3, 5, 7, 6, 1, 0, 8, 2, 6, 7, 0, 8, 2, 4, 1, 5, 3, 0, 4, 7, 2, 8, 6, 3, 1, 5, 1, 5, 8, 4, 3, 0, 7, 2, 6, 2, 6, 3, 5, 1, 7, 8, 4, 0, 5, 4, 6, 2, 3, 7, 0, 1, 8, 1, 8, 7, 0, 4, 6, 3, 2, 5, 3, 0, 2, 5, 1, 8, 4, 7, 6, 7, 3, 8, 4, 6, 0, 2, 5, 1, 2, 5, 0, 1, 8, 3, 6, 4, 7, 6, 1, 4, 7, 5, 2, 8, 3, 0, 0, 2, 3, 6, 7, 5, 1, 8, 4, 8, 7, 1, 3, 0, 4, 5, 6, 2, 4, 6, 5, 8, 2, 1, 7, 0, 3, 2, 4, 0, 7, 3, 8, 1, 5, 6, 1, 5, 3, 6, 4, 2, 7, 0, 8, 6, 7, 8, 0, 5, 1, 2, 4, 3, 3, 2, 1, 5, 6, 0, 4, 8, 7, 5, 8, 6, 4, 2, 7, 3, 1, 0, 4, 0, 7, 8, 1, 3, 5, 6, 2, 8, 3, 2, 1, 0, 4, 6, 7, 5, 7, 6, 4, 2, 8, 5, 0, 3, 1, 0, 1, 5, 3, 7, 6, 8, 2, 4, 1, 3, 6, 2, 5, 7, 8, 0, 4, 0, 5, 2, 8, 4, 3, 7, 6, 1, 4, 7, 8, 1, 0, 6, 2, 5, 3, 5, 1, 3, 4, 2, 8, 6, 7, 0, 2, 0, 4, 7, 6, 1, 5, 3, 8, 6, 8, 7, 5, 3, 0, 1, 4, 2, 3, 6, 5, 0, 1, 2, 4, 8, 7, 7, 4, 1, 3, 8, 5, 0, 2, 6, 8, 2, 0, 6, 7, 4, 3, 1, 5, 6, 2, 3, 4, 1, 8, 5, 7, 0, 4, 0, 8, 7, 3, 5, 6, 1, 2, 7, 5, 1, 0, 6, 2, 3, 4, 8, 0, 3, 4, 6, 7, 1, 8, 2, 5, 8, 1, 6, 5, 2, 0, 4, 3, 7, 2, 7, 5, 8, 4, 3, 0, 6, 1, 1, 4, 0, 3, 5, 7, 2, 8, 6, 5, 6, 2, 1, 8, 4, 7, 0, 3, 3, 8, 7, 2, 0, 6, 1, 5, 4, 8, 6, 0, 1, 5, 3, 2, 7, 4, 7, 4, 3, 6, 2, 0, 5, 8, 1, 1, 5, 2, 7, 8, 4, 6, 3, 0, 4, 8, 1, 0, 7, 5, 3, 6, 2, 5, 2, 6, 3, 1, 8, 4, 0, 7, 3, 0, 7, 2, 4, 6, 1, 5, 8, 6, 3, 8, 4, 0, 2, 7, 1, 5, 2, 1, 5, 8, 3, 7, 0, 4, 6, 0, 7, 4, 5, 6, 1, 8, 2, 3, 2, 8, 6, 5, 4, 3, 1, 7, 0, 4, 3, 1, 8, 7, 0, 2, 6, 5, 0, 7, 5, 6, 2, 1, 8, 3, 4, 7, 6, 2, 3, 8, 5, 0, 4, 1, 1, 5, 3, 4, 0, 6, 7, 2, 8, 8, 4, 0, 2, 1, 7, 6, 5, 3, 6, 1, 4, 0, 3, 2, 5, 8, 7, 3, 2, 7, 1, 5, 8, 4, 0, 6, 5, 0, 8, 7, 6, 4, 3, 1, 2, 1, 0, 6, 2, 5, 8, 7, 3, 4, 3, 7, 8, 4, 0, 6, 5, 1, 2, 4, 5, 2, 3, 1, 7, 8, 6, 0, 7, 2, 4, 5, 6, 1, 0, 8, 3, 0, 8, 5, 7, 2, 3, 1, 4, 6, 6, 3, 1, 0, 8, 4, 2, 7, 5, 5, 1, 3, 6, 7, 0, 4, 2, 8, 2, 6, 7, 8, 4, 5, 3, 0, 1, 8, 4, 0, 1, 3, 2, 6, 5, 7, 3, 6, 0, 8, 2, 1, 5, 4, 7, 1, 5, 7, 3, 4, 0, 2, 6, 8, 8, 2, 4, 7, 6, 5, 0, 3, 1, 5, 8, 2, 4, 0, 7, 6, 1, 3, 7, 1, 3, 6, 5, 8, 4, 2, 0, 0, 4, 6, 2, 1, 3, 7, 8, 5, 6, 3, 5, 0, 8, 4, 1, 7, 2, 4, 7, 1, 5, 3, 2, 8, 0, 6, 2, 0, 8, 1, 7, 6, 3, 5, 4, 0, 8, 4, 1, 3, 6, 5, 7, 2, 3, 6, 5, 2, 4, 7, 8, 1, 0, 1, 2, 7, 8, 0, 5, 4, 6, 3, 4, 7, 8, 6, 2, 3, 1, 0, 5, 2, 5, 3, 0, 8, 1, 6, 4, 7, 6, 1, 0, 5, 7, 4, 3, 2, 8, 8, 4, 2, 3, 1, 0, 7, 5, 6, 7, 0, 6, 4, 5, 8, 2, 3, 1, 5, 3, 1, 7, 6, 2, 0, 8, 4, 2, 7, 0, 5, 3, 8, 4, 6, 1, 1, 4, 8, 6, 7, 2, 0, 5, 3, 6, 3, 5, 4, 0, 1, 2, 7, 8, 8, 2, 4, 7, 6, 5, 1, 3, 0, 0, 1, 7, 2, 8, 3, 5, 4, 6, 5, 6, 3, 1, 4, 0, 8, 2, 7, 4, 8, 2, 3, 1, 7, 6, 0, 5, 7, 5, 1, 0, 2, 6, 3, 8, 4, 3, 0, 6, 8, 5, 4, 7, 1, 2, 4, 6, 3, 8, 5, 0, 1, 2, 7, 8, 0, 7, 2, 1, 6, 4, 3, 5, 1, 5, 2, 7, 3, 4, 6, 8, 0, 5, 7, 1, 0, 2, 3, 8, 4, 6, 3, 2, 8, 4, 6, 5, 7, 0, 1, 6, 4, 0, 1, 7, 8, 3, 5, 2, 7, 8, 4, 5, 0, 1, 2, 6, 3, 0, 1, 6, 3, 4, 2, 5, 7, 8, 2, 3, 5, 6, 8, 7, 0, 1, 4, 1, 4, 8, 0, 2, 6, 5, 7, 3, 3, 5, 0, 7, 1, 8, 4, 6, 2, 2, 6, 7, 3, 4, 5, 8, 1, 0, 5, 8, 2, 1, 0, 4, 7, 3, 6, 0, 3, 4, 2, 6, 7, 1, 8, 5, 6, 7, 1, 5, 8, 3, 2, 0, 4, 4, 1, 5, 6, 7, 0, 3, 2, 8, 7, 0, 3, 8, 5, 2, 6, 4, 1, 8, 2, 6, 4, 3, 1, 0, 5, 7, 0, 5, 4, 3, 8, 7, 1, 6, 2, 8, 6, 7, 2, 1, 5, 3, 4, 0, 2, 3, 1, 0, 4, 6, 5, 8, 7, 3, 4, 6, 8, 0, 1, 7, 2, 5, 1, 7, 8, 5, 3, 2, 6, 0, 4, 5, 2, 0, 6, 7, 4, 8, 1, 3, 6, 8, 2, 7, 5, 0, 4, 3, 1, 7, 1, 3, 4, 2, 8, 0, 5, 6, 4, 0, 5, 1, 6, 3, 2, 7, 8, 6, 7, 8, 3, 0, 4, 2, 1, 5, 1, 0, 5, 7, 2, 8, 6, 4, 3, 3, 4, 2, 6, 1, 5, 7, 8, 0, 7, 8, 6, 0, 5, 2, 1, 3, 4, 5, 3, 0, 4, 7, 1, 8, 2, 6, 2, 1, 4, 8, 3, 6, 0, 5, 7, 4, 6, 7, 1, 8, 3, 5, 0, 2, 8, 5, 3, 2, 6, 0, 4, 7, 1, 0, 2, 1, 5, 4, 7, 3, 6, 8, 4, 3, 6, 8, 0, 1, 5, 7, 2, 7, 8, 2, 5, 6, 4, 1, 0, 3, 5, 1, 0, 7, 3, 2, 8, 6, 4, 2, 6, 8, 3, 7, 5, 0, 4, 1, 0, 4, 7, 2, 1, 8, 6, 3, 5, 1, 5, 3, 0, 4, 6, 7, 2, 8, 6, 2, 4, 1, 8, 0, 3, 5, 7, 8, 7, 5, 6, 2, 3, 4, 1, 0, 3, 0, 1, 4, 5, 7, 2, 8, 6, 1, 0, 3, 4, 2, 7, 6, 5, 8, 4, 6, 5, 8, 3, 1, 2, 0, 7, 8, 2, 7, 0, 5, 6, 3, 1, 4, 3, 4, 8, 2, 6, 0, 1, 7, 5, 6, 1, 0, 5, 7, 4, 8, 2, 3, 7, 5, 2, 3, 1, 8, 4, 6, 0, 5, 8, 6, 7, 4, 2, 0, 3, 1, 2, 7, 4, 1, 0, 3, 5, 8, 6, 0, 3, 1, 6, 8, 5, 7, 4, 2, 2, 1, 0, 3, 6, 8, 5, 7, 4, 3, 7, 8, 0, 4, 5, 2, 6, 1, 5, 6, 4, 1, 2, 7, 3, 8, 0, 4, 8, 2, 5, 7, 6, 1, 0, 3, 1, 5, 3, 2, 8, 0, 6, 4, 7, 6, 0, 7, 4, 1, 3, 8, 2, 5, 7, 2, 5, 6, 0, 1, 4, 3, 8, 0, 4, 1, 8, 3, 2, 7, 5, 6, 8, 3, 6, 7, 5, 4, 0, 1, 2, 7, 6, 8, 5, 4, 3, 2, 0, 1, 3, 4, 1, 0, 2, 8, 5, 7, 6, 5, 0, 2, 6, 1, 7, 4, 8, 3, 8, 5, 4, 3, 7, 6, 0, 1, 2, 0, 7, 6, 2, 8, 1, 3, 4, 5, 2, 1, 3, 4, 0, 5, 8, 6, 7, 6, 8, 0, 7, 3, 2, 1, 5, 4, 4, 2, 5, 1, 6, 0, 7, 3, 8, 1, 3, 7, 8, 5, 4, 6, 2, 0, 5, 6, 2, 1, 7, 4, 3, 8, 0, 7, 0, 4, 8, 2, 3, 6, 1, 5, 8, 1, 3, 0, 6, 5, 4, 7, 2, 0, 5, 1, 7, 8, 6, 2, 3, 4, 3, 2, 7, 4, 1, 0, 8, 5, 6, 4, 8, 6, 5, 3, 2, 1, 0, 7, 1, 7, 0, 6, 4, 8, 5, 2, 3, 2, 4, 5, 3, 0, 1, 7, 6, 8, 6, 3, 8, 2, 5, 7, 0, 4, 1, 3, 4, 1, 8, 0, 5, 6, 7, 2, 5, 7, 2, 1, 3, 6, 4, 0, 8, 6, 8, 0, 2, 4, 7, 5, 1, 3, 7, 6, 8, 3, 1, 0, 2, 4, 5, 0, 1, 3, 4, 5, 2, 7, 8, 6, 2, 5, 4, 6, 7, 8, 0, 3, 1, 1, 0, 7, 5, 6, 3, 8, 2, 4, 8, 3, 5, 0, 2, 4, 1, 6, 7, 4, 2, 6, 7, 8, 1, 3, 5, 0, 3, 5, 8, 6, 7, 2, 1, 4, 0, 2, 1, 6, 5, 4, 0, 7, 8, 3, 7, 0, 4, 1, 8, 3, 2, 5, 6, 0, 2, 5, 8, 1, 7, 3, 6, 4, 8, 7, 3, 2, 6, 4, 0, 1, 5, 6, 4, 1, 3, 0, 5, 8, 7, 2, 5, 6, 7, 0, 2, 1, 4, 3, 8, 4, 3, 2, 7, 5, 8, 6, 0, 1, 1, 8, 0, 4, 3, 6, 5, 2, 7, 8, 1, 7, 3, 5, 0, 4, 2, 6, 5, 3, 6, 4, 2, 7, 0, 1, 8, 4, 0, 2, 6, 8, 1, 3, 5, 7, 7, 6, 1, 0, 4, 5, 8, 3, 2, 2, 4, 8, 7, 3, 6, 1, 0, 5, 3, 5, 0, 8, 1, 2, 6, 7, 4, 6, 2, 5, 1, 0, 8, 7, 4, 3, 0, 7, 3, 2, 6, 4, 5, 8, 1, 1, 8, 4, 5, 7, 3, 2, 6, 0]\n",
    "\n",
    "pred = [4, 8, 9, 5, 3, 2, 7, 6, 1, 7, 1, 3, 4, 8, 6, 5, 9, 2, 5, 6, 2, 9, 1, 7, 8, 3, 4, 2, 5, 8, 3, 4, 1, 9, 7, 6, 6, 3, 1, 7, 5, 9, 2, 4, 8, 9, 4, 7, 2, 6, 8, 1, 5, 3, 1, 2, 5, 6, 7, 3, 4, 8, 9, 8, 7, 6, 1, 9, 4, 3, 2, 5, 3, 9, 4, 8, 2, 5, 6, 1, 7, 3, 5, 1, 8, 4, 9, 2, 6, 7, 2, 6, 4, 7, 5, 3, 8, 1, 9, 7, 8, 9, 1, 6, 2, 3, 5, 4, 4, 3, 2, 6, 7, 1, 5, 9, 8, 6, 9, 7, 5, 3, 8, 4, 2, 1, 5, 1, 8, 9, 2, 4, 6, 7, 3, 9, 4, 3, 2, 1, 5, 7, 8, 6, 8, 7, 5, 3, 9, 6, 1, 4, 2, 1, 2, 6, 4, 8, 7, 9, 3, 5, 9, 2, 8, 4, 6, 1, 5, 3, 7, 6, 4, 7, 5, 3, 8, 1, 2, 9, 5, 1, 3, 7, 9, 2, 4, 6, 8, 8, 7, 2, 1, 5, 6, 9, 4, 3, 3, 5, 9, 8, 4, 7, 2, 1, 6, 4, 6, 1, 9, 2, 3, 7, 8, 5, 7, 3, 6, 2, 1, 9, 8, 5, 4, 1, 8, 4, 3, 7, 5, 6, 9, 2, 2, 9, 5, 6, 8, 4, 3, 7, 1, 1, 6, 5, 4, 9, 8, 2, 7, 3, 9, 7, 8, 3, 2, 6, 4, 5, 1, 3, 4, 2, 1, 5, 7, 6, 9, 8, 4, 5, 7, 9, 1, 2, 8, 3, 6, 2, 8, 9, 6, 4, 3, 7, 1, 5, 6, 3, 1, 7, 8, 5, 9, 2, 4, 7, 9, 3, 8, 6, 1, 5, 4, 2, 8, 2, 4, 5, 3, 9, 1, 6, 7, 5, 1, 6, 2, 7, 4, 3, 8, 9, 6, 7, 3, 2, 8, 5, 4, 9, 1, 8, 1, 5, 9, 3, 4, 7, 2, 6, 9, 2, 4, 1, 7, 6, 5, 8, 3, 1, 6, 2, 8, 9, 7, 3, 4, 5, 4, 3, 8, 5, 2, 1, 9, 6, 7, 5, 9, 7, 6, 4, 3, 2, 1, 8, 2, 8, 1, 7, 5, 9, 6, 3, 4, 3, 5, 6, 4, 1, 2, 8, 7, 9, 7, 4, 9, 3, 6, 8, 1, 5, 2, 8, 2, 1, 4, 7, 6, 3, 8, 5, 4, 3, 5, 1, 5, 9, 6, 7, 2, 6, 7, 5, 2, 3, 8, 4, 9, 1, 5, 9, 3, 6, 8, 7, 2, 1, 4, 2, 6, 4, 3, 9, 1, 7, 5, 8, 7, 1, 8, 5, 2, 4, 9, 3, 6, 3, 8, 6, 7, 1, 2, 5, 4, 9, 1, 5, 2, 9, 4, 3, 8, 6, 7, 9, 4, 7, 8, 6, 5, 1, 2, 3, 5, 7, 2, 9, 6, 1, 4, 3, 8, 9, 4, 8, 3, 2, 7, 5, 1, 6, 1, 6, 3, 8, 4, 5, 7, 9, 2, 6, 3, 5, 1, 8, 4, 9, 2, 7, 4, 2, 9, 6, 7, 3, 8, 5, 4, 7, 8, 1, 2, 5, 9, 1, 6, 3, 8, 9, 4, 5, 1, 6, 3, 7, 1, 2, 5, 7, 4, 3, 2, 6, 8, 9, 3, 1, 6, 7, 9, 8, 2, 4, 5, 4, 5, 1, 2, 9, 6, 7, 8, 3, 7, 9, 3, 1, 4, 8, 5, 2, 6, 6, 2, 8, 3, 7, 5, 4, 1, 9, 8, 7, 9, 4, 2, 1, 3, 6, 5, 1, 4, 2, 6, 5, 3, 8, 9, 7, 3, 6, 5, 7, 8, 9, 1, 4, 2, 2, 1, 7, 9, 1, 4, 6, 3, 8, 9, 8, 6, 1, 3, 7, 2, 5, 4, 5, 3, 4, 8, 6, 2, 9, 7, 1, 6, 1, 7, 2, 5, 9, 3, 4, 8, 8, 2, 3, 4, 1, 6, 5, 7, 9, 4, 9, 5, 7, 8, 3, 6, 1, 2, 9, 3, 2, 1, 6, 4, 7, 8, 5, 5, 4, 6, 8, 7, 2, 1, 9, 3, 7, 8, 1, 9, 3, 5, 2, 6, 4, 1, 5, 8, 3, 9, 7, 4, 2, 6, 2, 6, 9, 5, 4, 1, 8, 3, 7, 3, 7, 4, 6, 2, 8, 9, 5, 1, 2, 3, 7, 4, 8, 5, 1, 6, 9, 4, 5, 6, 1, 3, 9, 7, 8, 2, 1, 8, 9, 7, 2, 6, 3, 4, 5, 3, 6, 1, 5, 4, 7, 2, 9, 8, 7, 2, 4, 3, 9, 8, 5, 1, 6, 8, 9, 5, 2, 6, 1, 4, 3, 7, 9, 1, 2, 6, 7, 3, 8, 5, 4, 5, 7, 8, 9, 1, 4, 6, 2, 3, 6, 4, 3, 8, 5, 2, 9, 7, 1, 2, 5, 7, 4, 6, 8, 1, 3, 9, 4, 3, 8, 9, 7, 1, 6, 2, 5, 9, 6, 1, 2, 5, 3, 4, 7, 8, 1, 4, 9, 3, 8, 7, 5, 6, 2, 6, 8, 5, 1, 9, 2, 3, 8, 4, 3, 7, 2, 6, 4, 5, 7, 9, 1, 5, 2, 6, 7, 1, 9, 8, 4, 3, 7, 1, 3, 8, 2, 4, 9, 5, 6, 8, 9, 4, 5, 3, 6, 2, 1, 7, 2, 1, 4, 3, 9, 5, 6, 7, 8, 5, 3, 6, 2, 7, 8, 4, 9, 1, 8, 7, 9, 6, 4, 1, 2, 5, 3, 4, 9, 2, 5, 1, 3, 8, 6, 7, 6, 5, 7, 9, 8, 4, 3, 1, 2, 3, 1, 8, 7, 6, 2, 9, 4, 5, 7, 4, 1, 8, 2, 9, 5, 3, 6, 8, 6, 5, 4, 3, 7, 1, 2, 9, 9, 2, 3, 1, 5, 6, 7, 8, 4, 2, 5, 9, 1, 3, 7, 3, 8, 4, 4, 6, 1, 8, 2, 9, 5, 7, 6, 3, 7, 8, 4, 5, 6, 9, 2, 1, 6, 9, 7, 2, 1, 5, 8, 4, 3, 1, 4, 5, 3, 7, 8, 2, 6, 9, 8, 3, 2, 6, 9, 4, 7, 1, 5, 5, 2, 6, 9, 8, 1, 4, 3, 7, 7, 8, 4, 5, 6, 3, 1, 9, 2, 9, 1, 3, 7, 4, 2, 6, 5, 8, 4, 7, 1, 9, 6, 2, 3, 5, 8, 2, 3, 8, 4, 1, 1, 6, 7, 9, 9, 6, 5, 8, 7, 3, 1, 4, 2, 6, 9, 3, 5, 1, 8, 7, 2, 4, 8, 2, 4, 7, 9, 6, 5, 3, 1, 1, 5, 7, 3, 2, 4, 8, 9, 6, 7, 4, 6, 1, 5, 9, 2, 8, 3, 5, 8, 2, 6, 3, 4, 9, 1, 7, 3, 1, 9, 2, 8, 7, 4, 6, 5, 2, 1, 4, 5, 3, 8, 7, 6, 9, 5, 7, 6, 9, 4, 2, 3, 1, 8, 9, 3, 8, 7, 6, 1, 4, 2, 5, 4, 5, 9, 1, 7, 3, 2, 8, 6, 7, 2, 1, 6, 8, 5, 9, 3, 4, 8, 6, 3, 4, 2, 9, 5, 7, 1, 6, 9, 7, 3, 5, 8, 1, 4, 2, 3, 8, 5, 2, 1, 4, 6, 9, 7, 1, 4, 2, 7, 9, 6, 8, 5, 3, 7, 3, 4, 5, 2, 9, 6, 8, 1, 5, 9, 8, 4, 1, 6, 7, 2, 3, 2, 6, 1, 8, 7, 3, 9, 5, 4, 1, 2, 5, 7, 9, 8, 4, 3, 6, 9, 4, 6, 1, 3, 2, 5, 7, 8, 3, 8, 7, 6, 5, 4, 1, 9, 2, 4, 5, 2, 9, 8, 7, 3, 1, 7, 6, 1, 3, 2, 4, 5, 8, 6, 9, 8, 7, 9, 3, 1, 6, 2, 4, 5, 8, 2, 1, 6, 5, 4, 3, 1, 7, 4, 5, 9, 1, 3, 7, 6, 2, 8, 6, 7, 3, 6, 2, 8, 5, 9, 4, 2, 6, 5, 7, 1, 9, 4, 8, 3, 9, 8, 7, 3, 1, 6, 2, 5, 1, 3, 1, 4, 5, 8, 2, 9, 7, 6, 7, 9, 2, 8, 4, 3, 1, 6, 5, 5, 3, 6, 2, 7, 1, 8, 4, 9, 1, 4, 8, 9, 6, 5, 7, 3, 2, 2, 9, 5, 1, 4, 7, 6, 3, 3, 4, 7, 6, 3, 5, 8, 9, 2, 1, 1, 3, 8, 9, 6, 2, 5, 7, 4, 5, 8, 9, 7, 1, 4, 2, 3, 6, 3, 2, 4, 8, 9, 6, 7, 1, 5, 7, 6, 1, 2, 3, 5, 4, 8, 9, 9, 5, 3, 4, 2, 1, 8, 6, 7, 8, 1, 7, 5, 8, 9, 3, 4, 2, 6, 4, 2, 6, 7, 3, 1, 5, 8, 6, 5, 7, 3, 4, 8, 1, 2, 9, 2, 9, 8, 7, 5, 1, 3, 4, 6, 4, 1, 3, 6, 2, 9, 7, 8, 5, 8, 4, 5, 1, 7, 3, 9, 6, 2, 7, 6, 1, 2, 9, 4, 8, 5, 3, 3, 2, 9, 8, 6, 5, 4, 7, 1, 1, 3, 4, 5, 8, 6, 2, 9, 7, 9, 8, 2, 4, 1, 7, 6, 3, 8, 5, 7, 6, 9, 3, 2, 4, 1, 4, 2, 1, 7, 3, 6, 9, 8, 4, 5, 4, 8, 9, 5, 1, 7, 6, 2, 3, 5, 6, 3, 4, 2, 8, 9, 7, 1, 8, 3, 5, 6, 7, 2, 1, 9, 4, 1, 9, 6, 8, 3, 4, 2, 5, 7, 7, 4, 2, 1, 9, 5, 3, 8, 6, 6, 2, 4, 7, 8, 1, 5, 3, 9, 3, 7, 8, 9, 5, 6, 4, 1, 2, 9, 5, 1, 2, 4, 3, 7, 6, 8, 3, 8, 1, 6, 4, 9, 5, 2, 7, 2, 5, 9, 7, 3, 8, 1, 6, 4, 7, 4, 6, 5, 1, 2, 3, 8, 9, 9, 3, 5, 8, 6, 5, 7, 4, 1, 1, 2, 8, 4, 9, 3, 6, 5, 2, 6, 7, 4, 2, 5, 1, 9, 3, 8, 5, 9, 3, 1, 2, 4, 8, 7, 6, 8, 1, 2, 3, 7, 6, 4, 9, 5, 4, 6, 7, 9, 8, 5, 2, 1, 3, 7, 8, 9, 4, 1, 5, 3, 2, 6, 2, 1, 6, 8, 3, 9, 7, 5, 4, 4, 5, 3, 7, 2, 6, 8, 9, 1, 8, 9, 7, 1, 6, 3, 2, 4, 5, 6, 4, 1, 5, 8, 2, 9, 3, 7, 3, 2, 5, 9, 4, 7, 1, 6, 8, 5, 7, 8, 2, 9, 4, 6, 1, 3, 9, 6, 4, 3, 7, 1, 5, 8, 2, 1, 3, 2, 6, 5, 8, 4, 7, 9, 2, 7, 1, 2, 6, 4, 3, 8, 5, 8, 5, 4, 7, 3, 1, 6, 9, 2, 6, 9, 3, 8, 9, 5, 7, 4, 1, 5, 2, 6, 1, 8, 9, 4, 7, 3, 9, 3, 7, 4, 2, 6, 5, 1, 8, 4, 1, 8, 3, 5, 7, 2, 6, 9, 7, 4, 9, 5, 1, 3, 8, 2, 6, 3, 6, 2, 9, 4, 8, 1, 5, 7, 1, 8, 5, 6, 7, 2, 9, 3, 4, 4, 6, 9, 7, 8, 3, 2, 5, 1, 3, 2, 7, 6, 5, 1, 8, 9, 4, 8, 1, 5, 2, 9, 4, 3, 6, 7, 1, 3, 6, 9, 2, 8, 4, 7, 5, 9, 8, 4, 3, 7, 5, 1, 2, 6, 7, 5, 2, 4, 1, 6, 9, 8, 3, 6, 7, 8, 1, 3, 2, 5, 4, 9, 5, 4, 3, 8, 6, 9, 7, 1, 2, 2, 9, 1, 5, 4, 7, 6, 3, 8, 2, 5, 3, 4, 6, 1, 8, 7, 9, 8, 7, 9, 3, 5, 2, 6, 1, 4, 6, 4, 1, 8, 9, 7, 2, 3, 5, 9, 1, 8, 5, 2, 4, 7, 6, 3, 7, 3, 5, 1, 8, 6, 9, 4, 2, 4, 2, 6, 7, 3, 9, 5, 8, 1, 3, 8, 2, 9, 7, 5, 1, 5, 6, 5, 6, 4, 2, 1, 3, 4, 9, 8, 1, 9, 7, 6, 4, 8, 3, 2, 7, 5, 9, 3, 6, 7, 2, 1, 4, 8, 6, 1, 2, 4, 8, 3, 9, 5, 7, 4, 8, 7, 9, 5, 1, 3, 2, 6, 8, 6, 5, 1, 9, 4, 7, 3, 2, 1, 3, 9, 7, 2, 6, 4, 8, 5, 7, 2, 4, 5, 3, 8, 6, 9, 1, 2, 4, 8, 3, 1, 7, 5, 6, 9, 3, 5, 1, 8, 6, 9, 2, 7, 4, 9, 7, 6, 2, 4, 5, 8, 1, 3, 9, 4, 3, 5, 8, 6, 2, 1, 7, 7, 8, 6, 2, 1, 4, 9, 3, 5, 2, 1, 5, 9, 7, 3, 4, 6, 8, 4, 6, 7, 3, 5, 1, 8, 9, 2, 3, 2, 9, 4, 6, 8, 7, 5, 1, 8, 5, 1, 7, 2, 9, 6, 4, 3, 5, 3, 8, 6, 9, 7, 1, 2, 4, 1, 9, 2, 8, 4, 5, 3, 7, 6, 6, 7, 4, 1, 3, 2, 5, 8, 9, 2, 4, 7, 3, 6, 8, 9, 1, 5, 1, 6, 3, 9, 5, 7, 8, 2, 5, 5, 8, 9, 2, 1, 4, 7, 6, 4, 6, 2, 4, 5, 7, 9, 3, 8, 1, 3, 1, 5, 8, 4, 2, 6, 7, 9, 7, 9, 8, 6, 3, 1, 4, 5, 2, 4, 7, 6, 1, 2, 3, 5, 9, 8, 8, 5, 2, 4, 9, 6, 1, 3, 7, 9, 3, 1, 7, 8, 5, 2, 4, 6, 5, 4, 7, 9, 1, 2, 6, 8, 3, 8, 9, 3, 6, 7, 5, 2, 1, 4, 6, 2, 1, 8, 4, 3, 9, 7, 5, 3, 7, 9, 4, 8, 6, 1, 5, 2, 1, 5, 8, 3, 2, 9, 7, 4, 6, 2, 6, 4, 1, 5, 7, 8, 3, 9, 7, 3, 5, 2, 9, 1, 4, 6, 8, 9, 8, 6, 7, 3, 4, 5, 2, 1, 4, 1, 2, 5, 6, 8, 3, 9, 7, 3, 9, 7, 6, 5, 4, 2, 8, 1, 5, 4, 2, 9, 8, 1, 3, 7, 6, 1, 8, 6, 7, 3, 2, 9, 4, 5, 8, 7, 3, 4, 9, 6, 1, 5, 2, 2, 6, 4, 5, 1, 7, 8, 3, 9, 9, 5, 1, 3, 2, 8, 7, 6, 4, 7, 2, 5, 1, 4, 3, 6, 9, 8, 4, 3, 8, 2, 6, 9, 5, 1, 7, 6, 1, 9, 8, 7, 5, 4, 2, 3]"
   ]
  },
  {
   "cell_type": "code",
   "execution_count": 16,
   "metadata": {
    "scrolled": true
   },
   "outputs": [
    {
     "name": "stdout",
     "output_type": "stream",
     "text": [
      "Confusion matrix, without normalization\n",
      "[[237   9   5   2   1   4   4   5   3]\n",
      " [ 11 223   5  10   5   8   3   2   3]\n",
      " [  3   6 232   4   3   6   7   7   2]\n",
      " [  6   6   6 228   4   0   9   2   9]\n",
      " [  3   3   2   3 238   3   7   6   5]\n",
      " [  3   5   6   2   6 232   5   3   8]\n",
      " [  5   5   5   6   4   6 227   6   6]\n",
      " [  2   4   9   5   3   2   3 237   5]\n",
      " [  3   9   0  10   6  10   4   2 226]]\n",
      "Normalized confusion matrix\n",
      "[[ 0.88  0.03  0.02  0.01  0.    0.01  0.01  0.02  0.01]\n",
      " [ 0.04  0.83  0.02  0.04  0.02  0.03  0.01  0.01  0.01]\n",
      " [ 0.01  0.02  0.86  0.01  0.01  0.02  0.03  0.03  0.01]\n",
      " [ 0.02  0.02  0.02  0.84  0.01  0.    0.03  0.01  0.03]\n",
      " [ 0.01  0.01  0.01  0.01  0.88  0.01  0.03  0.02  0.02]\n",
      " [ 0.01  0.02  0.02  0.01  0.02  0.86  0.02  0.01  0.03]\n",
      " [ 0.02  0.02  0.02  0.02  0.01  0.02  0.84  0.02  0.02]\n",
      " [ 0.01  0.01  0.03  0.02  0.01  0.01  0.01  0.88  0.02]\n",
      " [ 0.01  0.03  0.    0.04  0.02  0.04  0.01  0.01  0.84]]\n"
     ]
    },
    {
     "data": {
      "image/png": "[encoded data removed]",
      "text/plain": [
       "<matplotlib.figure.Figure at 0x114d62f9940>"
      ]
     },
     "metadata": {},
     "output_type": "display_data"
    },
    {
     "data": {
      "image/png": "[encoded data removed]",
      "text/plain": [
       "<matplotlib.figure.Figure at 0x114d62974e0>"
      ]
     },
     "metadata": {},
     "output_type": "display_data"
    }
   ],
   "source": [
    "import itertools\n",
    "import numpy as np\n",
    "import matplotlib.pyplot as plt\n",
    "\n",
    "from sklearn import svm, datasets\n",
    "from sklearn.model_selection import train_test_split\n",
    "from sklearn.metrics import confusion_matrix\n",
    "\n",
    "def plot_confusion_matrix(cm, classes,\n",
    "                          normalize=False,\n",
    "                          title='Confusion matrix',\n",
    "                          cmap=plt.cm.Blues):\n",
    "    \"\"\"\n",
    "    This function prints and plots the confusion matrix.\n",
    "    Normalization can be applied by setting `normalize=True`.\n",
    "    \"\"\"\n",
    "    if normalize:\n",
    "        cm = cm.astype('float') / cm.sum(axis=1)[:, np.newaxis]\n",
    "        print(\"Normalized confusion matrix\")\n",
    "    else:\n",
    "        print('Confusion matrix, without normalization')\n",
    "\n",
    "    print(cm)\n",
    "\n",
    "    plt.imshow(cm, interpolation='nearest', cmap=cmap)\n",
    "    plt.title(title)\n",
    "    plt.colorbar()\n",
    "    tick_marks = np.arange(len(classes))\n",
    "    plt.xticks(tick_marks, classes, rotation=45)\n",
    "    plt.yticks(tick_marks, classes)\n",
    "\n",
    "    fmt = '.2f' if normalize else 'd'\n",
    "    thresh = cm.max() / 2.\n",
    "    for i, j in itertools.product(range(cm.shape[0]), range(cm.shape[1])):\n",
    "        plt.text(j, i, format(cm[i, j], fmt),\n",
    "                 horizontalalignment=\"center\",\n",
    "                 color=\"white\" if cm[i, j] > thresh else \"black\")\n",
    "\n",
    "    plt.tight_layout()\n",
    "    plt.ylabel('True label')\n",
    "    plt.xlabel('Predicted label')\n",
    "\n",
    "y_pred = np.array(pred) \n",
    "y_test = np.array(sn)\n",
    "cnf_matrix = confusion_matrix(y_test, y_pred)\n",
    "\n",
    "\n",
    "class_names = [str(i+1) for i in range(9)]\n",
    "np.set_printoptions(precision=2)\n",
    "\n",
    "# Plot non-normalized confusion matrix\n",
    "plt.figure()\n",
    "plot_confusion_matrix(cnf_matrix, classes=class_names,\n",
    "                      title='Confusion matrix, without normalization')\n",
    "\n",
    "# Plot normalized confusion matrix\n",
    "plt.figure()\n",
    "plot_confusion_matrix(cnf_matrix, classes=class_names, normalize=True,\n",
    "                      title='Normalized confusion matrix')\n",
    "\n",
    "plt.show()\n",
    "\n",
    "\n",
    "\n",
    "\n",
    "\n",
    "\n",
    "\n",
    "\n"
   ]
  },
  {
   "cell_type": "code",
   "execution_count": 17,
   "metadata": {},
   "outputs": [
    {
     "data": {
      "text/plain": [
       "array([[237,   9,   5,   2,   1,   4,   4,   5,   3],\n",
       "       [ 11, 223,   5,  10,   5,   8,   3,   2,   3],\n",
       "       [  3,   6, 232,   4,   3,   6,   7,   7,   2],\n",
       "       [  6,   6,   6, 228,   4,   0,   9,   2,   9],\n",
       "       [  3,   3,   2,   3, 238,   3,   7,   6,   5],\n",
       "       [  3,   5,   6,   2,   6, 232,   5,   3,   8],\n",
       "       [  5,   5,   5,   6,   4,   6, 227,   6,   6],\n",
       "       [  2,   4,   9,   5,   3,   2,   3, 237,   5],\n",
       "       [  3,   9,   0,  10,   6,  10,   4,   2, 226]], dtype=int64)"
      ]
     },
     "execution_count": 17,
     "metadata": {},
     "output_type": "execute_result"
    }
   ],
   "source": [
    "cnf_matrix"
   ]
  },
  {
   "cell_type": "code",
   "execution_count": 18,
   "metadata": {},
   "outputs": [
    {
     "name": "stdout",
     "output_type": "stream",
     "text": [
      "0.85594464706\n"
     ]
    }
   ],
   "source": [
    "# f1 = np.mean(2*[(precision*recall)/(precision+recall)])\n",
    "\n",
    "F1 = []\n",
    "for i in range(len(cnf_matrix)):\n",
    "    tp = 0\n",
    "    fp = 0\n",
    "    fn = 0\n",
    "    row = cnf_matrix[i,:]\n",
    "    col = cnf_matrix[:,i]\n",
    "    tp = cnf_matrix[i,i]\n",
    "#     print(tp)\n",
    "    fp = np.sum(col) - tp\n",
    "#     print(fp)\n",
    "    fn = np.sum(row) - tp\n",
    "#     print(fn)\n",
    "    precision = tp/(tp+fp)\n",
    "    recall = tp/(tp+fn)\n",
    "    f1 = 2*(precision*recall)/(precision+recall)\n",
    "    F1.append(f1)\n",
    "print(np.mean(F1))\n",
    "    \n",
    "    "
   ]
  },
  {
   "cell_type": "code",
   "execution_count": null,
   "metadata": {
    "collapsed": true
   },
   "outputs": [],
   "source": []
  }
 ],
 "metadata": {
  "kernelspec": {
   "display_name": "Python 3",
   "language": "python",
   "name": "python3"
  },
  "language_info": {
   "codemirror_mode": {
    "name": "ipython",
    "version": 3
   },
   "file_extension": ".py",
   "mimetype": "text/x-python",
   "name": "python",
   "nbconvert_exporter": "python",
   "pygments_lexer": "ipython3",
   "version": "3.6.1"
  }
 },
 "nbformat": 4,
 "nbformat_minor": 2
}
