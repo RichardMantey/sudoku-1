{
 "cells": [
  {
   "cell_type": "code",
   "execution_count": 4,
   "metadata": {
    "collapsed": true
   },
   "outputs": [],
   "source": [
    "import os\n",
    "import torch\n",
    "import copy\n",
    "import tensorflow as tf\n",
    "import numpy as np\n",
    "from torch.utils.data import DataLoader\n",
    "from torch.utils.data.dataset import Dataset\n",
    "# from Downloads import LSTMSudokuClassifier as LSTMC\n",
    "import torch.optim as optim\n",
    "import torch.nn as nn\n",
    "import torch.nn.functional as F\n",
    "from torch.autograd import Variable\n",
    "from random import randint\n",
    "\n",
    "from tqdm import tqdm_notebook\n",
    "tqdm_notebook.monitor_interval = 0"
   ]
  },
  {
   "cell_type": "code",
   "execution_count": 5,
   "metadata": {
    "collapsed": true
   },
   "outputs": [],
   "source": [
    "class LSTMClassifier(nn.Module):\n",
    "\n",
    "    def __init__(self, input_dim, hidden_dim, n_label, batch_size, n_layers, use_gpu):\n",
    "        super(LSTMClassifier, self).__init__()\n",
    "        self.input_dim = input_dim\n",
    "        self.hidden_dim = hidden_dim\n",
    "        self.batch_size = batch_size\n",
    "        self.use_gpu = use_gpu\n",
    "        self.n_layers = n_layers\n",
    "               \n",
    "        self.lstm1 = nn.LSTM(input_dim, hidden_dim, n_layers, bidirectional=True)\n",
    "        self.lstm2 = nn.LSTM(input_dim, hidden_dim, n_layers, bidirectional=True)\n",
    "        self.lstm3 = nn.LSTM(input_dim, hidden_dim, n_layers, bidirectional=True)\n",
    "        \n",
    "        self.hidden2label = nn.Sequential(torch.nn.Linear(2*hidden_dim, n_label),\n",
    "                                          torch.nn.Softmax(dim = -1))\n",
    "        self.r_hidden = self.init_hidden()\n",
    "        self.c_hidden = self.init_hidden()\n",
    "        self.s_hidden = self.init_hidden()\n",
    "\n",
    "    def init_hidden(self):\n",
    "        if self.use_gpu:\n",
    "            h0 = Variable(torch.zeros(2*n_layers, self.batch_size, self.hidden_dim).cuda())\n",
    "            c0 = Variable(torch.zeros(2*n_layers, self.batch_size, self.hidden_dim).cuda())\n",
    "        else:\n",
    "            h0 = Variable(torch.zeros(2*n_layers, self.batch_size, self.hidden_dim))\n",
    "            c0 = Variable(torch.zeros(2*n_layers, self.batch_size, self.hidden_dim))\n",
    "        return (h0, c0)\n",
    "    \n",
    "    def ManipulateSquare(self, lstm_out_square):\n",
    "        counter = 0\n",
    "        inner_stack = None\n",
    "        outer_stack = None\n",
    "        for i in range(3):\n",
    "            for j in range(3):\n",
    "                x = lstm_out_square[counter,:,:]\n",
    "                counter += 1\n",
    "                x = x.view(3,3,2*hidden_dim)#change to 2*hidden_dim\n",
    "                if inner_stack is None:\n",
    "                    inner_stack = x\n",
    "                else:\n",
    "                    inner_stack = torch.cat((inner_stack,x),1)        \n",
    "            if outer_stack is None:\n",
    "#                 print(inner_stack.shape)\n",
    "                outer_stack = inner_stack\n",
    "                inner_stack = None\n",
    "#                 print('B = ',outer_stack)\n",
    "            else:\n",
    "#                 print(inner_stack.shape)\n",
    "                outer_stack = torch.cat((outer_stack,inner_stack),0)\n",
    "#                 print('B = ',outer_stack)\n",
    "                inner_stack = None\n",
    "        return outer_stack\n",
    "\n",
    "    def forward(self, row_tensor, col_tensor, square_tensor):\n",
    "        \n",
    "        lstm_out_row, hidden_row = self.lstm1(row_tensor, self.r_hidden)\n",
    "        lstm_out_col, hidden_col = self.lstm2(col_tensor, self.c_hidden)\n",
    "        lstm_out_square, hidden_square = self.lstm3(square_tensor, self.s_hidden)\n",
    "        \n",
    "#         self.r_hidden = hidden_row\n",
    "#         self.c_hidden = hidden_col\n",
    "#         self.s_hidden = hidden_square\n",
    "        \n",
    "        # Do manipulation Here\n",
    "        #Row & Col Manipulation\n",
    "        row_col = lstm_out_row + lstm_out_col +lstm_out_square \n",
    "        #Square Manipulation\n",
    "        lstm_out = row_col \n",
    "        lstm_out_tensor = lstm_out\n",
    "#         if self.use_gpu:\n",
    "#             lstm_out_tensor = lstm_out.cuda()\n",
    "#         print(\"final tensor\", lstm_out_tensor.shape, lstm_out_tensor)\n",
    "        \n",
    "        #Sum Square Row Col\n",
    "        y  = self.hidden2label(lstm_out_tensor)\n",
    "#         print('Output Shape ', y.shape)\n",
    "        return y"
   ]
  },
  {
   "cell_type": "code",
   "execution_count": 6,
   "metadata": {
    "collapsed": true
   },
   "outputs": [],
   "source": [
    "class InputGrid():\n",
    "    \n",
    "    def __init__(self, Grid):\n",
    "        self.Grid = Grid\n",
    "        self.gridLength = len(Grid[0])\n",
    "#         self.labels = labels\n",
    "        \n",
    "    def getlims(self, i):\n",
    "        if 0 <= i <= 2:\n",
    "            rowlims = [0,3]\n",
    "        elif 3 <= i <= 5:\n",
    "            rowlims = [3,6]\n",
    "        elif 6 <= i <= 8:\n",
    "                rowlims = [6,9]\n",
    "        return rowlims\n",
    "\n",
    "    def get_square(self, i):\n",
    "        grid_square = None\n",
    "        if i < 3:\n",
    "            if i%3 == 0:\n",
    "                grid_square = self.Grid[0:3,0:3]\n",
    "            elif i%3 == 1:\n",
    "                grid_square = self.Grid[0:3,3:6]\n",
    "            elif i%3 == 2:\n",
    "                grid_square = self.Grid[0:3,6:9]\n",
    "        elif i < 6:\n",
    "            if i%3 == 0:\n",
    "                grid_square = self.Grid[3:6,0:3]\n",
    "            elif i%3 == 1:\n",
    "                grid_square = self.Grid[3:6,3:6]\n",
    "            elif i%3 == 2:\n",
    "                grid_square = self.Grid[3:6,6:9]\n",
    "        elif i < 9:\n",
    "            if i%3 == 0:\n",
    "                grid_square = self.Grid[6:9,0:3]\n",
    "            elif i%3 == 1:\n",
    "                grid_square = self.Grid[6:9,3:6]\n",
    "            elif i%3 == 2:\n",
    "                grid_square = self.Grid[6:9,6:9]\n",
    "        return grid_square.flatten()\n",
    "                \n",
    "    \n",
    "    # takes 1D returns 2D\n",
    "    def one_hot(self, vec):\n",
    "        one_hot_matrix = []\n",
    "        for val in vec:\n",
    "            hot_vec = [0 for _ in range(9)]\n",
    "            if val > 0:\n",
    "                hot_vec[int(val)-1] = 1\n",
    "            one_hot_matrix.append(hot_vec)\n",
    "        real_one_hot = np.array(one_hot_matrix)\n",
    "        return real_one_hot\n",
    "    \n",
    "    #takes 2D returns 3D\n",
    "    def getInput(self):\n",
    "#         print(self.Grid)\n",
    "        Rows = np.zeros((9,9,9))\n",
    "        Columns = np.zeros((9,9,9))\n",
    "        Squares = np.zeros((9,9,9))\n",
    "        Labels = np.zeros((9,9,9))\n",
    "        for i in range(self.gridLength):\n",
    "            hot_row = self.one_hot(self.Grid[i,:])\n",
    "            hot_column = self.one_hot(self.Grid[:,i])\n",
    "            hot_square = self.one_hot(self.get_square(i))\n",
    "#             hot_label = self.one_hot(self.labels[i,:])\n",
    "            \n",
    "            Rows[i] = hot_row\n",
    "            Columns[i] = hot_column\n",
    "            Squares[i] = hot_square\n",
    "#             Labels[i] = hot_label\n",
    "        \n",
    "        Rows = np.reshape (Rows , (1, 81, 9))\n",
    "        Columns = np.reshape (Columns, (1, 81, 9))\n",
    "        Squares = np.reshape (Squares, (1, 81, 9))\n",
    "        Rows = np.transpose (Rows, ((1, 0, 2)))\n",
    "        Columns = np.transpose (Columns, ((1, 0, 2)))\n",
    "        Squares = np.transpose (Squares, ((1, 0, 2)))\n",
    "\n",
    "        row_tensor = Variable(torch.FloatTensor(Rows))\n",
    "        col_tensor = Variable(torch.FloatTensor(Columns))\n",
    "        square_tensor = Variable(torch.FloatTensor(Squares))\n",
    "#         label_tensor = Variable(torch.LongTensor(Labels))\n",
    "#         print(row_tensor)\n",
    "#         print(col_tensor)\n",
    "#         print(square_tensor)\n",
    "#         print(label_tensor)\n",
    "                 \n",
    "        return row_tensor, col_tensor, square_tensor"
   ]
  },
  {
   "cell_type": "code",
   "execution_count": 21,
   "metadata": {
    "collapsed": true
   },
   "outputs": [],
   "source": [
    "# use_plot = True\n",
    "# use_save = True\n",
    "# if use_save:\n",
    "#     import pickle\n",
    "#     from datetime import datetime\n",
    "\n",
    "DATA_DIR = 'data'\n",
    "TRAIN_FILE = 'kaggle_sudoku.csv'\n",
    "TEST_FILE = 'test.csv'\n",
    "TRAIN_LABEL = 'train_label.txt'\n",
    "TEST_LABEL = 'test_label.txt'\n",
    "save_filepath = 'rnn.pt'"
   ]
  },
  {
   "cell_type": "code",
   "execution_count": 25,
   "metadata": {
    "collapsed": true
   },
   "outputs": [],
   "source": [
    "class SudokuDataset(Dataset):\n",
    "    def __init__(self, fpath):\n",
    "        \n",
    "        print(fpath)\n",
    "        lines = open(fpath, 'r').read().splitlines()[1:]\n",
    "        nsamples = len(lines)\n",
    "\n",
    "        X = np.zeros((nsamples, 9*9), np.float32)  \n",
    "        Y = np.zeros((nsamples, 9*9), np.int32) \n",
    "\n",
    "        for i, line in enumerate(lines):\n",
    "            quiz, solution = line.split(\",\")\n",
    "            for j, (q, s) in enumerate(zip(quiz, solution)):\n",
    "                X[i, j], Y[i, j] = q, s\n",
    "            if i>=nsamples-1:\n",
    "                break\n",
    "\n",
    "        X = np.reshape(X, (-1, 9, 9))\n",
    "        Y = np.reshape(Y, (-1, 9, 9))\n",
    "        Y -= 1\n",
    "        self.X = X\n",
    "        self.Y = Y\n",
    "#         print(Y)\n",
    "#         print(Y.shape)\n",
    "\n",
    "    def __getitem__(self, index):\n",
    "        quiz = self.X[index]\n",
    "        sol = self.Y[index]\n",
    "        return quiz, sol\n",
    "    \n",
    "    def __len__(self):\n",
    "        return len(self.X)"
   ]
  },
  {
   "cell_type": "code",
   "execution_count": 6,
   "metadata": {
    "collapsed": true
   },
   "outputs": [
    {
     "name": "stdout",
     "output_type": "stream",
     "text": [
      "data\\kaggle_sudoku.csv\n",
      "TRAINING\n"
     ]
    },
    {
     "data": {
      "application/vnd.jupyter.widget-view+json": {
       "model_id": "a7da84d11b1f4e59967785c644c12cff",
       "version_major": 2,
       "version_minor": 0
      },
      "text/plain": [
       "A Jupyter Widget"
      ]
     },
     "metadata": {},
     "output_type": "display_data"
    },
    {
     "name": "stdout",
     "output_type": "stream",
     "text": [
      "\n",
      "[Epoch:   0/100] Training Loss: 1.871, Training Acc: 0.492\n"
     ]
    },
    {
     "data": {
      "application/vnd.jupyter.widget-view+json": {
       "model_id": "42fa230a344a491c927c8f56cf396a43",
       "version_major": 2,
       "version_minor": 0
      },
      "text/plain": [
       "A Jupyter Widget"
      ]
     },
     "metadata": {},
     "output_type": "display_data"
    },
    {
     "name": "stdout",
     "output_type": "stream",
     "text": [
      "\n",
      "[Epoch:   1/100] Training Loss: 1.854, Training Acc: 0.505\n"
     ]
    },
    {
     "data": {
      "application/vnd.jupyter.widget-view+json": {
       "model_id": "f0cbd89539d94e3a938d8141ca441a11",
       "version_major": 2,
       "version_minor": 0
      },
      "text/plain": [
       "A Jupyter Widget"
      ]
     },
     "metadata": {},
     "output_type": "display_data"
    },
    {
     "name": "stdout",
     "output_type": "stream",
     "text": [
      "\n",
      "[Epoch:   2/100] Training Loss: 1.846, Training Acc: 0.512\n"
     ]
    },
    {
     "data": {
      "application/vnd.jupyter.widget-view+json": {
       "model_id": "14b4d989fb394dbeb2d3005bc9293396",
       "version_major": 2,
       "version_minor": 0
      },
      "text/plain": [
       "A Jupyter Widget"
      ]
     },
     "metadata": {},
     "output_type": "display_data"
    },
    {
     "name": "stdout",
     "output_type": "stream",
     "text": [
      "\n",
      "[Epoch:   3/100] Training Loss: 1.840, Training Acc: 0.518\n"
     ]
    },
    {
     "data": {
      "application/vnd.jupyter.widget-view+json": {
       "model_id": "05826cbcea794935bba6d9a4feb256d7",
       "version_major": 2,
       "version_minor": 0
      },
      "text/plain": [
       "A Jupyter Widget"
      ]
     },
     "metadata": {},
     "output_type": "display_data"
    },
    {
     "name": "stdout",
     "output_type": "stream",
     "text": [
      "\n",
      "[Epoch:   4/100] Training Loss: 1.835, Training Acc: 0.523\n"
     ]
    },
    {
     "data": {
      "application/vnd.jupyter.widget-view+json": {
       "model_id": "e0f87bce78f94a3da41979cec5236dd5",
       "version_major": 2,
       "version_minor": 0
      },
      "text/plain": [
       "A Jupyter Widget"
      ]
     },
     "metadata": {},
     "output_type": "display_data"
    },
    {
     "name": "stdout",
     "output_type": "stream",
     "text": [
      "\n",
      "[Epoch:   5/100] Training Loss: 1.830, Training Acc: 0.529\n"
     ]
    },
    {
     "data": {
      "application/vnd.jupyter.widget-view+json": {
       "model_id": "3ac216d2541848a6bc5cfb9e337a4f90",
       "version_major": 2,
       "version_minor": 0
      },
      "text/plain": [
       "A Jupyter Widget"
      ]
     },
     "metadata": {},
     "output_type": "display_data"
    },
    {
     "name": "stdout",
     "output_type": "stream",
     "text": [
      "\n",
      "[Epoch:   6/100] Training Loss: 1.826, Training Acc: 0.534\n"
     ]
    },
    {
     "data": {
      "application/vnd.jupyter.widget-view+json": {
       "model_id": "e726a69cd56d4eb2a3529a6d09c93f80",
       "version_major": 2,
       "version_minor": 0
      },
      "text/plain": [
       "A Jupyter Widget"
      ]
     },
     "metadata": {},
     "output_type": "display_data"
    },
    {
     "name": "stdout",
     "output_type": "stream",
     "text": [
      "\n",
      "[Epoch:   7/100] Training Loss: 1.821, Training Acc: 0.540\n"
     ]
    },
    {
     "data": {
      "application/vnd.jupyter.widget-view+json": {
       "model_id": "af7496afeeda475e9577622812f45de3",
       "version_major": 2,
       "version_minor": 0
      },
      "text/plain": [
       "A Jupyter Widget"
      ]
     },
     "metadata": {},
     "output_type": "display_data"
    },
    {
     "name": "stdout",
     "output_type": "stream",
     "text": [
      "\n",
      "[Epoch:   8/100] Training Loss: 1.816, Training Acc: 0.546\n"
     ]
    },
    {
     "data": {
      "application/vnd.jupyter.widget-view+json": {
       "model_id": "967bdeb0466d4cb196e57c816c4984a5",
       "version_major": 2,
       "version_minor": 0
      },
      "text/plain": [
       "A Jupyter Widget"
      ]
     },
     "metadata": {},
     "output_type": "display_data"
    },
    {
     "name": "stdout",
     "output_type": "stream",
     "text": [
      "\n",
      "[Epoch:   9/100] Training Loss: 1.811, Training Acc: 0.552\n"
     ]
    },
    {
     "data": {
      "application/vnd.jupyter.widget-view+json": {
       "model_id": "cfc079750da747b3b81916bf9887da17",
       "version_major": 2,
       "version_minor": 0
      },
      "text/plain": [
       "A Jupyter Widget"
      ]
     },
     "metadata": {},
     "output_type": "display_data"
    },
    {
     "name": "stdout",
     "output_type": "stream",
     "text": [
      "\n",
      "[Epoch:  10/100] Training Loss: 1.806, Training Acc: 0.558\n"
     ]
    },
    {
     "data": {
      "application/vnd.jupyter.widget-view+json": {
       "model_id": "d3375549493c4b24906a31b4ac141358",
       "version_major": 2,
       "version_minor": 0
      },
      "text/plain": [
       "A Jupyter Widget"
      ]
     },
     "metadata": {},
     "output_type": "display_data"
    },
    {
     "name": "stdout",
     "output_type": "stream",
     "text": [
      "\n",
      "[Epoch:  11/100] Training Loss: 1.800, Training Acc: 0.564\n"
     ]
    },
    {
     "data": {
      "application/vnd.jupyter.widget-view+json": {
       "model_id": "a0ed7c0063304b3a958a52e96ce635dc",
       "version_major": 2,
       "version_minor": 0
      },
      "text/plain": [
       "A Jupyter Widget"
      ]
     },
     "metadata": {},
     "output_type": "display_data"
    },
    {
     "name": "stdout",
     "output_type": "stream",
     "text": [
      "\n",
      "[Epoch:  12/100] Training Loss: 1.794, Training Acc: 0.571\n"
     ]
    },
    {
     "data": {
      "application/vnd.jupyter.widget-view+json": {
       "model_id": "02e6671fe4154d60a3fe4408b4c7f156",
       "version_major": 2,
       "version_minor": 0
      },
      "text/plain": [
       "A Jupyter Widget"
      ]
     },
     "metadata": {},
     "output_type": "display_data"
    },
    {
     "name": "stdout",
     "output_type": "stream",
     "text": [
      "\n",
      "[Epoch:  13/100] Training Loss: 1.788, Training Acc: 0.578\n"
     ]
    },
    {
     "data": {
      "application/vnd.jupyter.widget-view+json": {
       "model_id": "154f13c43cdd4f079482bbd6f461a070",
       "version_major": 2,
       "version_minor": 0
      },
      "text/plain": [
       "A Jupyter Widget"
      ]
     },
     "metadata": {},
     "output_type": "display_data"
    },
    {
     "name": "stdout",
     "output_type": "stream",
     "text": [
      "\n",
      "[Epoch:  14/100] Training Loss: 1.782, Training Acc: 0.585\n"
     ]
    },
    {
     "data": {
      "application/vnd.jupyter.widget-view+json": {
       "model_id": "d90699d52ee14e9b8af582c383c171a5",
       "version_major": 2,
       "version_minor": 0
      },
      "text/plain": [
       "A Jupyter Widget"
      ]
     },
     "metadata": {},
     "output_type": "display_data"
    },
    {
     "name": "stdout",
     "output_type": "stream",
     "text": [
      "\n",
      "[Epoch:  15/100] Training Loss: 1.775, Training Acc: 0.592\n"
     ]
    },
    {
     "data": {
      "application/vnd.jupyter.widget-view+json": {
       "model_id": "44849061c3984bd5bf39ed1f46f22a74",
       "version_major": 2,
       "version_minor": 0
      },
      "text/plain": [
       "A Jupyter Widget"
      ]
     },
     "metadata": {},
     "output_type": "display_data"
    },
    {
     "name": "stdout",
     "output_type": "stream",
     "text": [
      "\n",
      "[Epoch:  16/100] Training Loss: 1.769, Training Acc: 0.599\n"
     ]
    },
    {
     "data": {
      "application/vnd.jupyter.widget-view+json": {
       "model_id": "f98a104208214c6b8dba52a3c578462e",
       "version_major": 2,
       "version_minor": 0
      },
      "text/plain": [
       "A Jupyter Widget"
      ]
     },
     "metadata": {},
     "output_type": "display_data"
    },
    {
     "name": "stdout",
     "output_type": "stream",
     "text": [
      "\n",
      "[Epoch:  17/100] Training Loss: 1.763, Training Acc: 0.605\n"
     ]
    },
    {
     "data": {
      "application/vnd.jupyter.widget-view+json": {
       "model_id": "094d62a9cb68493892e96815a7f03f21",
       "version_major": 2,
       "version_minor": 0
      },
      "text/plain": [
       "A Jupyter Widget"
      ]
     },
     "metadata": {},
     "output_type": "display_data"
    },
    {
     "name": "stdout",
     "output_type": "stream",
     "text": [
      "\n",
      "[Epoch:  18/100] Training Loss: 1.757, Training Acc: 0.612\n"
     ]
    },
    {
     "data": {
      "application/vnd.jupyter.widget-view+json": {
       "model_id": "32acfd0e7e854caba6f329275ced35e6",
       "version_major": 2,
       "version_minor": 0
      },
      "text/plain": [
       "A Jupyter Widget"
      ]
     },
     "metadata": {},
     "output_type": "display_data"
    },
    {
     "name": "stdout",
     "output_type": "stream",
     "text": [
      "\n",
      "[Epoch:  19/100] Training Loss: 1.751, Training Acc: 0.618\n"
     ]
    },
    {
     "data": {
      "application/vnd.jupyter.widget-view+json": {
       "model_id": "7d46ff962f0f4552bd5f63ef5c26be0c",
       "version_major": 2,
       "version_minor": 0
      },
      "text/plain": [
       "A Jupyter Widget"
      ]
     },
     "metadata": {},
     "output_type": "display_data"
    },
    {
     "name": "stdout",
     "output_type": "stream",
     "text": [
      "\n",
      "[Epoch:  20/100] Training Loss: 1.745, Training Acc: 0.624\n"
     ]
    },
    {
     "data": {
      "application/vnd.jupyter.widget-view+json": {
       "model_id": "fb20b4d8a3b44f3dbe59cc71810e2780",
       "version_major": 2,
       "version_minor": 0
      },
      "text/plain": [
       "A Jupyter Widget"
      ]
     },
     "metadata": {},
     "output_type": "display_data"
    },
    {
     "name": "stdout",
     "output_type": "stream",
     "text": [
      "\n",
      "[Epoch:  21/100] Training Loss: 1.740, Training Acc: 0.630\n"
     ]
    },
    {
     "data": {
      "application/vnd.jupyter.widget-view+json": {
       "model_id": "0d11dc48db214f72936fa1f9dd7f4778",
       "version_major": 2,
       "version_minor": 0
      },
      "text/plain": [
       "A Jupyter Widget"
      ]
     },
     "metadata": {},
     "output_type": "display_data"
    },
    {
     "name": "stdout",
     "output_type": "stream",
     "text": [
      "\n",
      "[Epoch:  22/100] Training Loss: 1.735, Training Acc: 0.635\n"
     ]
    },
    {
     "data": {
      "application/vnd.jupyter.widget-view+json": {
       "model_id": "2a1a7fad2016482cbfe813cb1c616093",
       "version_major": 2,
       "version_minor": 0
      },
      "text/plain": [
       "A Jupyter Widget"
      ]
     },
     "metadata": {},
     "output_type": "display_data"
    },
    {
     "name": "stdout",
     "output_type": "stream",
     "text": [
      "\n",
      "[Epoch:  23/100] Training Loss: 1.730, Training Acc: 0.641\n"
     ]
    },
    {
     "data": {
      "application/vnd.jupyter.widget-view+json": {
       "model_id": "681e328277fc41d0812b155d9656d16a",
       "version_major": 2,
       "version_minor": 0
      },
      "text/plain": [
       "A Jupyter Widget"
      ]
     },
     "metadata": {},
     "output_type": "display_data"
    },
    {
     "name": "stdout",
     "output_type": "stream",
     "text": [
      "\n",
      "[Epoch:  24/100] Training Loss: 1.725, Training Acc: 0.646\n"
     ]
    },
    {
     "data": {
      "application/vnd.jupyter.widget-view+json": {
       "model_id": "3420487f5ffe4f69892fa8ebf6ddabcc",
       "version_major": 2,
       "version_minor": 0
      },
      "text/plain": [
       "A Jupyter Widget"
      ]
     },
     "metadata": {},
     "output_type": "display_data"
    },
    {
     "name": "stdout",
     "output_type": "stream",
     "text": [
      "\n",
      "[Epoch:  25/100] Training Loss: 1.720, Training Acc: 0.651\n"
     ]
    },
    {
     "data": {
      "application/vnd.jupyter.widget-view+json": {
       "model_id": "13751c59cbc4492ab30f7c562716ccd8",
       "version_major": 2,
       "version_minor": 0
      },
      "text/plain": [
       "A Jupyter Widget"
      ]
     },
     "metadata": {},
     "output_type": "display_data"
    },
    {
     "name": "stdout",
     "output_type": "stream",
     "text": [
      "\n",
      "[Epoch:  26/100] Training Loss: 1.715, Training Acc: 0.656\n"
     ]
    },
    {
     "data": {
      "application/vnd.jupyter.widget-view+json": {
       "model_id": "a8f06a946bd3465d89f9001d1fc98feb",
       "version_major": 2,
       "version_minor": 0
      },
      "text/plain": [
       "A Jupyter Widget"
      ]
     },
     "metadata": {},
     "output_type": "display_data"
    },
    {
     "name": "stdout",
     "output_type": "stream",
     "text": [
      "\n",
      "[Epoch:  27/100] Training Loss: 1.711, Training Acc: 0.660\n"
     ]
    },
    {
     "data": {
      "application/vnd.jupyter.widget-view+json": {
       "model_id": "1d5f3f0d21c345e1a5769e0a30d032aa",
       "version_major": 2,
       "version_minor": 0
      },
      "text/plain": [
       "A Jupyter Widget"
      ]
     },
     "metadata": {},
     "output_type": "display_data"
    },
    {
     "name": "stdout",
     "output_type": "stream",
     "text": [
      "\n",
      "[Epoch:  28/100] Training Loss: 1.707, Training Acc: 0.665\n"
     ]
    },
    {
     "data": {
      "application/vnd.jupyter.widget-view+json": {
       "model_id": "de76be336deb458d8828993f1eaaeb82",
       "version_major": 2,
       "version_minor": 0
      },
      "text/plain": [
       "A Jupyter Widget"
      ]
     },
     "metadata": {},
     "output_type": "display_data"
    },
    {
     "name": "stdout",
     "output_type": "stream",
     "text": [
      "\n",
      "[Epoch:  29/100] Training Loss: 1.703, Training Acc: 0.669\n"
     ]
    },
    {
     "data": {
      "application/vnd.jupyter.widget-view+json": {
       "model_id": "e1a7f9782ec34bfabe3d14b8e0244e58",
       "version_major": 2,
       "version_minor": 0
      },
      "text/plain": [
       "A Jupyter Widget"
      ]
     },
     "metadata": {},
     "output_type": "display_data"
    },
    {
     "name": "stdout",
     "output_type": "stream",
     "text": [
      "\n",
      "[Epoch:  30/100] Training Loss: 1.699, Training Acc: 0.673\n"
     ]
    },
    {
     "data": {
      "application/vnd.jupyter.widget-view+json": {
       "model_id": "001a712d23c143ab8d5c305f22921d60",
       "version_major": 2,
       "version_minor": 0
      },
      "text/plain": [
       "A Jupyter Widget"
      ]
     },
     "metadata": {},
     "output_type": "display_data"
    },
    {
     "name": "stdout",
     "output_type": "stream",
     "text": [
      "\n",
      "[Epoch:  31/100] Training Loss: 1.695, Training Acc: 0.677\n"
     ]
    },
    {
     "data": {
      "application/vnd.jupyter.widget-view+json": {
       "model_id": "7c25a1401a81417cadff267f05618fd4",
       "version_major": 2,
       "version_minor": 0
      },
      "text/plain": [
       "A Jupyter Widget"
      ]
     },
     "metadata": {},
     "output_type": "display_data"
    },
    {
     "name": "stdout",
     "output_type": "stream",
     "text": [
      "\n",
      "[Epoch:  32/100] Training Loss: 1.691, Training Acc: 0.680\n"
     ]
    },
    {
     "data": {
      "application/vnd.jupyter.widget-view+json": {
       "model_id": "49ab58c658224d0ca5abb8eb7d16c958",
       "version_major": 2,
       "version_minor": 0
      },
      "text/plain": [
       "A Jupyter Widget"
      ]
     },
     "metadata": {},
     "output_type": "display_data"
    },
    {
     "name": "stdout",
     "output_type": "stream",
     "text": [
      "\n",
      "[Epoch:  33/100] Training Loss: 1.688, Training Acc: 0.684\n"
     ]
    },
    {
     "data": {
      "application/vnd.jupyter.widget-view+json": {
       "model_id": "8eab71bb576e41a6a5096446333bd071",
       "version_major": 2,
       "version_minor": 0
      },
      "text/plain": [
       "A Jupyter Widget"
      ]
     },
     "metadata": {},
     "output_type": "display_data"
    },
    {
     "name": "stdout",
     "output_type": "stream",
     "text": [
      "\n",
      "[Epoch:  34/100] Training Loss: 1.685, Training Acc: 0.688\n"
     ]
    },
    {
     "data": {
      "application/vnd.jupyter.widget-view+json": {
       "model_id": "f60598d88e2c4d1f923ec87ef166a8d3",
       "version_major": 2,
       "version_minor": 0
      },
      "text/plain": [
       "A Jupyter Widget"
      ]
     },
     "metadata": {},
     "output_type": "display_data"
    },
    {
     "name": "stdout",
     "output_type": "stream",
     "text": [
      "\n",
      "[Epoch:  35/100] Training Loss: 1.681, Training Acc: 0.691\n"
     ]
    },
    {
     "data": {
      "application/vnd.jupyter.widget-view+json": {
       "model_id": "af0607c2170d4680ab6a2ddfd915999c",
       "version_major": 2,
       "version_minor": 0
      },
      "text/plain": [
       "A Jupyter Widget"
      ]
     },
     "metadata": {},
     "output_type": "display_data"
    },
    {
     "name": "stdout",
     "output_type": "stream",
     "text": [
      "\n",
      "[Epoch:  36/100] Training Loss: 1.678, Training Acc: 0.694\n"
     ]
    },
    {
     "data": {
      "application/vnd.jupyter.widget-view+json": {
       "model_id": "73a938ed4afa475babe724edebb13286",
       "version_major": 2,
       "version_minor": 0
      },
      "text/plain": [
       "A Jupyter Widget"
      ]
     },
     "metadata": {},
     "output_type": "display_data"
    },
    {
     "name": "stdout",
     "output_type": "stream",
     "text": [
      "\n",
      "[Epoch:  37/100] Training Loss: 1.675, Training Acc: 0.697\n"
     ]
    },
    {
     "data": {
      "application/vnd.jupyter.widget-view+json": {
       "model_id": "8ea67f339afa40a6a9d88afaaf4c367a",
       "version_major": 2,
       "version_minor": 0
      },
      "text/plain": [
       "A Jupyter Widget"
      ]
     },
     "metadata": {},
     "output_type": "display_data"
    },
    {
     "name": "stdout",
     "output_type": "stream",
     "text": [
      "\n",
      "[Epoch:  38/100] Training Loss: 1.672, Training Acc: 0.700\n"
     ]
    },
    {
     "data": {
      "application/vnd.jupyter.widget-view+json": {
       "model_id": "3138705688674d7ebe20aaf8444319bb",
       "version_major": 2,
       "version_minor": 0
      },
      "text/plain": [
       "A Jupyter Widget"
      ]
     },
     "metadata": {},
     "output_type": "display_data"
    },
    {
     "name": "stdout",
     "output_type": "stream",
     "text": [
      "\n",
      "[Epoch:  39/100] Training Loss: 1.669, Training Acc: 0.703\n"
     ]
    },
    {
     "data": {
      "application/vnd.jupyter.widget-view+json": {
       "model_id": "36b5f63206844813bf88cafa57f3e692",
       "version_major": 2,
       "version_minor": 0
      },
      "text/plain": [
       "A Jupyter Widget"
      ]
     },
     "metadata": {},
     "output_type": "display_data"
    },
    {
     "name": "stdout",
     "output_type": "stream",
     "text": [
      "\n",
      "[Epoch:  40/100] Training Loss: 1.666, Training Acc: 0.706\n"
     ]
    },
    {
     "data": {
      "application/vnd.jupyter.widget-view+json": {
       "model_id": "84ad3c29a1fe493aa904cf85f4dc0995",
       "version_major": 2,
       "version_minor": 0
      },
      "text/plain": [
       "A Jupyter Widget"
      ]
     },
     "metadata": {},
     "output_type": "display_data"
    },
    {
     "name": "stdout",
     "output_type": "stream",
     "text": [
      "\n",
      "[Epoch:  41/100] Training Loss: 1.664, Training Acc: 0.709\n"
     ]
    },
    {
     "data": {
      "application/vnd.jupyter.widget-view+json": {
       "model_id": "9dcb6a1949a941798bf9c5bbc7593b33",
       "version_major": 2,
       "version_minor": 0
      },
      "text/plain": [
       "A Jupyter Widget"
      ]
     },
     "metadata": {},
     "output_type": "display_data"
    },
    {
     "name": "stdout",
     "output_type": "stream",
     "text": [
      "\n",
      "[Epoch:  42/100] Training Loss: 1.661, Training Acc: 0.711\n"
     ]
    },
    {
     "data": {
      "application/vnd.jupyter.widget-view+json": {
       "model_id": "45d31125222f4068afa793b8476b6275",
       "version_major": 2,
       "version_minor": 0
      },
      "text/plain": [
       "A Jupyter Widget"
      ]
     },
     "metadata": {},
     "output_type": "display_data"
    },
    {
     "name": "stdout",
     "output_type": "stream",
     "text": [
      "\n",
      "[Epoch:  43/100] Training Loss: 1.659, Training Acc: 0.714\n"
     ]
    },
    {
     "data": {
      "application/vnd.jupyter.widget-view+json": {
       "model_id": "b03294dc95064e328c229ce807e07f17",
       "version_major": 2,
       "version_minor": 0
      },
      "text/plain": [
       "A Jupyter Widget"
      ]
     },
     "metadata": {},
     "output_type": "display_data"
    },
    {
     "name": "stdout",
     "output_type": "stream",
     "text": [
      "\n",
      "[Epoch:  44/100] Training Loss: 1.656, Training Acc: 0.716\n"
     ]
    },
    {
     "data": {
      "application/vnd.jupyter.widget-view+json": {
       "model_id": "fcecf53849264846b33819035d4361ab",
       "version_major": 2,
       "version_minor": 0
      },
      "text/plain": [
       "A Jupyter Widget"
      ]
     },
     "metadata": {},
     "output_type": "display_data"
    },
    {
     "name": "stdout",
     "output_type": "stream",
     "text": [
      "\n",
      "[Epoch:  45/100] Training Loss: 1.654, Training Acc: 0.719\n"
     ]
    },
    {
     "data": {
      "application/vnd.jupyter.widget-view+json": {
       "model_id": "553ad8a92ced45e8b1319c73edc89660",
       "version_major": 2,
       "version_minor": 0
      },
      "text/plain": [
       "A Jupyter Widget"
      ]
     },
     "metadata": {},
     "output_type": "display_data"
    },
    {
     "name": "stdout",
     "output_type": "stream",
     "text": [
      "\n",
      "[Epoch:  46/100] Training Loss: 1.652, Training Acc: 0.721\n"
     ]
    },
    {
     "data": {
      "application/vnd.jupyter.widget-view+json": {
       "model_id": "8411eec5c0c040b9a15a5775e536ea1d",
       "version_major": 2,
       "version_minor": 0
      },
      "text/plain": [
       "A Jupyter Widget"
      ]
     },
     "metadata": {},
     "output_type": "display_data"
    },
    {
     "name": "stdout",
     "output_type": "stream",
     "text": [
      "\n",
      "[Epoch:  47/100] Training Loss: 1.649, Training Acc: 0.723\n"
     ]
    },
    {
     "data": {
      "application/vnd.jupyter.widget-view+json": {
       "model_id": "3ba1ad8afede4874b6c49b855e0da5b7",
       "version_major": 2,
       "version_minor": 0
      },
      "text/plain": [
       "A Jupyter Widget"
      ]
     },
     "metadata": {},
     "output_type": "display_data"
    },
    {
     "name": "stdout",
     "output_type": "stream",
     "text": [
      "\n",
      "[Epoch:  48/100] Training Loss: 1.647, Training Acc: 0.726\n"
     ]
    },
    {
     "data": {
      "application/vnd.jupyter.widget-view+json": {
       "model_id": "a93d7cb40dfd415da0df142b3fb42b5c",
       "version_major": 2,
       "version_minor": 0
      },
      "text/plain": [
       "A Jupyter Widget"
      ]
     },
     "metadata": {},
     "output_type": "display_data"
    },
    {
     "name": "stdout",
     "output_type": "stream",
     "text": [
      "\n",
      "[Epoch:  49/100] Training Loss: 1.645, Training Acc: 0.728\n"
     ]
    },
    {
     "data": {
      "application/vnd.jupyter.widget-view+json": {
       "model_id": "45efbe03d54943e980cedf9d989a9970",
       "version_major": 2,
       "version_minor": 0
      },
      "text/plain": [
       "A Jupyter Widget"
      ]
     },
     "metadata": {},
     "output_type": "display_data"
    },
    {
     "name": "stdout",
     "output_type": "stream",
     "text": [
      "\n",
      "[Epoch:  50/100] Training Loss: 1.643, Training Acc: 0.730\n"
     ]
    },
    {
     "data": {
      "application/vnd.jupyter.widget-view+json": {
       "model_id": "594e7a82aab84ab487ee9e19b68cc1c0",
       "version_major": 2,
       "version_minor": 0
      },
      "text/plain": [
       "A Jupyter Widget"
      ]
     },
     "metadata": {},
     "output_type": "display_data"
    },
    {
     "name": "stdout",
     "output_type": "stream",
     "text": [
      "\n",
      "[Epoch:  51/100] Training Loss: 1.641, Training Acc: 0.732\n"
     ]
    },
    {
     "data": {
      "application/vnd.jupyter.widget-view+json": {
       "model_id": "72f5e45a2de04d299663bda6a3772fd2",
       "version_major": 2,
       "version_minor": 0
      },
      "text/plain": [
       "A Jupyter Widget"
      ]
     },
     "metadata": {},
     "output_type": "display_data"
    },
    {
     "name": "stdout",
     "output_type": "stream",
     "text": [
      "\n",
      "[Epoch:  52/100] Training Loss: 1.639, Training Acc: 0.734\n"
     ]
    },
    {
     "data": {
      "application/vnd.jupyter.widget-view+json": {
       "model_id": "823bde71272243d7a80945b0557b87a7",
       "version_major": 2,
       "version_minor": 0
      },
      "text/plain": [
       "A Jupyter Widget"
      ]
     },
     "metadata": {},
     "output_type": "display_data"
    },
    {
     "name": "stdout",
     "output_type": "stream",
     "text": [
      "\n",
      "[Epoch:  53/100] Training Loss: 1.637, Training Acc: 0.736\n"
     ]
    },
    {
     "data": {
      "application/vnd.jupyter.widget-view+json": {
       "model_id": "ef9eae02b8f9470eb93c25360c480313",
       "version_major": 2,
       "version_minor": 0
      },
      "text/plain": [
       "A Jupyter Widget"
      ]
     },
     "metadata": {},
     "output_type": "display_data"
    },
    {
     "name": "stdout",
     "output_type": "stream",
     "text": [
      "\n",
      "[Epoch:  54/100] Training Loss: 1.635, Training Acc: 0.738\n"
     ]
    },
    {
     "data": {
      "application/vnd.jupyter.widget-view+json": {
       "model_id": "1914e6057e4e42fe9af0bf53d89e2bf4",
       "version_major": 2,
       "version_minor": 0
      },
      "text/plain": [
       "A Jupyter Widget"
      ]
     },
     "metadata": {},
     "output_type": "display_data"
    },
    {
     "name": "stdout",
     "output_type": "stream",
     "text": [
      "\n",
      "[Epoch:  55/100] Training Loss: 1.633, Training Acc: 0.740\n"
     ]
    },
    {
     "data": {
      "application/vnd.jupyter.widget-view+json": {
       "model_id": "e9e319eea0644e61904479ec11f5588d",
       "version_major": 2,
       "version_minor": 0
      },
      "text/plain": [
       "A Jupyter Widget"
      ]
     },
     "metadata": {},
     "output_type": "display_data"
    },
    {
     "name": "stdout",
     "output_type": "stream",
     "text": [
      "\n",
      "[Epoch:  56/100] Training Loss: 1.631, Training Acc: 0.741\n"
     ]
    },
    {
     "data": {
      "application/vnd.jupyter.widget-view+json": {
       "model_id": "8a6185fa823d4c91bbdb7a5309ff9b45",
       "version_major": 2,
       "version_minor": 0
      },
      "text/plain": [
       "A Jupyter Widget"
      ]
     },
     "metadata": {},
     "output_type": "display_data"
    },
    {
     "name": "stdout",
     "output_type": "stream",
     "text": [
      "\n",
      "[Epoch:  57/100] Training Loss: 1.630, Training Acc: 0.743\n"
     ]
    },
    {
     "data": {
      "application/vnd.jupyter.widget-view+json": {
       "model_id": "626fc28635784ca88ee650f748fb9c18",
       "version_major": 2,
       "version_minor": 0
      },
      "text/plain": [
       "A Jupyter Widget"
      ]
     },
     "metadata": {},
     "output_type": "display_data"
    },
    {
     "name": "stdout",
     "output_type": "stream",
     "text": [
      "\n",
      "[Epoch:  58/100] Training Loss: 1.628, Training Acc: 0.745\n"
     ]
    },
    {
     "data": {
      "application/vnd.jupyter.widget-view+json": {
       "model_id": "dcbecba5f8384dbd92a2c5a9d432df36",
       "version_major": 2,
       "version_minor": 0
      },
      "text/plain": [
       "A Jupyter Widget"
      ]
     },
     "metadata": {},
     "output_type": "display_data"
    },
    {
     "name": "stdout",
     "output_type": "stream",
     "text": [
      "\n",
      "[Epoch:  59/100] Training Loss: 1.626, Training Acc: 0.747\n"
     ]
    },
    {
     "data": {
      "application/vnd.jupyter.widget-view+json": {
       "model_id": "49093a854b7e4199942ecf549c134df1",
       "version_major": 2,
       "version_minor": 0
      },
      "text/plain": [
       "A Jupyter Widget"
      ]
     },
     "metadata": {},
     "output_type": "display_data"
    },
    {
     "name": "stdout",
     "output_type": "stream",
     "text": [
      "\n",
      "[Epoch:  60/100] Training Loss: 1.625, Training Acc: 0.748\n"
     ]
    },
    {
     "data": {
      "application/vnd.jupyter.widget-view+json": {
       "model_id": "ae96eeaabd3f49659ffccfc6441cbb6d",
       "version_major": 2,
       "version_minor": 0
      },
      "text/plain": [
       "A Jupyter Widget"
      ]
     },
     "metadata": {},
     "output_type": "display_data"
    },
    {
     "name": "stdout",
     "output_type": "stream",
     "text": [
      "\n",
      "[Epoch:  61/100] Training Loss: 1.623, Training Acc: 0.750\n"
     ]
    },
    {
     "data": {
      "application/vnd.jupyter.widget-view+json": {
       "model_id": "98a653e135ea4c74911e779b4ef1862a",
       "version_major": 2,
       "version_minor": 0
      },
      "text/plain": [
       "A Jupyter Widget"
      ]
     },
     "metadata": {},
     "output_type": "display_data"
    },
    {
     "name": "stdout",
     "output_type": "stream",
     "text": [
      "\n",
      "[Epoch:  62/100] Training Loss: 1.621, Training Acc: 0.751\n"
     ]
    },
    {
     "data": {
      "application/vnd.jupyter.widget-view+json": {
       "model_id": "dc799b0638c64571bb04a822a2445205",
       "version_major": 2,
       "version_minor": 0
      },
      "text/plain": [
       "A Jupyter Widget"
      ]
     },
     "metadata": {},
     "output_type": "display_data"
    },
    {
     "name": "stdout",
     "output_type": "stream",
     "text": [
      "\n",
      "[Epoch:  63/100] Training Loss: 1.620, Training Acc: 0.753\n"
     ]
    },
    {
     "data": {
      "application/vnd.jupyter.widget-view+json": {
       "model_id": "4987888ad80841e5be8b686ed6a6922f",
       "version_major": 2,
       "version_minor": 0
      },
      "text/plain": [
       "A Jupyter Widget"
      ]
     },
     "metadata": {},
     "output_type": "display_data"
    },
    {
     "name": "stdout",
     "output_type": "stream",
     "text": [
      "\n",
      "[Epoch:  64/100] Training Loss: 1.618, Training Acc: 0.755\n"
     ]
    },
    {
     "data": {
      "application/vnd.jupyter.widget-view+json": {
       "model_id": "c48e1293d4e04b009ab5c2a1b11ca37d",
       "version_major": 2,
       "version_minor": 0
      },
      "text/plain": [
       "A Jupyter Widget"
      ]
     },
     "metadata": {},
     "output_type": "display_data"
    },
    {
     "name": "stdout",
     "output_type": "stream",
     "text": [
      "\n",
      "[Epoch:  65/100] Training Loss: 1.617, Training Acc: 0.756\n"
     ]
    },
    {
     "data": {
      "application/vnd.jupyter.widget-view+json": {
       "model_id": "87a7f8f27a8a41159c3ca30a4b87540a",
       "version_major": 2,
       "version_minor": 0
      },
      "text/plain": [
       "A Jupyter Widget"
      ]
     },
     "metadata": {},
     "output_type": "display_data"
    },
    {
     "name": "stdout",
     "output_type": "stream",
     "text": [
      "\n",
      "[Epoch:  66/100] Training Loss: 1.615, Training Acc: 0.757\n"
     ]
    },
    {
     "data": {
      "application/vnd.jupyter.widget-view+json": {
       "model_id": "71290280b3c144d2b0ff88e1c62247a7",
       "version_major": 2,
       "version_minor": 0
      },
      "text/plain": [
       "A Jupyter Widget"
      ]
     },
     "metadata": {},
     "output_type": "display_data"
    },
    {
     "name": "stdout",
     "output_type": "stream",
     "text": [
      "\n",
      "[Epoch:  67/100] Training Loss: 1.614, Training Acc: 0.759\n"
     ]
    },
    {
     "data": {
      "application/vnd.jupyter.widget-view+json": {
       "model_id": "70f65acd823642c9b2c9ff98b7904cdd",
       "version_major": 2,
       "version_minor": 0
      },
      "text/plain": [
       "A Jupyter Widget"
      ]
     },
     "metadata": {},
     "output_type": "display_data"
    },
    {
     "name": "stdout",
     "output_type": "stream",
     "text": [
      "\n",
      "[Epoch:  68/100] Training Loss: 1.613, Training Acc: 0.760\n"
     ]
    },
    {
     "data": {
      "application/vnd.jupyter.widget-view+json": {
       "model_id": "1ba2ba2f3d124f59bff422934e87201f",
       "version_major": 2,
       "version_minor": 0
      },
      "text/plain": [
       "A Jupyter Widget"
      ]
     },
     "metadata": {},
     "output_type": "display_data"
    },
    {
     "name": "stdout",
     "output_type": "stream",
     "text": [
      "\n",
      "[Epoch:  69/100] Training Loss: 1.611, Training Acc: 0.762\n"
     ]
    },
    {
     "data": {
      "application/vnd.jupyter.widget-view+json": {
       "model_id": "d21ffe33c0f24991a82099e1a6566e6c",
       "version_major": 2,
       "version_minor": 0
      },
      "text/plain": [
       "A Jupyter Widget"
      ]
     },
     "metadata": {},
     "output_type": "display_data"
    },
    {
     "name": "stdout",
     "output_type": "stream",
     "text": [
      "\n",
      "[Epoch:  70/100] Training Loss: 1.610, Training Acc: 0.763\n"
     ]
    },
    {
     "data": {
      "application/vnd.jupyter.widget-view+json": {
       "model_id": "e191d254670b4b86854160e4ab6c7ce0",
       "version_major": 2,
       "version_minor": 0
      },
      "text/plain": [
       "A Jupyter Widget"
      ]
     },
     "metadata": {},
     "output_type": "display_data"
    },
    {
     "name": "stdout",
     "output_type": "stream",
     "text": [
      "\n",
      "[Epoch:  71/100] Training Loss: 1.609, Training Acc: 0.764\n"
     ]
    },
    {
     "data": {
      "application/vnd.jupyter.widget-view+json": {
       "model_id": "e5a88b54dfb84f8c99bf1b12cc05df38",
       "version_major": 2,
       "version_minor": 0
      },
      "text/plain": [
       "A Jupyter Widget"
      ]
     },
     "metadata": {},
     "output_type": "display_data"
    },
    {
     "name": "stdout",
     "output_type": "stream",
     "text": [
      "\n",
      "[Epoch:  72/100] Training Loss: 1.607, Training Acc: 0.766\n"
     ]
    },
    {
     "data": {
      "application/vnd.jupyter.widget-view+json": {
       "model_id": "4f4db5da27e743f29c1f0a7484d633c9",
       "version_major": 2,
       "version_minor": 0
      },
      "text/plain": [
       "A Jupyter Widget"
      ]
     },
     "metadata": {},
     "output_type": "display_data"
    },
    {
     "name": "stdout",
     "output_type": "stream",
     "text": [
      "\n",
      "[Epoch:  73/100] Training Loss: 1.606, Training Acc: 0.767\n"
     ]
    },
    {
     "data": {
      "application/vnd.jupyter.widget-view+json": {
       "model_id": "74ceed8a233349068582c8f6b42f56da",
       "version_major": 2,
       "version_minor": 0
      },
      "text/plain": [
       "A Jupyter Widget"
      ]
     },
     "metadata": {},
     "output_type": "display_data"
    },
    {
     "name": "stdout",
     "output_type": "stream",
     "text": [
      "\n",
      "[Epoch:  74/100] Training Loss: 1.605, Training Acc: 0.768\n"
     ]
    },
    {
     "data": {
      "application/vnd.jupyter.widget-view+json": {
       "model_id": "567be1210919422493c632b0d07afd02",
       "version_major": 2,
       "version_minor": 0
      },
      "text/plain": [
       "A Jupyter Widget"
      ]
     },
     "metadata": {},
     "output_type": "display_data"
    },
    {
     "name": "stdout",
     "output_type": "stream",
     "text": [
      "\n",
      "[Epoch:  75/100] Training Loss: 1.604, Training Acc: 0.769\n"
     ]
    },
    {
     "data": {
      "application/vnd.jupyter.widget-view+json": {
       "model_id": "c516b38a82ab44d7ad0a7667b5602a1f",
       "version_major": 2,
       "version_minor": 0
      },
      "text/plain": [
       "A Jupyter Widget"
      ]
     },
     "metadata": {},
     "output_type": "display_data"
    },
    {
     "name": "stdout",
     "output_type": "stream",
     "text": [
      "\n",
      "[Epoch:  76/100] Training Loss: 1.602, Training Acc: 0.771\n"
     ]
    },
    {
     "data": {
      "application/vnd.jupyter.widget-view+json": {
       "model_id": "44b60970170443a0879e8a365d0b4407",
       "version_major": 2,
       "version_minor": 0
      },
      "text/plain": [
       "A Jupyter Widget"
      ]
     },
     "metadata": {},
     "output_type": "display_data"
    },
    {
     "name": "stdout",
     "output_type": "stream",
     "text": [
      "\n",
      "[Epoch:  77/100] Training Loss: 1.601, Training Acc: 0.772\n"
     ]
    },
    {
     "data": {
      "application/vnd.jupyter.widget-view+json": {
       "model_id": "2afee7d218e74d51998c0c5fb718f35c",
       "version_major": 2,
       "version_minor": 0
      },
      "text/plain": [
       "A Jupyter Widget"
      ]
     },
     "metadata": {},
     "output_type": "display_data"
    },
    {
     "name": "stdout",
     "output_type": "stream",
     "text": [
      "\n",
      "[Epoch:  78/100] Training Loss: 1.600, Training Acc: 0.773\n"
     ]
    },
    {
     "data": {
      "application/vnd.jupyter.widget-view+json": {
       "model_id": "3c0290d5b2c045c19797ea4089df9981",
       "version_major": 2,
       "version_minor": 0
      },
      "text/plain": [
       "A Jupyter Widget"
      ]
     },
     "metadata": {},
     "output_type": "display_data"
    },
    {
     "name": "stdout",
     "output_type": "stream",
     "text": [
      "\n",
      "[Epoch:  79/100] Training Loss: 1.599, Training Acc: 0.774\n"
     ]
    },
    {
     "data": {
      "application/vnd.jupyter.widget-view+json": {
       "model_id": "433b5d584e1c4c0c9ed106e2842f5be8",
       "version_major": 2,
       "version_minor": 0
      },
      "text/plain": [
       "A Jupyter Widget"
      ]
     },
     "metadata": {},
     "output_type": "display_data"
    },
    {
     "name": "stdout",
     "output_type": "stream",
     "text": [
      "\n",
      "[Epoch:  80/100] Training Loss: 1.598, Training Acc: 0.775\n"
     ]
    },
    {
     "data": {
      "application/vnd.jupyter.widget-view+json": {
       "model_id": "467e764cdc9941648ae108d211b473f6",
       "version_major": 2,
       "version_minor": 0
      },
      "text/plain": [
       "A Jupyter Widget"
      ]
     },
     "metadata": {},
     "output_type": "display_data"
    },
    {
     "name": "stdout",
     "output_type": "stream",
     "text": [
      "\n",
      "[Epoch:  81/100] Training Loss: 1.597, Training Acc: 0.776\n"
     ]
    },
    {
     "data": {
      "application/vnd.jupyter.widget-view+json": {
       "model_id": "90fbe1bb0d764f7491fa491f4156c157",
       "version_major": 2,
       "version_minor": 0
      },
      "text/plain": [
       "A Jupyter Widget"
      ]
     },
     "metadata": {},
     "output_type": "display_data"
    },
    {
     "name": "stdout",
     "output_type": "stream",
     "text": [
      "\n",
      "[Epoch:  82/100] Training Loss: 1.596, Training Acc: 0.777\n"
     ]
    },
    {
     "data": {
      "application/vnd.jupyter.widget-view+json": {
       "model_id": "5c6de69570e54edf8156dc1e73f8930f",
       "version_major": 2,
       "version_minor": 0
      },
      "text/plain": [
       "A Jupyter Widget"
      ]
     },
     "metadata": {},
     "output_type": "display_data"
    },
    {
     "name": "stdout",
     "output_type": "stream",
     "text": [
      "\n",
      "[Epoch:  83/100] Training Loss: 1.594, Training Acc: 0.778\n"
     ]
    },
    {
     "data": {
      "application/vnd.jupyter.widget-view+json": {
       "model_id": "272af7f1e75247049c67d92ebba8e12c",
       "version_major": 2,
       "version_minor": 0
      },
      "text/plain": [
       "A Jupyter Widget"
      ]
     },
     "metadata": {},
     "output_type": "display_data"
    },
    {
     "name": "stdout",
     "output_type": "stream",
     "text": [
      "\n",
      "[Epoch:  84/100] Training Loss: 1.593, Training Acc: 0.780\n"
     ]
    },
    {
     "data": {
      "application/vnd.jupyter.widget-view+json": {
       "model_id": "1258dba1bb044ef58f73b0611c7a5a62",
       "version_major": 2,
       "version_minor": 0
      },
      "text/plain": [
       "A Jupyter Widget"
      ]
     },
     "metadata": {},
     "output_type": "display_data"
    },
    {
     "name": "stdout",
     "output_type": "stream",
     "text": [
      "\n",
      "[Epoch:  85/100] Training Loss: 1.592, Training Acc: 0.781\n"
     ]
    },
    {
     "data": {
      "application/vnd.jupyter.widget-view+json": {
       "model_id": "e57d9c572ecd4c6dafa25fafaf7a9e22",
       "version_major": 2,
       "version_minor": 0
      },
      "text/plain": [
       "A Jupyter Widget"
      ]
     },
     "metadata": {},
     "output_type": "display_data"
    },
    {
     "name": "stdout",
     "output_type": "stream",
     "text": [
      "\n",
      "[Epoch:  86/100] Training Loss: 1.591, Training Acc: 0.782\n"
     ]
    },
    {
     "data": {
      "application/vnd.jupyter.widget-view+json": {
       "model_id": "1ec046fd4933417aabbe368dab0ee227",
       "version_major": 2,
       "version_minor": 0
      },
      "text/plain": [
       "A Jupyter Widget"
      ]
     },
     "metadata": {},
     "output_type": "display_data"
    },
    {
     "name": "stdout",
     "output_type": "stream",
     "text": [
      "\n",
      "[Epoch:  87/100] Training Loss: 1.590, Training Acc: 0.783\n"
     ]
    },
    {
     "data": {
      "application/vnd.jupyter.widget-view+json": {
       "model_id": "2a75977a47c74c76878d46a4f3b0f611",
       "version_major": 2,
       "version_minor": 0
      },
      "text/plain": [
       "A Jupyter Widget"
      ]
     },
     "metadata": {},
     "output_type": "display_data"
    },
    {
     "name": "stdout",
     "output_type": "stream",
     "text": [
      "\n",
      "[Epoch:  88/100] Training Loss: 1.589, Training Acc: 0.784\n"
     ]
    },
    {
     "data": {
      "application/vnd.jupyter.widget-view+json": {
       "model_id": "dc80ae0a2d8e4603ab14e8f0b98b6567",
       "version_major": 2,
       "version_minor": 0
      },
      "text/plain": [
       "A Jupyter Widget"
      ]
     },
     "metadata": {},
     "output_type": "display_data"
    },
    {
     "name": "stdout",
     "output_type": "stream",
     "text": [
      "\n",
      "[Epoch:  89/100] Training Loss: 1.588, Training Acc: 0.785\n"
     ]
    },
    {
     "data": {
      "application/vnd.jupyter.widget-view+json": {
       "model_id": "148861a3babf484099278640ace5d188",
       "version_major": 2,
       "version_minor": 0
      },
      "text/plain": [
       "A Jupyter Widget"
      ]
     },
     "metadata": {},
     "output_type": "display_data"
    },
    {
     "name": "stdout",
     "output_type": "stream",
     "text": [
      "\n",
      "[Epoch:  90/100] Training Loss: 1.587, Training Acc: 0.786\n"
     ]
    },
    {
     "data": {
      "application/vnd.jupyter.widget-view+json": {
       "model_id": "6474b6c2dc65415592aa8e4d3b723352",
       "version_major": 2,
       "version_minor": 0
      },
      "text/plain": [
       "A Jupyter Widget"
      ]
     },
     "metadata": {},
     "output_type": "display_data"
    },
    {
     "name": "stdout",
     "output_type": "stream",
     "text": [
      "\n",
      "[Epoch:  91/100] Training Loss: 1.586, Training Acc: 0.786\n"
     ]
    },
    {
     "data": {
      "application/vnd.jupyter.widget-view+json": {
       "model_id": "86e7e3b3f45b407cb571c98d801bc39a",
       "version_major": 2,
       "version_minor": 0
      },
      "text/plain": [
       "A Jupyter Widget"
      ]
     },
     "metadata": {},
     "output_type": "display_data"
    },
    {
     "name": "stdout",
     "output_type": "stream",
     "text": [
      "\n",
      "[Epoch:  92/100] Training Loss: 1.586, Training Acc: 0.787\n"
     ]
    },
    {
     "data": {
      "application/vnd.jupyter.widget-view+json": {
       "model_id": "2e9c8875a2b143208e23ea9f4cb64d7c",
       "version_major": 2,
       "version_minor": 0
      },
      "text/plain": [
       "A Jupyter Widget"
      ]
     },
     "metadata": {},
     "output_type": "display_data"
    },
    {
     "name": "stdout",
     "output_type": "stream",
     "text": [
      "\n",
      "[Epoch:  93/100] Training Loss: 1.585, Training Acc: 0.788\n"
     ]
    },
    {
     "data": {
      "application/vnd.jupyter.widget-view+json": {
       "model_id": "4f67175fbebd464e93d7f62ee8a5d71f",
       "version_major": 2,
       "version_minor": 0
      },
      "text/plain": [
       "A Jupyter Widget"
      ]
     },
     "metadata": {},
     "output_type": "display_data"
    },
    {
     "name": "stdout",
     "output_type": "stream",
     "text": [
      "\n",
      "[Epoch:  94/100] Training Loss: 1.584, Training Acc: 0.789\n"
     ]
    },
    {
     "data": {
      "application/vnd.jupyter.widget-view+json": {
       "model_id": "eb01de252df04e64978ca142d4399e3a",
       "version_major": 2,
       "version_minor": 0
      },
      "text/plain": [
       "A Jupyter Widget"
      ]
     },
     "metadata": {},
     "output_type": "display_data"
    },
    {
     "name": "stdout",
     "output_type": "stream",
     "text": [
      "\n",
      "[Epoch:  95/100] Training Loss: 1.583, Training Acc: 0.790\n"
     ]
    },
    {
     "data": {
      "application/vnd.jupyter.widget-view+json": {
       "model_id": "eed87300ece14e30a1d681738aa91603",
       "version_major": 2,
       "version_minor": 0
      },
      "text/plain": [
       "A Jupyter Widget"
      ]
     },
     "metadata": {},
     "output_type": "display_data"
    },
    {
     "name": "stdout",
     "output_type": "stream",
     "text": [
      "\n",
      "[Epoch:  96/100] Training Loss: 1.582, Training Acc: 0.791\n"
     ]
    },
    {
     "data": {
      "application/vnd.jupyter.widget-view+json": {
       "model_id": "e4b6b747114847acba2b63292a20eac9",
       "version_major": 2,
       "version_minor": 0
      },
      "text/plain": [
       "A Jupyter Widget"
      ]
     },
     "metadata": {},
     "output_type": "display_data"
    },
    {
     "name": "stdout",
     "output_type": "stream",
     "text": [
      "\n",
      "[Epoch:  97/100] Training Loss: 1.581, Training Acc: 0.792\n"
     ]
    },
    {
     "data": {
      "application/vnd.jupyter.widget-view+json": {
       "model_id": "b4262a1397f24eab9f1ed0d7fb8b58bc",
       "version_major": 2,
       "version_minor": 0
      },
      "text/plain": [
       "A Jupyter Widget"
      ]
     },
     "metadata": {},
     "output_type": "display_data"
    },
    {
     "name": "stdout",
     "output_type": "stream",
     "text": [
      "\n",
      "[Epoch:  98/100] Training Loss: 1.580, Training Acc: 0.793\n"
     ]
    },
    {
     "data": {
      "application/vnd.jupyter.widget-view+json": {
       "model_id": "ff786c33d1dc42288b2ffaa11531d9bb",
       "version_major": 2,
       "version_minor": 0
      },
      "text/plain": [
       "A Jupyter Widget"
      ]
     },
     "metadata": {},
     "output_type": "display_data"
    },
    {
     "name": "stdout",
     "output_type": "stream",
     "text": [
      "\n",
      "[Epoch:  99/100] Training Loss: 1.579, Training Acc: 0.794\n"
     ]
    }
   ],
   "source": [
    "if __name__=='__main__':\n",
    "    \n",
    "    ## parameter setting\n",
    "    epochs = 100\n",
    "    batch_size = 1\n",
    "    use_gpu = torch.cuda.is_available()\n",
    "    learning_rate = 0.001\n",
    "\n",
    "    input_dim = 9\n",
    "    hidden_dim = 200\n",
    "    n_label = 9\n",
    "    n_layers = 1\n",
    "    \n",
    "    train_path = os.path.join(DATA_DIR, TRAIN_FILE)\n",
    "    test_path = os.path.join(DATA_DIR, TEST_FILE)\n",
    "    \n",
    "\n",
    "     ### ********************create model**************************\n",
    "    model = LSTMClassifier(input_dim, hidden_dim, n_label, batch_size, n_layers, use_gpu)\n",
    "    if use_gpu:\n",
    "        model = model.cuda()\n",
    "    \n",
    "    training_set = SudokuDataset(train_path)\n",
    "    train_loader = DataLoader(training_set,\n",
    "                          batch_size,\n",
    "                          shuffle=True,\n",
    "                          num_workers=0\n",
    "                          )\n",
    "    \n",
    "    print('TRAINING')\n",
    "\n",
    "    optimizer = optim.Adam(model.parameters())\n",
    "    loss_function = nn.CrossEntropyLoss()\n",
    "    train_loss_ = []\n",
    "    test_loss_ = []\n",
    "    train_acc_ = []\n",
    "    test_acc_ = []\n",
    "    \n",
    "    \n",
    "    def adjust_learning_rate(optimizer, epoch):\n",
    "        lr = learning_rate * (0.1 ** (epoch // 10))\n",
    "        for param_group in optimizer.param_groups:\n",
    "            param_group['lr'] = lr\n",
    "        return optimizer\n",
    "    \n",
    "    import pdb\n",
    "    nsamples = 1000//batch_size\n",
    "\n",
    "### training procedure\n",
    "\n",
    "#     t = trange(100, desc='Bar desc', leave=True)\n",
    "    for epoch in range(epochs):\n",
    "#         optimizer = adjust_learning_rate(optimizer, epoch)\n",
    "        total_acc = 0.0\n",
    "        total_loss = 0.0\n",
    "        total = 0.0\n",
    "\n",
    "#         model.hidden = model.init_hidden()\n",
    "\n",
    "#         t = trange(100000, desc='RNN', leave=True)\n",
    "        for i, traindata in zip(tqdm_notebook(range(nsamples)), train_loader):\n",
    "#             traindata = train_loader[i]\n",
    "            model.zero_grad()\n",
    "            train_inputs_raw, train_labels_raw = traindata\n",
    "#             print(train_inputs_raw.shape)\n",
    "\n",
    "            train_data_numpy = Variable(train_inputs_raw).data.numpy()\n",
    "            train_labels_numpy = Variable(train_labels_raw).data.numpy()\n",
    "            train_labels = Variable(torch.LongTensor(train_labels_numpy[0]))\n",
    "\n",
    "#             pdb.set_trace ()\n",
    "            input_grid = InputGrid(train_data_numpy[0])\n",
    "            row_tensor, col_tensor, square_tensor = input_grid.getInput()\n",
    "\n",
    "            if use_gpu:\n",
    "                row_tensor, col_tensor, square_tensor, train_labels = \\\n",
    "                        row_tensor.cuda(), col_tensor.cuda(), square_tensor.cuda(), train_labels.cuda()\n",
    "\n",
    "            model.hidden = model.init_hidden()\n",
    "            model.batch_size =  batch_size \n",
    "            output = model(row_tensor, col_tensor, square_tensor)\n",
    "            output = output.view(81,9)\n",
    "\n",
    "\n",
    "#             for i in range(output.size()[1]):\n",
    "            loss = loss_function(output, train_labels.view(81,))\n",
    "            loss.backward()\n",
    "            optimizer.step()\n",
    "\n",
    "            # calc training acc\n",
    "            _, predicted = torch.max(output.data, 1)\n",
    "#             print(predicted.shape)\n",
    "#             print('TrainPred =  ',predicted, 'While TrainLabel = ' ,train_labels.data)\n",
    "            acc = (predicted == train_labels.data.view(81)).sum()/81\n",
    "#             print(acc)\n",
    "            total += 81\n",
    "#             print(loss.data[0])\n",
    "#             print (acc)\n",
    "\n",
    "#        print(\"loss:\", loss.data[0], \"acc\", total_acc)\n",
    "            train_loss_.append(loss.data[0])\n",
    "            train_acc_.append(acc)\n",
    "\n",
    "#             t.set_description(\"Bar desc (file %i)\" % iter)\n",
    "#             tqdm.refresh(self=) # t/o show immediately the update\n",
    "\n",
    "        print('[Epoch: %3d/%3d] Training Loss: %.3f, Training Acc: %.3f' \n",
    "                  % (epoch, epochs, np.mean(train_loss_), np.mean (train_acc_)))\n",
    "    torch.save(model.state_dict(), save_filepath)\n"
   ]
  },
  {
   "cell_type": "code",
   "execution_count": 33,
   "metadata": {},
   "outputs": [
    {
     "name": "stdout",
     "output_type": "stream",
     "text": [
      "data\\test.csv\n"
     ]
    },
    {
     "data": {
      "application/vnd.jupyter.widget-view+json": {
       "model_id": "3895708d51424d8494ff8361e1a2a915",
       "version_major": 2,
       "version_minor": 0
      },
      "text/plain": [
       "A Jupyter Widget"
      ]
     },
     "metadata": {},
     "output_type": "display_data"
    },
    {
     "name": "stdout",
     "output_type": "stream",
     "text": [
      "TrainPred =  \n",
      "    8     5     8     8     2     7     3     4     0\n",
      "    2     3     6     8     5     8     7     5     3\n",
      "    7     3     4     1     2     4     8     3     6\n",
      "    0     8     5     7     4     7     1     5     5\n",
      "    2     8     3     2     6     4     0     7     1\n",
      "    1     1     0     3     1     5     8     7     2\n",
      "    5     6     6     6     4     1     3     0     8\n",
      "    3     4     2     7     7     0     6     0     1\n",
      "    7     8     6     7     3     1     7     2     5\n",
      "[torch.cuda.LongTensor of size 9x9 (GPU 0)]\n",
      " While TrainLabel =  \n",
      "    3     5     8     6     7     2     1     4     0\n",
      "    2     1     6     5     4     0     7     8     3\n",
      "    7     0     4     1     8     3     2     5     6\n",
      "    0     2     5     8     1     7     3     6     4\n",
      "    8     7     3     2     6     4     0     1     5\n",
      "    6     4     1     3     0     5     8     7     2\n",
      "    5     6     7     0     2     1     4     3     8\n",
      "    4     3     2     7     5     8     6     0     1\n",
      "    1     8     0     4     3     6     5     2     7\n",
      "[torch.cuda.LongTensor of size 9x9 (GPU 0)]\n",
      "\n",
      "TrainPred =  \n",
      "    8     7     2     3     1     0     1     2     6\n",
      "    5     3     6     4     5     7     1     8     0\n",
      "    5     0     1     6     5     4     3     1     7\n",
      "    8     5     1     0     2     3     4     5     2\n",
      "    2     6     8     7     6     7     1     0     5\n",
      "    3     4     1     7     8     2     6     3     4\n",
      "    6     0     5     3     3     8     1     4     2\n",
      "    1     8     7     2     0     4     5     8     0\n",
      "    1     6     8     5     6     3     6     4     0\n",
      "[torch.cuda.LongTensor of size 9x9 (GPU 0)]\n",
      " While TrainLabel =  \n",
      "    8     1     7     3     5     0     4     2     6\n",
      "    5     3     6     4     2     7     0     1     8\n",
      "    4     0     2     6     8     1     3     5     7\n",
      "    7     6     1     0     4     5     8     3     2\n",
      "    2     4     8     7     3     6     1     0     5\n",
      "    3     5     0     8     1     2     6     7     4\n",
      "    6     2     5     1     0     8     7     4     3\n",
      "    0     7     3     2     6     4     5     8     1\n",
      "    1     8     4     5     7     3     2     6     0\n",
      "[torch.cuda.LongTensor of size 9x9 (GPU 0)]\n",
      "\n",
      "TrainPred =  \n",
      "    0     5     5     8     8     7     1     5     2\n",
      "    8     6     7     2     1     5     3     4     0\n",
      "    2     3     7     0     8     6     4     2     7\n",
      "    3     4     8     6     3     1     7     6     5\n",
      "    3     7     3     2     8     1     8     0     8\n",
      "    5     7     0     6     2     3     4     1     3\n",
      "    4     2     5     7     4     0     6     3     1\n",
      "    7     6     3     4     2     1     0     5     6\n",
      "    4     1     5     6     4     6     2     3     8\n",
      "[torch.cuda.LongTensor of size 9x9 (GPU 0)]\n",
      " While TrainLabel =  \n",
      "    0     5     4     3     8     7     1     6     2\n",
      "    8     6     7     2     1     5     3     4     0\n",
      "    2     3     1     0     4     6     5     8     7\n",
      "    3     4     6     8     0     1     7     2     5\n",
      "    1     7     8     5     3     2     6     0     4\n",
      "    5     2     0     6     7     4     8     1     3\n",
      "    6     8     2     7     5     0     4     3     1\n",
      "    7     1     3     4     2     8     0     5     6\n",
      "    4     0     5     1     6     3     2     7     8\n",
      "[torch.cuda.LongTensor of size 9x9 (GPU 0)]\n",
      "\n",
      "TrainPred =  \n",
      "    1     4     7     0     6     7     6     6     3\n",
      "    8     5     8     7     1     5     4     0     3\n",
      "    3     6     2     3     4     2     8     7     7\n",
      "    5     8     0     1     2     4     2     2     0\n",
      "    7     8     3     4     6     2     5     2     8\n",
      "    1     1     7     5     1     3     2     0     4\n",
      "    6     1     5     8     7     8     8     2     5\n",
      "    4     1     3     0     6     2     5     6     1\n",
      "    8     4     5     5     8     1     4     5     7\n",
      "[torch.cuda.LongTensor of size 9x9 (GPU 0)]\n",
      " While TrainLabel =  \n",
      "    1     4     8     0     2     6     5     7     3\n",
      "    3     5     0     7     1     8     4     6     2\n",
      "    2     6     7     3     4     5     8     1     0\n",
      "    5     8     2     1     0     4     7     3     6\n",
      "    0     3     4     2     6     7     1     8     5\n",
      "    6     7     1     5     8     3     2     0     4\n",
      "    4     1     5     6     7     0     3     2     8\n",
      "    7     0     3     8     5     2     6     4     1\n",
      "    8     2     6     4     3     1     0     5     7\n",
      "[torch.cuda.LongTensor of size 9x9 (GPU 0)]\n",
      "\n",
      "TrainPred =  \n",
      "    1     1     3     5     3     7     6     0     4\n",
      "    0     3     2     3     1     6     7     5     5\n",
      "    4     0     8     7     0     7     6     6     3\n",
      "    7     1     5     4     7     8     4     4     0\n",
      "    2     0     3     3     1     3     4     6     8\n",
      "    6     1     2     5     6     0     7     4     7\n",
      "    3     6     6     8     1     8     4     2     7\n",
      "    5     4     1     3     5     3     0     4     6\n",
      "    8     2     7     6     1     7     4     7     0\n",
      "[torch.cuda.LongTensor of size 9x9 (GPU 0)]\n",
      " While TrainLabel =  \n",
      "    1     3     6     2     5     7     8     0     4\n",
      "    0     5     2     8     4     3     7     6     1\n",
      "    4     7     8     1     0     6     2     5     3\n",
      "    5     1     3     4     2     8     6     7     0\n",
      "    2     0     4     7     6     1     5     3     8\n",
      "    6     8     7     5     3     0     1     4     2\n",
      "    3     6     5     0     1     2     4     8     7\n",
      "    7     4     1     3     8     5     0     2     6\n",
      "    8     2     0     6     7     4     3     1     5\n",
      "[torch.cuda.LongTensor of size 9x9 (GPU 0)]\n",
      "\n",
      "TrainPred =  \n",
      "    7     3     1     2     1     8     6     3     6\n",
      "    3     5     1     4     4     2     7     2     5\n",
      "    6     7     8     3     5     1     2     4     0\n",
      "    3     2     1     5     7     0     4     8     5\n",
      "    6     8     6     4     5     7     5     1     3\n",
      "    3     0     7     6     1     3     5     6     2\n",
      "    5     3     2     1     0     3     6     7     5\n",
      "    8     8     4     0     2     8     2     3     1\n",
      "    0     7     5     3     8     6     8     2     4\n",
      "[torch.cuda.LongTensor of size 9x9 (GPU 0)]\n",
      " While TrainLabel =  \n",
      "    2     4     0     7     3     8     1     5     6\n",
      "    1     5     3     6     4     2     7     0     8\n",
      "    6     7     8     0     5     1     2     4     3\n",
      "    3     2     1     5     6     0     4     8     7\n",
      "    5     8     6     4     2     7     3     1     0\n",
      "    4     0     7     8     1     3     5     6     2\n",
      "    8     3     2     1     0     4     6     7     5\n",
      "    7     6     4     2     8     5     0     3     1\n",
      "    0     1     5     3     7     6     8     2     4\n",
      "[torch.cuda.LongTensor of size 9x9 (GPU 0)]\n",
      "\n",
      "TrainPred =  \n",
      "    3     2     7     1     1     5     0     7     8\n",
      "    6     6     2     8     3     6     4     5     1\n",
      "    6     7     7     2     0     5     1     1     6\n",
      "    7     4     8     3     4     0     2     1     4\n",
      "    0     7     4     4     5     1     1     8     6\n",
      "    8     2     4     6     5     8     0     5     1\n",
      "    5     2     7     7     7     3     4     7     8\n",
      "    2     6     5     8     2     0     1     4     4\n",
      "    4     2     3     7     1     4     8     5     0\n",
      "[torch.cuda.LongTensor of size 9x9 (GPU 0)]\n",
      " While TrainLabel =  \n",
      "    3     4     1     8     0     5     6     7     2\n",
      "    5     7     2     1     3     6     4     0     8\n",
      "    6     8     0     2     4     7     5     1     3\n",
      "    7     6     8     3     1     0     2     4     5\n",
      "    0     1     3     4     5     2     7     8     6\n",
      "    2     5     4     6     7     8     0     3     1\n",
      "    1     0     7     5     6     3     8     2     4\n",
      "    8     3     5     0     2     4     1     6     7\n",
      "    4     2     6     7     8     1     3     5     0\n",
      "[torch.cuda.LongTensor of size 9x9 (GPU 0)]\n",
      "\n",
      "TrainPred =  \n",
      "    8     2     2     7     4     5     3     7     6\n",
      "    7     8     5     2     0     3     7     7     6\n",
      "    2     0     4     8     6     0     3     5     2\n",
      "    7     5     3     2     4     8     3     2     1\n",
      "    4     1     8     6     3     5     6     4     2\n",
      "    7     5     0     6     1     8     5     3     0\n",
      "    0     2     7     0     4     6     0     1     0\n",
      "    4     0     6     7     3     7     2     4     4\n",
      "    5     1     3     0     2     6     3     1     8\n",
      "[torch.cuda.LongTensor of size 9x9 (GPU 0)]\n"
     ]
    },
    {
     "name": "stdout",
     "output_type": "stream",
     "text": [
      " While TrainLabel =  \n",
      "    8     3     2     4     7     5     1     0     6\n",
      "    6     7     5     1     0     3     8     2     4\n",
      "    1     0     4     8     6     2     3     5     7\n",
      "    3     5     6     2     4     0     7     8     1\n",
      "    2     1     8     3     5     7     6     4     0\n",
      "    7     4     0     6     1     8     5     3     2\n",
      "    4     2     7     5     8     6     0     1     3\n",
      "    0     8     1     7     3     4     2     6     5\n",
      "    5     6     3     0     2     1     4     7     8\n",
      "[torch.cuda.LongTensor of size 9x9 (GPU 0)]\n",
      "\n",
      "TrainPred =  \n",
      "    5     8     0     4     4     3     2     7     8\n",
      "    7     0     6     1     5     2     5     4     1\n",
      "    2     5     3     7     8     4     6     5     2\n",
      "    5     0     0     2     7     8     0     6     2\n",
      "    1     7     6     3     1     8     4     8     5\n",
      "    3     0     2     6     4     1     7     6     5\n",
      "    6     1     8     4     0     2     1     4     6\n",
      "    2     0     0     0     3     8     1     1     6\n",
      "    8     7     4     5     6     6     2     2     0\n",
      "[torch.cuda.LongTensor of size 9x9 (GPU 0)]\n",
      " While TrainLabel =  \n",
      "    8     6     0     1     5     3     2     7     4\n",
      "    7     4     3     6     2     0     5     8     1\n",
      "    1     5     2     7     8     4     6     3     0\n",
      "    4     8     1     0     7     5     3     6     2\n",
      "    5     2     6     3     1     8     4     0     7\n",
      "    3     0     7     2     4     6     1     5     8\n",
      "    6     3     8     4     0     2     7     1     5\n",
      "    2     1     5     8     3     7     0     4     6\n",
      "    0     7     4     5     6     1     8     2     3\n",
      "[torch.cuda.LongTensor of size 9x9 (GPU 0)]\n",
      "\n",
      "TrainPred =  \n",
      "    5     4     8     3     0     0     3     7     0\n",
      "    1     6     1     2     4     1     7     0     3\n",
      "    5     4     0     7     8     3     1     2     2\n",
      "    4     0     7     6     4     4     7     0     3\n",
      "    1     1     4     0     7     5     8     2     1\n",
      "    3     6     3     0     6     0     4     7     2\n",
      "    6     2     1     3     6     4     0     8     3\n",
      "    4     5     6     7     0     2     6     8     6\n",
      "    0     5     3     4     3     7     4     1     6\n",
      "[torch.cuda.LongTensor of size 9x9 (GPU 0)]\n",
      " While TrainLabel =  \n",
      "    1     4     2     3     5     0     7     6     8\n",
      "    7     6     8     2     4     1     5     0     3\n",
      "    5     3     0     7     8     6     1     4     2\n",
      "    6     0     7     4     2     8     3     5     1\n",
      "    3     1     4     0     7     5     8     2     6\n",
      "    8     2     5     6     1     3     4     7     0\n",
      "    2     7     1     8     6     4     0     3     5\n",
      "    4     5     3     1     0     2     6     8     7\n",
      "    0     8     6     5     3     7     2     1     4\n",
      "[torch.cuda.LongTensor of size 9x9 (GPU 0)]\n",
      "\n",
      "TrainPred =  \n",
      "    8     7     8     7     4     1     2     0     6\n",
      "    3     1     1     0     2     6     5     1     7\n",
      "    4     4     8     1     8     7     6     0     3\n",
      "    0     5     4     1     1     2     2     8     2\n",
      "    1     7     1     5     6     6     5     4     0\n",
      "    2     0     3     0     2     7     8     6     0\n",
      "    6     3     0     7     5     5     4     2     1\n",
      "    4     8     5     1     6     0     2     4     8\n",
      "    4     3     7     8     5     4     8     2     4\n",
      "[torch.cuda.LongTensor of size 9x9 (GPU 0)]\n",
      " While TrainLabel =  \n",
      "    7     6     8     5     4     3     2     0     1\n",
      "    3     4     1     0     2     8     5     7     6\n",
      "    5     0     2     6     1     7     4     8     3\n",
      "    8     5     4     3     7     6     0     1     2\n",
      "    0     7     6     2     8     1     3     4     5\n",
      "    2     1     3     4     0     5     8     6     7\n",
      "    6     8     0     7     3     2     1     5     4\n",
      "    4     2     5     1     6     0     7     3     8\n",
      "    1     3     7     8     5     4     6     2     0\n",
      "[torch.cuda.LongTensor of size 9x9 (GPU 0)]\n",
      "\n",
      "TrainPred =  \n",
      "    2     8     3     5     3     4     4     6     6\n",
      "    4     0     1     6     7     2     2     3     0\n",
      "    3     7     6     8     4     0     1     3     3\n",
      "    7     5     6     0     8     2     3     3     4\n",
      "    6     2     3     6     1     0     5     7     6\n",
      "    0     5     4     6     2     7     4     8     0\n",
      "    1     8     4     2     0     6     4     5     2\n",
      "    4     4     7     8     5     2     1     6     3\n",
      "    3     3     7     1     6     4     3     0     8\n",
      "[torch.cuda.LongTensor of size 9x9 (GPU 0)]\n",
      " While TrainLabel =  \n",
      "    4     8     2     5     6     1     0     3     7\n",
      "    5     0     1     3     7     2     8     4     6\n",
      "    3     7     6     8     4     0     2     1     5\n",
      "    7     5     4     0     8     3     6     2     1\n",
      "    0     2     8     6     1     5     3     7     4\n",
      "    6     1     3     4     2     7     5     8     0\n",
      "    1     3     7     2     0     6     4     5     8\n",
      "    2     4     0     7     5     8     1     6     3\n",
      "    8     6     5     1     3     4     7     0     2\n",
      "[torch.cuda.LongTensor of size 9x9 (GPU 0)]\n",
      "\n",
      "TrainPred =  \n",
      "    4     6     0     2     6     8     7     5     5\n",
      "    3     1     8     1     0     6     5     1     6\n",
      "    4     5     8     8     8     7     1     2     0\n",
      "    7     2     1     6     6     3     0     6     1\n",
      "    4     5     7     5     2     4     6     0     0\n",
      "    0     8     1     2     3     3     0     7     5\n",
      "    5     3     2     6     3     0     0     2     8\n",
      "    7     6     3     7     4     5     8     7     1\n",
      "    3     3     0     1     6     2     7     0     5\n",
      "[torch.cuda.LongTensor of size 9x9 (GPU 0)]\n",
      " While TrainLabel =  \n",
      "    1     0     6     2     5     8     7     3     4\n",
      "    3     7     8     4     0     6     5     1     2\n",
      "    4     5     2     3     1     7     8     6     0\n",
      "    7     2     4     5     6     1     0     8     3\n",
      "    0     8     5     7     2     3     1     4     6\n",
      "    6     3     1     0     8     4     2     7     5\n",
      "    5     1     3     6     7     0     4     2     8\n",
      "    2     6     7     8     4     5     3     0     1\n",
      "    8     4     0     1     3     2     6     5     7\n",
      "[torch.cuda.LongTensor of size 9x9 (GPU 0)]\n",
      "\n",
      "TrainPred =  \n",
      "    7     0     7     2     7     4     5     6     6\n",
      "    4     3     7     1     7     2     3     8     0\n",
      "    5     6     5     4     4     1     1     2     4\n",
      "    3     7     7     8     0     6     4     5     5\n",
      "    8     4     6     4     7     6     2     0     0\n",
      "    3     1     1     2     5     7     8     8     4\n",
      "    6     6     0     8     4     4     8     2     1\n",
      "    7     5     1     8     4     6     0     8     8\n",
      "    6     8     2     0     6     5     1     7     1\n",
      "[torch.cuda.LongTensor of size 9x9 (GPU 0)]\n",
      " While TrainLabel =  \n",
      "    8     0     1     2     3     4     5     6     7\n",
      "    2     3     5     1     6     7     4     8     0\n",
      "    4     6     7     5     8     0     1     3     2\n",
      "    3     2     4     6     0     1     7     5     8\n",
      "    5     1     6     4     7     8     2     0     3\n",
      "    0     7     8     3     5     2     6     1     4\n",
      "    6     4     0     7     1     3     8     2     5\n",
      "    7     5     3     8     2     6     0     4     1\n",
      "    1     8     2     0     4     5     3     7     6\n",
      "[torch.cuda.LongTensor of size 9x9 (GPU 0)]\n",
      "\n",
      "TrainPred =  \n",
      "    1     8     6     0     3     1     4     8     2\n",
      "    3     5     4     8     0     7     6     1     5\n",
      "    3     2     3     8     6     5     4     6     7\n",
      "    4     6     8     7     2     1     3     2     5\n",
      "    2     2     3     1     8     2     6     0     7\n",
      "    6     5     6     0     0     4     3     4     8\n",
      "    4     6     2     6     0     0     6     5     6\n",
      "    6     0     7     4     8     7     3     3     1\n",
      "    5     8     2     2     6     2     0     8     8\n",
      "[torch.cuda.LongTensor of size 9x9 (GPU 0)]\n",
      " While TrainLabel =  \n",
      "    0     8     4     1     3     6     5     7     2\n",
      "    3     6     5     2     4     7     8     1     0\n",
      "    1     2     7     8     0     5     4     6     3\n",
      "    4     7     8     6     2     3     1     0     5\n",
      "    2     5     3     0     8     1     6     4     7\n",
      "    6     1     0     5     7     4     3     2     8\n",
      "    8     4     2     3     1     0     7     5     6\n",
      "    7     0     6     4     5     8     2     3     1\n",
      "    5     3     1     7     6     2     0     8     4\n",
      "[torch.cuda.LongTensor of size 9x9 (GPU 0)]\n"
     ]
    },
    {
     "name": "stdout",
     "output_type": "stream",
     "text": [
      "\n",
      "TrainPred =  \n",
      "    4     2     3     8     3     0     1     5     7\n",
      "    8     2     7     2     5     5     4     2     0\n",
      "    0     5     0     6     3     1     1     8     4\n",
      "    5     2     4     0     2     3     7     4     6\n",
      "    2     0     8     4     5     1     7     3     5\n",
      "    6     3     6     1     6     8     5     1     2\n",
      "    6     8     7     5     0     3     4     6     7\n",
      "    1     0     6     8     3     8     5     0     0\n",
      "    2     3     5     6     5     7     8     5     4\n",
      "[torch.cuda.LongTensor of size 9x9 (GPU 0)]\n",
      " While TrainLabel =  \n",
      "    4     6     3     8     5     0     1     2     7\n",
      "    8     0     7     2     1     6     4     3     5\n",
      "    1     5     2     7     3     4     6     8     0\n",
      "    5     7     1     0     2     3     8     4     6\n",
      "    3     2     8     4     6     5     7     0     1\n",
      "    6     4     0     1     7     8     3     5     2\n",
      "    7     8     4     5     0     1     2     6     3\n",
      "    0     1     6     3     4     2     5     7     8\n",
      "    2     3     5     6     8     7     0     1     4\n",
      "[torch.cuda.LongTensor of size 9x9 (GPU 0)]\n",
      "\n",
      "TrainPred =  \n",
      "    4     7     8     3     5     5     2     1     7\n",
      "    5     5     5     5     1     8     7     1     3\n",
      "    0     4     2     6     0     3     1     8     0\n",
      "    7     5     5     2     2     2     1     3     4\n",
      "    8     7     0     7     6     7     8     5     7\n",
      "    2     1     4     4     0     4     4     4     7\n",
      "    3     6     4     8     4     3     5     0     4\n",
      "    8     4     1     2     8     4     6     5     4\n",
      "    4     7     1     8     5     7     8     6     3\n",
      "[torch.cuda.LongTensor of size 9x9 (GPU 0)]\n",
      " While TrainLabel =  \n",
      "    6     7     8     3     0     4     2     1     5\n",
      "    1     0     5     7     2     8     6     4     3\n",
      "    3     4     2     6     1     5     7     8     0\n",
      "    7     8     6     0     5     2     1     3     4\n",
      "    5     3     0     4     7     1     8     2     6\n",
      "    2     1     4     8     3     6     0     5     7\n",
      "    4     6     7     1     8     3     5     0     2\n",
      "    8     5     3     2     6     0     4     7     1\n",
      "    0     2     1     5     4     7     3     6     8\n",
      "[torch.cuda.LongTensor of size 9x9 (GPU 0)]\n",
      "\n",
      "TrainPred =  \n",
      "    2     8     6     3     4     1     7     5     5\n",
      "    1     3     3     7     1     0     2     1     5\n",
      "    7     4     5     7     2     6     8     0     4\n",
      "    7     7     1     0     6     5     8     4     1\n",
      "    0     5     3     4     0     6     7     2     7\n",
      "    8     4     3     2     8     7     2     0     0\n",
      "    6     1     4     2     3     7     5     7     8\n",
      "    4     6     7     1     4     2     3     6     5\n",
      "    0     5     5     4     6     4     3     1     2\n",
      "[torch.cuda.LongTensor of size 9x9 (GPU 0)]\n",
      " While TrainLabel =  \n",
      "    2     8     6     5     4     3     1     7     0\n",
      "    4     3     1     8     7     0     2     6     5\n",
      "    0     7     5     6     2     1     8     3     4\n",
      "    7     6     2     3     8     5     0     4     1\n",
      "    1     5     3     4     0     6     7     2     8\n",
      "    8     4     0     2     1     7     6     5     3\n",
      "    6     1     4     0     3     2     5     8     7\n",
      "    3     2     7     1     5     8     4     0     6\n",
      "    5     0     8     7     6     4     3     1     2\n",
      "[torch.cuda.LongTensor of size 9x9 (GPU 0)]\n",
      "\n",
      "TrainPred =  \n",
      "    3     6     0     8     2     1     8     5     7\n",
      "    1     2     7     6     2     0     3     3     8\n",
      "    4     5     3     7     7     8     3     6     1\n",
      "    6     8     7     2     0     7     6     6     5\n",
      "    7     0     3     8     2     8     4     0     7\n",
      "    7     5     5     2     1     3     0     8     3\n",
      "    6     4     7     7     0     0     2     2     2\n",
      "    2     1     0     5     4     7     8     7     6\n",
      "    2     7     8     1     0     2     3     5     4\n",
      "[torch.cuda.LongTensor of size 9x9 (GPU 0)]\n",
      " While TrainLabel =  \n",
      "    3     6     0     8     2     1     5     4     7\n",
      "    1     5     7     3     4     0     2     6     8\n",
      "    8     2     4     7     6     5     0     3     1\n",
      "    5     8     2     4     0     7     6     1     3\n",
      "    7     1     3     6     5     8     4     2     0\n",
      "    0     4     6     2     1     3     7     8     5\n",
      "    6     3     5     0     8     4     1     7     2\n",
      "    4     7     1     5     3     2     8     0     6\n",
      "    2     0     8     1     7     6     3     5     4\n",
      "[torch.cuda.LongTensor of size 9x9 (GPU 0)]\n",
      "\n",
      "TrainPred =  \n",
      "    6     1     5     8     0     3     4     8     2\n",
      "    7     1     2     5     6     4     1     0     3\n",
      "    3     1     7     3     2     7     8     4     4\n",
      "    2     6     7     3     2     2     0     4     1\n",
      "    5     4     7     5     5     6     7     3     7\n",
      "    1     0     3     8     5     6     7     2     8\n",
      "    7     7     4     8     7     3     1     5     0\n",
      "    1     1     5     6     2     1     4     8     0\n",
      "    3     4     3     4     5     7     6     2     2\n",
      "[torch.cuda.LongTensor of size 9x9 (GPU 0)]\n",
      " While TrainLabel =  \n",
      "    4     3     6     8     0     1     5     7     2\n",
      "    7     8     2     5     6     4     1     0     3\n",
      "    5     1     0     7     3     2     8     6     4\n",
      "    2     6     8     3     7     5     0     4     1\n",
      "    0     4     7     2     1     8     6     3     5\n",
      "    1     5     3     0     4     6     7     2     8\n",
      "    6     2     4     1     8     0     3     5     7\n",
      "    8     7     5     6     2     3     4     1     0\n",
      "    3     0     1     4     5     7     2     8     6\n",
      "[torch.cuda.LongTensor of size 9x9 (GPU 0)]\n",
      "\n",
      "TrainPred =  \n",
      "    3     4     0     5     7     8     4     2     2\n",
      "    1     3     8     7     2     7     1     5     7\n",
      "    6     3     8     4     0     3     2     7     5\n",
      "    3     8     6     7     6     8     6     3     0\n",
      "    2     1     7     5     8     2     5     4     1\n",
      "    5     6     7     7     3     0     4     3     7\n",
      "    0     8     2     4     1     4     4     6     5\n",
      "    6     7     0     6     2     7     3     7     4\n",
      "    1     2     5     8     2     4     1     5     5\n",
      "[torch.cuda.LongTensor of size 9x9 (GPU 0)]\n",
      " While TrainLabel =  \n",
      "    2     7     0     5     3     8     4     6     1\n",
      "    1     4     8     6     7     2     0     5     3\n",
      "    6     3     5     4     0     1     2     7     8\n",
      "    8     2     4     7     6     5     1     3     0\n",
      "    0     1     7     2     8     3     5     4     6\n",
      "    5     6     3     1     4     0     8     2     7\n",
      "    4     8     2     3     1     7     6     0     5\n",
      "    7     5     1     0     2     6     3     8     4\n",
      "    3     0     6     8     5     4     7     1     2\n",
      "[torch.cuda.LongTensor of size 9x9 (GPU 0)]\n",
      "\n",
      "TrainPred =  \n",
      "    1     0     5     4     6     2     5     7     7\n",
      "    4     6     0     8     3     1     5     5     2\n",
      "    5     6     7     0     6     4     5     0     6\n",
      "    3     0     2     1     6     8     1     7     2\n",
      "    2     2     2     5     0     4     8     1     1\n",
      "    1     5     2     7     3     8     4     4     0\n",
      "    7     7     5     4     7     5     0     5     5\n",
      "    5     2     5     1     0     3     4     8     6\n",
      "    0     4     8     6     6     5     1     4     2\n",
      "[torch.cuda.LongTensor of size 9x9 (GPU 0)]\n",
      " While TrainLabel =  \n",
      "    1     0     3     4     2     7     6     5     8\n",
      "    4     6     5     8     3     1     2     0     7\n",
      "    8     2     7     0     5     6     3     1     4\n",
      "    3     4     8     2     6     0     1     7     5\n",
      "    6     1     0     5     7     4     8     2     3\n",
      "    7     5     2     3     1     8     4     6     0\n",
      "    5     8     6     7     4     2     0     3     1\n",
      "    2     7     4     1     0     3     5     8     6\n",
      "    0     3     1     6     8     5     7     4     2\n",
      "[torch.cuda.LongTensor of size 9x9 (GPU 0)]\n",
      "\n",
      "TrainPred =  \n",
      "    4     1     6     5     4     7     0     4     1\n",
      "    3     2     4     8     6     0     5     1     7\n",
      "    3     5     8     1     4     4     2     8     7\n",
      "    0     3     1     2     1     6     4     5     0\n",
      "    1     3     7     0     8     7     1     2     4\n",
      "    2     6     3     5     1     4     2     8     0\n",
      "    4     1     7     6     0     5     6     3     4\n",
      "    4     0     2     7     2     3     6     4     8\n",
      "    7     8     5     4     8     2     1     2     0\n",
      "[torch.cuda.LongTensor of size 9x9 (GPU 0)]\n"
     ]
    },
    {
     "name": "stdout",
     "output_type": "stream",
     "text": [
      " While TrainLabel =  \n",
      "    8     1     6     3     5     7     0     2     4\n",
      "    7     2     4     8     6     0     5     1     3\n",
      "    3     5     0     1     4     2     8     6     7\n",
      "    0     3     8     2     7     6     4     5     1\n",
      "    2     4     5     0     8     1     3     7     6\n",
      "    1     6     7     5     3     4     2     8     0\n",
      "    4     8     1     6     0     5     7     3     2\n",
      "    5     0     2     7     1     3     6     4     8\n",
      "    6     7     3     4     2     8     1     0     5\n",
      "[torch.cuda.LongTensor of size 9x9 (GPU 0)]\n",
      "\n",
      "TrainPred =  \n",
      "    5     1     0     3     8     5     5     7     5\n",
      "    3     2     2     0     4     8     8     6     1\n",
      "    5     6     4     8     2     7     3     0     1\n",
      "    4     8     2     5     0     6     1     4     0\n",
      "    7     3     0     6     8     7     4     2     6\n",
      "    1     1     7     4     2     3     8     4     5\n",
      "    2     1     5     6     0     2     4     7     8\n",
      "    4     1     0     0     3     2     5     4     6\n",
      "    7     3     8     7     8     4     0     1     7\n",
      "[torch.cuda.LongTensor of size 9x9 (GPU 0)]\n",
      " While TrainLabel =  \n",
      "    2     1     0     3     6     8     5     7     4\n",
      "    3     7     8     0     4     5     2     6     1\n",
      "    5     6     4     1     2     7     3     8     0\n",
      "    4     8     2     5     7     6     1     0     3\n",
      "    1     5     3     2     8     0     6     4     7\n",
      "    6     0     7     4     1     3     8     2     5\n",
      "    7     2     5     6     0     1     4     3     8\n",
      "    0     4     1     8     3     2     7     5     6\n",
      "    8     3     6     7     5     4     0     1     2\n",
      "[torch.cuda.LongTensor of size 9x9 (GPU 0)]\n",
      "\n",
      "TrainPred =  \n",
      "    5     7     4     1     0     0     3     6     2\n",
      "    3     0     4     5     5     5     7     1     8\n",
      "    5     1     3     0     1     4     4     3     2\n",
      "    0     6     1     6     8     6     2     3     4\n",
      "    6     2     3     4     1     0     7     5     0\n",
      "    4     2     6     8     3     4     1     0     7\n",
      "    1     2     4     6     3     8     5     2     0\n",
      "    8     4     3     1     3     3     7     6     5\n",
      "    5     2     8     3     3     7     5     5     1\n",
      "[torch.cuda.LongTensor of size 9x9 (GPU 0)]\n",
      " While TrainLabel =  \n",
      "    5     6     2     1     7     4     3     8     0\n",
      "    7     0     4     8     2     3     6     1     5\n",
      "    8     1     3     0     6     5     4     7     2\n",
      "    0     5     1     7     8     6     2     3     4\n",
      "    3     2     7     4     1     0     8     5     6\n",
      "    4     8     6     5     3     2     1     0     7\n",
      "    1     7     0     6     4     8     5     2     3\n",
      "    2     4     5     3     0     1     7     6     8\n",
      "    6     3     8     2     5     7     0     4     1\n",
      "[torch.cuda.LongTensor of size 9x9 (GPU 0)]\n",
      "\n",
      "TrainPred =  \n",
      "    3     6     6     3     7     1     0     6     1\n",
      "    5     4     1     3     2     8     1     7     3\n",
      "    0     6     8     6     4     3     2     5     4\n",
      "    4     5     7     0     8     0     1     7     4\n",
      "    6     1     2     0     3     7     7     0     5\n",
      "    2     3     4     8     8     4     6     2     8\n",
      "    4     0     1     0     5     2     7     8     3\n",
      "    5     6     4     8     0     7     5     1     7\n",
      "    5     3     2     3     4     0     2     8     8\n",
      "[torch.cuda.LongTensor of size 9x9 (GPU 0)]\n",
      " While TrainLabel =  \n",
      "    1     2     6     3     7     4     0     5     8\n",
      "    3     4     5     0     2     8     6     7     1\n",
      "    0     7     8     6     1     5     2     3     4\n",
      "    2     5     0     4     3     6     1     8     7\n",
      "    6     1     3     2     8     7     4     0     5\n",
      "    7     8     4     1     5     0     3     2     6\n",
      "    8     0     1     5     6     2     7     4     3\n",
      "    4     6     7     8     0     3     5     1     2\n",
      "    5     3     2     7     4     1     8     6     0\n",
      "[torch.cuda.LongTensor of size 9x9 (GPU 0)]\n",
      "\n",
      "TrainPred =  \n",
      "    5     7     5     8     2     1     4     3     0\n",
      "    6     8     2     1     7     5     8     0     1\n",
      "    4     0     0     5     3     6     7     2     7\n",
      "    3     4     4     1     3     0     8     6     1\n",
      "    5     1     0     6     4     8     2     2     7\n",
      "    0     3     6     1     2     2     0     4     2\n",
      "    2     1     6     5     2     2     2     2     8\n",
      "    7     6     6     0     8     0     2     1     4\n",
      "    2     6     5     7     1     3     3     0     3\n",
      "[torch.cuda.LongTensor of size 9x9 (GPU 0)]\n",
      " While TrainLabel =  \n",
      "    3     7     8     4     2     1     6     5     0\n",
      "    6     0     2     3     7     5     4     8     1\n",
      "    4     5     1     8     0     6     7     2     3\n",
      "    1     4     7     2     3     0     8     6     5\n",
      "    5     2     0     6     4     8     1     3     7\n",
      "    8     3     6     1     5     7     0     4     2\n",
      "    0     1     4     5     6     2     3     7     8\n",
      "    7     6     5     0     8     3     2     1     4\n",
      "    2     8     3     7     1     4     5     0     6\n",
      "[torch.cuda.LongTensor of size 9x9 (GPU 0)]\n",
      "\n",
      "TrainPred =  \n",
      "    0     6     3     2     1     8     2     0     4\n",
      "    1     1     1     7     4     5     6     0     2\n",
      "    3     8     1     7     8     7     7     4     1\n",
      "    0     1     8     6     7     1     3     2     5\n",
      "    8     1     4     8     7     0     6     6     7\n",
      "    2     7     5     6     8     3     7     8     1\n",
      "    6     4     6     5     8     8     6     3     3\n",
      "    5     3     2     1     4     6     3     0     8\n",
      "    7     4     7     2     0     6     1     8     4\n",
      "[torch.cuda.LongTensor of size 9x9 (GPU 0)]\n",
      " While TrainLabel =  \n",
      "    6     2     3     4     1     8     5     7     0\n",
      "    4     0     8     7     3     5     6     1     2\n",
      "    7     5     1     0     6     2     3     4     8\n",
      "    0     3     4     6     7     1     8     2     5\n",
      "    8     1     6     5     2     0     4     3     7\n",
      "    2     7     5     8     4     3     0     6     1\n",
      "    1     4     0     3     5     7     2     8     6\n",
      "    5     6     2     1     8     4     7     0     3\n",
      "    3     8     7     2     0     6     1     5     4\n",
      "[torch.cuda.LongTensor of size 9x9 (GPU 0)]\n",
      "\n",
      "TrainPred =  \n",
      "    4     4     6     2     6     7     7     1     8\n",
      "    2     6     7     0     4     0     6     6     5\n",
      "    1     0     2     8     8     3     4     7     6\n",
      "    7     8     3     4     6     1     2     2     0\n",
      "    1     5     1     3     8     0     6     4     6\n",
      "    7     1     1     6     5     7     7     3     0\n",
      "    7     2     3     4     7     4     1     8     2\n",
      "    8     0     5     7     0     2     5     7     1\n",
      "    4     6     7     7     4     1     0     3     5\n",
      "[torch.cuda.LongTensor of size 9x9 (GPU 0)]\n",
      " While TrainLabel =  \n",
      "    5     4     6     2     3     7     0     1     8\n",
      "    1     8     7     0     4     6     3     2     5\n",
      "    3     0     2     5     1     8     4     7     6\n",
      "    7     3     8     4     6     0     2     5     1\n",
      "    2     5     0     1     8     3     6     4     7\n",
      "    6     1     4     7     5     2     8     3     0\n",
      "    0     2     3     6     7     5     1     8     4\n",
      "    8     7     1     3     0     4     5     6     2\n",
      "    4     6     5     8     2     1     7     0     3\n",
      "[torch.cuda.LongTensor of size 9x9 (GPU 0)]\n",
      "\n",
      "TrainPred =  \n",
      "    8     7     7     0     4     7     2     3     7\n",
      "    0     7     2     3     6     6     1     5     8\n",
      "    1     5     2     6     0     7     3     0     1\n",
      "    8     7     2     2     5     4     7     6     4\n",
      "    5     3     7     1     7     0     5     8     0\n",
      "    6     3     7     8     2     5     7     7     3\n",
      "    0     4     8     7     8     6     2     2     8\n",
      "    1     7     8     8     4     0     7     2     3\n",
      "    5     6     3     7     1     8     2     0     5\n",
      "[torch.cuda.LongTensor of size 9x9 (GPU 0)]\n",
      " While TrainLabel =  \n",
      "    5     0     6     1     4     8     2     3     7\n",
      "    7     1     2     3     0     5     4     6     8\n",
      "    3     8     4     6     7     2     5     0     1\n",
      "    8     2     1     0     5     3     6     7     4\n",
      "    4     3     5     7     6     1     0     8     2\n",
      "    6     7     0     8     2     4     1     5     3\n",
      "    0     4     7     2     8     6     3     1     5\n",
      "    1     5     8     4     3     0     7     2     6\n",
      "    2     6     3     5     1     7     8     4     0\n",
      "[torch.cuda.LongTensor of size 9x9 (GPU 0)]\n"
     ]
    },
    {
     "name": "stdout",
     "output_type": "stream",
     "text": [
      "\n",
      "\n",
      "[Epoch:   1/  1], Testing Acc: 0.467\n"
     ]
    }
   ],
   "source": [
    "### TEST\n",
    "epochs = 100\n",
    "batch_size = 1\n",
    "use_gpu = torch.cuda.is_available()\n",
    "learning_rate = 0.001\n",
    "\n",
    "input_dim = 9\n",
    "hidden_dim = 200\n",
    "n_label = 9\n",
    "n_layers = 1\n",
    "\n",
    "train_path = os.path.join(DATA_DIR, TRAIN_FILE)\n",
    "test_path = os.path.join(DATA_DIR, TEST_FILE)\n",
    "\n",
    "\n",
    " ### ********************create model**************************\n",
    "model = LSTMClassifier(input_dim, hidden_dim, n_label, batch_size, n_layers, use_gpu)\n",
    "if use_gpu:\n",
    "    model = model.cuda()    \n",
    "\n",
    "\n",
    "model.load_state_dict(torch.load(save_filepath))\n",
    "model.eval()\n",
    "total_acc = 0.0\n",
    "#     total_loss = 0.0\n",
    "total = 0.0\n",
    "\n",
    "test_set = SudokuDataset(train_path)\n",
    "test_loader = DataLoader(test_set,\n",
    "                        batch_size,\n",
    "                        shuffle=True,\n",
    "                        num_workers=0\n",
    "                        )\n",
    "nsamples = 30\n",
    "test_loss_ = []\n",
    "test_acc_ = []\n",
    "\n",
    "for i, testdata in zip(tqdm_notebook(range(nsamples)), test_loader):\n",
    "    model.zero_grad()\n",
    "    train_inputs_raw, train_labels_raw = testdata\n",
    "#             print(train_inputs_raw.shape)\n",
    "\n",
    "    train_data_numpy = Variable(train_inputs_raw).data.numpy()\n",
    "    train_labels_numpy = Variable(train_labels_raw).data.numpy()\n",
    "    train_labels = Variable(torch.LongTensor(train_labels_numpy[0]))\n",
    "\n",
    "    input_grid = InputGrid(train_data_numpy[0])\n",
    "    row_tensor, col_tensor, square_tensor = input_grid.getInput()\n",
    "\n",
    "    if use_gpu:\n",
    "        row_tensor, col_tensor, square_tensor, train_labels = \\\n",
    "                row_tensor.cuda(), col_tensor.cuda(), square_tensor.cuda(), train_labels.cuda()\n",
    "\n",
    "    model.hidden = model.init_hidden()\n",
    "    model.batch_size = batch_size \n",
    "    output = model(row_tensor, col_tensor, square_tensor)\n",
    "    output = output.view(81,9)\n",
    "\n",
    "#             for i in range(output.size()[1]):\n",
    "#         loss = loss_function(output, train_labels.view(81,))\n",
    "# #         loss.backward()\n",
    "# #         optimizer.step()\n",
    "\n",
    "    # calc training acc\n",
    "    _, predicted = torch.max(output.data, 1)\n",
    "#             print(predicted.shape)\n",
    "    print('TrainPred = ', predicted.view(9,9), 'While TrainLabel = ' ,train_labels.data.view(9,9))\n",
    "    acc = (predicted == train_labels.data.view(81)).sum()/81\n",
    "#             print(acc)\n",
    "#             print(loss.data[0])\n",
    "#             print (acc)\n",
    "\n",
    "#        print(\"loss:\", loss.data[0], \"acc\", total_acc)\n",
    "#     test_loss_.append(loss.data[0])\n",
    "    test_acc_.append(acc)\n",
    "\n",
    "#             t.set_description(\"Bar desc (file %i)\" % iter)\n",
    "#             tqdm.refresh(self=) # t/o show immediately the update\n",
    "\n",
    "print('[Epoch: %3d/%3d], Testing Acc: %.3f' % (1, 1, np.mean (test_acc_)))"
   ]
  },
  {
   "cell_type": "code",
   "execution_count": null,
   "metadata": {
    "collapsed": true
   },
   "outputs": [],
   "source": [
    "    "
   ]
  }
 ],
 "metadata": {
  "kernelspec": {
   "display_name": "Python 3",
   "language": "python",
   "name": "python3"
  },
  "language_info": {
   "codemirror_mode": {
    "name": "ipython",
    "version": 3
   },
   "file_extension": ".py",
   "mimetype": "text/x-python",
   "name": "python",
   "nbconvert_exporter": "python",
   "pygments_lexer": "ipython3",
   "version": "3.6.1"
  }
 },
 "nbformat": 4,
 "nbformat_minor": 2
}
