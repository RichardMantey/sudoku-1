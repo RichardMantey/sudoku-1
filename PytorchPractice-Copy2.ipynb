{
 "cells": [
  {
   "cell_type": "code",
   "execution_count": 35,
   "metadata": {
    "collapsed": true
   },
   "outputs": [],
   "source": [
    "import os\n",
    "import torch\n",
    "import copy\n",
    "import pickle\n",
    "import tensorflow as tf\n",
    "import numpy as np\n",
    "import math as math\n",
    "from torch.utils.data import DataLoader\n",
    "from torch.utils.data.dataset import Dataset\n",
    "# from Downloads import LSTMSudokuClassifier as LSTMC\n",
    "import torch.optim as optim\n",
    "import torch.nn as nn\n",
    "import torch.nn.functional as F\n",
    "from torch.autograd import Variable\n",
    "from random import randint\n",
    "from tqdm import tqdm_notebook"
   ]
  },
  {
   "cell_type": "code",
   "execution_count": 36,
   "metadata": {
    "collapsed": true
   },
   "outputs": [],
   "source": [
    "class LSTMClassifier(nn.Module):\n",
    "\n",
    "    def __init__(self, input_dim, hidden_dim, n_label, batch_size, n_layers, use_gpu):\n",
    "        super(LSTMClassifier, self).__init__()\n",
    "        self.input_dim = input_dim\n",
    "        self.hidden_dim = hidden_dim\n",
    "        self.use_gpu = use_gpu\n",
    "        self.n_layers = n_layers\n",
    "               \n",
    "        self.lstm1 = nn.LSTM(input_dim, hidden_dim, n_layers, bidirectional=True)\n",
    "        self.lstm2 = nn.LSTM(input_dim, hidden_dim, n_layers, bidirectional=True)\n",
    "        self.lstm3 = nn.LSTM(input_dim, hidden_dim, n_layers, bidirectional=True)\n",
    "        \n",
    "        self.hidden2label = nn.Sequential(torch.nn.Linear(2*hidden_dim, n_label),\n",
    "                                          torch.nn.Softmax(dim = -1))\n",
    "\n",
    "        \n",
    "        \n",
    "\n",
    "    def init_hidden(self,batch_size):\n",
    "        if self.use_gpu:\n",
    "            h0 = Variable(torch.zeros(2*n_layers, batch_size, self.hidden_dim).cuda())\n",
    "            c0 = Variable(torch.zeros(2*n_layers, batch_size, self.hidden_dim).cuda())\n",
    "        else:\n",
    "            h0 = Variable(torch.zeros(2*n_layers, batch_size, self.hidden_dim))\n",
    "            c0 = Variable(torch.zeros(2*n_layers, batch_size, self.hidden_dim))\n",
    "        return (h0, c0)\n",
    "    \n",
    "    def ManipulateSquare(self, lstm_out_square):\n",
    "        counter = 0\n",
    "        inner_stack = None\n",
    "        outer_stack = None\n",
    "        for i in range(3):\n",
    "            for j in range(3):\n",
    "                x = lstm_out_square[counter,:,:]\n",
    "                counter += 1\n",
    "                x = x.view(3,3,2*hidden_dim)#change to 2*hidden_dim\n",
    "                if inner_stack is None:\n",
    "                    inner_stack = x\n",
    "                else:\n",
    "                    inner_stack = torch.cat((inner_stack,x),1)        \n",
    "            if outer_stack is None:\n",
    "#                 print(inner_stack.shape)\n",
    "                outer_stack = inner_stack\n",
    "                inner_stack = None\n",
    "#                 print('B = ',outer_stack)\n",
    "            else:\n",
    "#                 print(inner_stack.shape)\n",
    "                outer_stack = torch.cat((outer_stack,inner_stack),0)\n",
    "#                 print('B = ',outer_stack)\n",
    "                inner_stack = None\n",
    "        return outer_stack\n",
    "\n",
    "    def forward(self, row_tensor, col_tensor, square_tensor):\n",
    "        \n",
    "        r_hidden = self.init_hidden(batch_size)\n",
    "        c_hidden = self.init_hidden(batch_size)\n",
    "        s_hidden = self.init_hidden(batch_size)\n",
    "        \n",
    "        lstm_out_row, hidden_row = self.lstm1(row_tensor, r_hidden)\n",
    "        lstm_out_col, hidden_col = self.lstm2(col_tensor, c_hidden)\n",
    "        lstm_out_square, hidden_square = self.lstm3(square_tensor, s_hidden)\n",
    "        \n",
    "#         self.r_hidden = hidden_row\n",
    "#         self.c_hidden = hidden_col\n",
    "#         self.s_hidden = hidden_square\n",
    "        \n",
    "        # Do manipulation Here\n",
    "        #Row & Col Manipulation\n",
    "        row_col = lstm_out_row + lstm_out_col +lstm_out_square \n",
    "        #Square Manipulation\n",
    "        lstm_out = row_col \n",
    "        lstm_out_tensor = lstm_out\n",
    "#         if self.use_gpu:\n",
    "#             lstm_out_tensor = lstm_out.cuda()\n",
    "#         print(\"final tensor\", lstm_out_tensor.shape, lstm_out_tensor)\n",
    "        \n",
    "        #Sum Square Row Col\n",
    "        y  = self.hidden2label(lstm_out_tensor)\n",
    "#         print('Output Shape ', y.shape)\n",
    "        return y"
   ]
  },
  {
   "cell_type": "code",
   "execution_count": 37,
   "metadata": {
    "collapsed": true
   },
   "outputs": [],
   "source": [
    "class InputGrid():\n",
    "    \n",
    "    def __init__(self, Grid):\n",
    "        self.Grid = Grid\n",
    "        self.gridLength = len(Grid[0])\n",
    "        \n",
    "    def getlims(self, i):\n",
    "        if 0 <= i <= 2:\n",
    "            rowlims = [0,3]\n",
    "        elif 3 <= i <= 5:\n",
    "            rowlims = [3,6]\n",
    "        elif 6 <= i <= 8:\n",
    "                rowlims = [6,9]\n",
    "        return rowlims\n",
    "\n",
    "    def get_square(self, i):\n",
    "        grid_square = None\n",
    "        if i < 3:\n",
    "            if i%3 == 0:\n",
    "                grid_square = self.Grid[0:3,0:3]\n",
    "            elif i%3 == 1:\n",
    "                grid_square = self.Grid[0:3,3:6]\n",
    "            elif i%3 == 2:\n",
    "                grid_square = self.Grid[0:3,6:9]\n",
    "        elif i < 6:\n",
    "            if i%3 == 0:\n",
    "                grid_square = self.Grid[3:6,0:3]\n",
    "            elif i%3 == 1:\n",
    "                grid_square = self.Grid[3:6,3:6]\n",
    "            elif i%3 == 2:\n",
    "                grid_square = self.Grid[3:6,6:9]\n",
    "        elif i < 9:\n",
    "            if i%3 == 0:\n",
    "                grid_square = self.Grid[6:9,0:3]\n",
    "            elif i%3 == 1:\n",
    "                grid_square = self.Grid[6:9,3:6]\n",
    "            elif i%3 == 2:\n",
    "                grid_square = self.Grid[6:9,6:9]\n",
    "        return grid_square.flatten()\n",
    "                \n",
    "    \n",
    "    # takes 1D returns 2D\n",
    "    def one_hot(self, vec):\n",
    "        one_hot_matrix = []\n",
    "        for val in vec:\n",
    "            hot_vec = [0 for _ in range(9)]\n",
    "            if val > 0:\n",
    "                hot_vec[int(val)-1] = 1\n",
    "            one_hot_matrix.append(hot_vec)\n",
    "        real_one_hot = np.array(one_hot_matrix)\n",
    "        return real_one_hot\n",
    "    \n",
    "    #takes 2D returns 3D\n",
    "    def getInput(self):\n",
    "#         print(self.Grid)\n",
    "        Rows = np.zeros((9,9,9))\n",
    "        Columns = np.zeros((9,9,9))\n",
    "        Squares = np.zeros((9,9,9))\n",
    "        for i in range(self.gridLength):\n",
    "            hot_row = self.one_hot(self.Grid[i,:])\n",
    "            hot_column = self.one_hot(self.Grid[:,i])\n",
    "            hot_square = self.one_hot(self.get_square(i))\n",
    "            \n",
    "            Rows[i] = hot_row\n",
    "            Columns[i] = hot_column\n",
    "            Squares[i] = hot_square\n",
    "        \n",
    "        Rows = np.reshape (Rows , (1, 81, 9))\n",
    "        Columns = np.reshape (Columns, (1, 81, 9))\n",
    "        Squares = np.reshape (Squares, (1, 81, 9))\n",
    "#         Rows = np.transpose (Rows, ((1, 0, 2)))\n",
    "#         Columns = np.transpose (Columns, ((1, 0, 2)))\n",
    "#         Squares = np.transpose (Squares, ((1, 0, 2)))\n",
    "\n",
    "        row_tensor = torch.FloatTensor(Rows)\n",
    "        col_tensor = torch.FloatTensor(Columns)\n",
    "        square_tensor = torch.FloatTensor(Squares)\n",
    "#         label_tensor = Variable(torch.LongTensor(Labels))\n",
    "#         print(row_tensor)\n",
    "#         print(col_tensor)\n",
    "#         print(square_tensor)\n",
    "#         print(label_tensor)\n",
    "                 \n",
    "        return row_tensor, col_tensor, square_tensor"
   ]
  },
  {
   "cell_type": "code",
   "execution_count": 38,
   "metadata": {
    "collapsed": true,
    "scrolled": true
   },
   "outputs": [],
   "source": [
    "# use_plot = True\n",
    "# use_save = True\n",
    "# if use_save:\n",
    "#      import pickle\n",
    "#     from datetime import datetime\n",
    "\n",
    "DATA_DIR = 'C://Users//Akrofi//Documents//GitHub//sudoku//data'\n",
    "TRAIN_FILE = 'kaggle_sudoku.csv'\n",
    "TEST_FILE = 'sudoku_test.txt'\n",
    "TRAIN_LABEL = 'train_label.txt'\n",
    "TEST_LABEL = 'test_label.txt'"
   ]
  },
  {
   "cell_type": "code",
   "execution_count": 39,
   "metadata": {
    "collapsed": true
   },
   "outputs": [],
   "source": [
    "class SudokuDataset(Dataset):\n",
    "    def __init__(self, fpath):\n",
    "        \n",
    "        print(fpath)\n",
    "        lines = open(fpath, 'r').read().splitlines()[1:]\n",
    "        nsamples = 10000\n",
    "\n",
    "        X = np.zeros((nsamples, 9*9), np.float32)  \n",
    "        Y = np.zeros((nsamples, 9*9), np.int32) \n",
    "\n",
    "        for i, line in enumerate(lines):\n",
    "            quiz, solution = line.split(\",\")\n",
    "            for j, (q, s) in enumerate(zip(quiz, solution)):\n",
    "                X[i, j], Y[i, j] = q, s\n",
    "            if i>=nsamples-1:\n",
    "                break\n",
    "\n",
    "        X = np.reshape(X, (-1, 9, 9))\n",
    "        Y = np.reshape(Y, (-1, 9, 9))\n",
    "        Y -= 1\n",
    "        self.X = X\n",
    "        self.Y = Y\n",
    "#         print(Y)\n",
    "#         print(Y.shape)\n",
    "\n",
    "    def __getitem__(self, index):\n",
    "        quiz = self.X[index]\n",
    "        sol = self.Y[index]\n",
    "        return quiz, sol\n",
    "    \n",
    "    def __len__(self):\n",
    "        return len(self.X)"
   ]
  },
  {
   "cell_type": "code",
   "execution_count": 44,
   "metadata": {},
   "outputs": [
    {
     "name": "stdout",
     "output_type": "stream",
     "text": [
      "C://Users//Akrofi//Documents//GitHub//sudoku//data\\kaggle_sudoku.csv\n"
     ]
    },
    {
     "data": {
      "application/vnd.jupyter.widget-view+json": {
       "model_id": "ec519d6e78b84997aa20b6c36a42372e",
       "version_major": 2,
       "version_minor": 0
      },
      "text/plain": [
       "A Jupyter Widget"
      ]
     },
     "metadata": {},
     "output_type": "display_data"
    },
    {
     "name": "stderr",
     "output_type": "stream",
     "text": [
      "C:\\Users\\Akrofi\\Anaconda3\\lib\\site-packages\\torch\\tensor.py:360: UserWarning: self and other not broadcastable, but have the same number of elements.  Falling back to deprecated pointwise behavior.\n",
      "  return self.eq(other)\n"
     ]
    },
    {
     "name": "stdout",
     "output_type": "stream",
     "text": [
      "\n"
     ]
    },
    {
     "name": "stderr",
     "output_type": "stream",
     "text": [
      "Exception in thread Thread-42:\n",
      "Traceback (most recent call last):\n",
      "  File \"C:\\Users\\Akrofi\\Anaconda3\\lib\\threading.py\", line 916, in _bootstrap_inner\n",
      "    self.run()\n",
      "  File \"C:\\Users\\Akrofi\\Anaconda3\\lib\\site-packages\\tqdm\\_monitor.py\", line 63, in run\n",
      "    for instance in self.tqdm_cls._instances:\n",
      "  File \"C:\\Users\\Akrofi\\Anaconda3\\lib\\_weakrefset.py\", line 60, in __iter__\n",
      "    for itemref in self.data:\n",
      "RuntimeError: Set changed size during iteration\n",
      "\n"
     ]
    },
    {
     "name": "stdout",
     "output_type": "stream",
     "text": [
      "\n",
      "[Epoch:   0/ 50] Training Loss: 1.982, Training Acc: 0.459\n"
     ]
    },
    {
     "data": {
      "application/vnd.jupyter.widget-view+json": {
       "model_id": "6d2b01ee2bc64eea8f830ae2df3eccb5",
       "version_major": 2,
       "version_minor": 0
      },
      "text/plain": [
       "A Jupyter Widget"
      ]
     },
     "metadata": {},
     "output_type": "display_data"
    },
    {
     "name": "stdout",
     "output_type": "stream",
     "text": [
      "\n",
      "[Epoch:   1/ 50] Training Loss: 1.917, Training Acc: 0.476\n"
     ]
    },
    {
     "data": {
      "application/vnd.jupyter.widget-view+json": {
       "model_id": "4262c12c36df469e81865835cec6e7c6",
       "version_major": 2,
       "version_minor": 0
      },
      "text/plain": [
       "A Jupyter Widget"
      ]
     },
     "metadata": {},
     "output_type": "display_data"
    },
    {
     "name": "stdout",
     "output_type": "stream",
     "text": [
      "\n",
      "[Epoch:   2/ 50] Training Loss: 1.895, Training Acc: 0.482\n"
     ]
    },
    {
     "data": {
      "application/vnd.jupyter.widget-view+json": {
       "model_id": "885e690acc1d41dead922cbac5ece2d7",
       "version_major": 2,
       "version_minor": 0
      },
      "text/plain": [
       "A Jupyter Widget"
      ]
     },
     "metadata": {},
     "output_type": "display_data"
    },
    {
     "name": "stdout",
     "output_type": "stream",
     "text": [
      "\n",
      "[Epoch:   3/ 50] Training Loss: 1.884, Training Acc: 0.485\n"
     ]
    },
    {
     "data": {
      "application/vnd.jupyter.widget-view+json": {
       "model_id": "d26dcccfea0d4534a64afeea54199c05",
       "version_major": 2,
       "version_minor": 0
      },
      "text/plain": [
       "A Jupyter Widget"
      ]
     },
     "metadata": {},
     "output_type": "display_data"
    },
    {
     "name": "stdout",
     "output_type": "stream",
     "text": [
      "\n",
      "[Epoch:   4/ 50] Training Loss: 1.877, Training Acc: 0.487\n"
     ]
    },
    {
     "data": {
      "application/vnd.jupyter.widget-view+json": {
       "model_id": "8c52a91e17254f9fbaafbe34ccb5355d",
       "version_major": 2,
       "version_minor": 0
      },
      "text/plain": [
       "A Jupyter Widget"
      ]
     },
     "metadata": {},
     "output_type": "display_data"
    },
    {
     "name": "stdout",
     "output_type": "stream",
     "text": [
      "\n",
      "[Epoch:   5/ 50] Training Loss: 1.873, Training Acc: 0.488\n"
     ]
    },
    {
     "data": {
      "application/vnd.jupyter.widget-view+json": {
       "model_id": "35bf63990ca5416c8069fb708acbdbea",
       "version_major": 2,
       "version_minor": 0
      },
      "text/plain": [
       "A Jupyter Widget"
      ]
     },
     "metadata": {},
     "output_type": "display_data"
    },
    {
     "name": "stdout",
     "output_type": "stream",
     "text": [
      "\n",
      "[Epoch:   6/ 50] Training Loss: 1.869, Training Acc: 0.489\n"
     ]
    },
    {
     "data": {
      "application/vnd.jupyter.widget-view+json": {
       "model_id": "3b515b1680f44f288c6088b1e2611686",
       "version_major": 2,
       "version_minor": 0
      },
      "text/plain": [
       "A Jupyter Widget"
      ]
     },
     "metadata": {},
     "output_type": "display_data"
    },
    {
     "name": "stdout",
     "output_type": "stream",
     "text": [
      "\n",
      "[Epoch:   7/ 50] Training Loss: 1.867, Training Acc: 0.490\n"
     ]
    },
    {
     "data": {
      "application/vnd.jupyter.widget-view+json": {
       "model_id": "1711488c711343a6b562c09667e64ad6",
       "version_major": 2,
       "version_minor": 0
      },
      "text/plain": [
       "A Jupyter Widget"
      ]
     },
     "metadata": {},
     "output_type": "display_data"
    },
    {
     "name": "stdout",
     "output_type": "stream",
     "text": [
      "\n",
      "[Epoch:   8/ 50] Training Loss: 1.865, Training Acc: 0.490\n"
     ]
    },
    {
     "data": {
      "application/vnd.jupyter.widget-view+json": {
       "model_id": "5971397d6c1742b99e0ea31a67bb2669",
       "version_major": 2,
       "version_minor": 0
      },
      "text/plain": [
       "A Jupyter Widget"
      ]
     },
     "metadata": {},
     "output_type": "display_data"
    },
    {
     "name": "stdout",
     "output_type": "stream",
     "text": [
      "\n"
     ]
    },
    {
     "ename": "KeyboardInterrupt",
     "evalue": "",
     "output_type": "error",
     "traceback": [
      "\u001b[1;31m---------------------------------------------------------------------------\u001b[0m",
      "\u001b[1;31mKeyboardInterrupt\u001b[0m                         Traceback (most recent call last)",
      "\u001b[1;32m<ipython-input-44-4637b98b4acc>\u001b[0m in \u001b[0;36m<module>\u001b[1;34m()\u001b[0m\n\u001b[0;32m     70\u001b[0m             \u001b[1;32mfor\u001b[0m \u001b[0mi\u001b[0m \u001b[1;32min\u001b[0m \u001b[0mrange\u001b[0m\u001b[1;33m(\u001b[0m\u001b[0mcur_batch\u001b[0m\u001b[1;33m)\u001b[0m\u001b[1;33m:\u001b[0m\u001b[1;33m\u001b[0m\u001b[0m\n\u001b[0;32m     71\u001b[0m                 \u001b[0minput_grid\u001b[0m \u001b[1;33m=\u001b[0m \u001b[0mInputGrid\u001b[0m\u001b[1;33m(\u001b[0m\u001b[0mtrain_data_numpy\u001b[0m\u001b[1;33m[\u001b[0m\u001b[0mi\u001b[0m\u001b[1;33m]\u001b[0m\u001b[1;33m)\u001b[0m\u001b[1;33m\u001b[0m\u001b[0m\n\u001b[1;32m---> 72\u001b[1;33m                 \u001b[0mrow_tensor\u001b[0m\u001b[1;33m,\u001b[0m \u001b[0mcol_tensor\u001b[0m\u001b[1;33m,\u001b[0m \u001b[0msquare_tensor\u001b[0m \u001b[1;33m=\u001b[0m \u001b[0minput_grid\u001b[0m\u001b[1;33m.\u001b[0m\u001b[0mgetInput\u001b[0m\u001b[1;33m(\u001b[0m\u001b[1;33m)\u001b[0m\u001b[1;33m\u001b[0m\u001b[0m\n\u001b[0m\u001b[0;32m     73\u001b[0m \u001b[1;33m\u001b[0m\u001b[0m\n\u001b[0;32m     74\u001b[0m                 \u001b[1;32mif\u001b[0m \u001b[0mrow_stack\u001b[0m \u001b[1;32mis\u001b[0m \u001b[1;32mNone\u001b[0m\u001b[1;33m:\u001b[0m\u001b[1;33m\u001b[0m\u001b[0m\n",
      "\u001b[1;32m<ipython-input-37-05104d87ce70>\u001b[0m in \u001b[0;36mgetInput\u001b[1;34m(self)\u001b[0m\n\u001b[0;32m     54\u001b[0m     \u001b[1;32mdef\u001b[0m \u001b[0mgetInput\u001b[0m\u001b[1;33m(\u001b[0m\u001b[0mself\u001b[0m\u001b[1;33m)\u001b[0m\u001b[1;33m:\u001b[0m\u001b[1;33m\u001b[0m\u001b[0m\n\u001b[0;32m     55\u001b[0m \u001b[1;31m#         print(self.Grid)\u001b[0m\u001b[1;33m\u001b[0m\u001b[1;33m\u001b[0m\u001b[0m\n\u001b[1;32m---> 56\u001b[1;33m         \u001b[0mRows\u001b[0m \u001b[1;33m=\u001b[0m \u001b[0mnp\u001b[0m\u001b[1;33m.\u001b[0m\u001b[0mzeros\u001b[0m\u001b[1;33m(\u001b[0m\u001b[1;33m(\u001b[0m\u001b[1;36m9\u001b[0m\u001b[1;33m,\u001b[0m\u001b[1;36m9\u001b[0m\u001b[1;33m,\u001b[0m\u001b[1;36m9\u001b[0m\u001b[1;33m)\u001b[0m\u001b[1;33m)\u001b[0m\u001b[1;33m\u001b[0m\u001b[0m\n\u001b[0m\u001b[0;32m     57\u001b[0m         \u001b[0mColumns\u001b[0m \u001b[1;33m=\u001b[0m \u001b[0mnp\u001b[0m\u001b[1;33m.\u001b[0m\u001b[0mzeros\u001b[0m\u001b[1;33m(\u001b[0m\u001b[1;33m(\u001b[0m\u001b[1;36m9\u001b[0m\u001b[1;33m,\u001b[0m\u001b[1;36m9\u001b[0m\u001b[1;33m,\u001b[0m\u001b[1;36m9\u001b[0m\u001b[1;33m)\u001b[0m\u001b[1;33m)\u001b[0m\u001b[1;33m\u001b[0m\u001b[0m\n\u001b[0;32m     58\u001b[0m         \u001b[0mSquares\u001b[0m \u001b[1;33m=\u001b[0m \u001b[0mnp\u001b[0m\u001b[1;33m.\u001b[0m\u001b[0mzeros\u001b[0m\u001b[1;33m(\u001b[0m\u001b[1;33m(\u001b[0m\u001b[1;36m9\u001b[0m\u001b[1;33m,\u001b[0m\u001b[1;36m9\u001b[0m\u001b[1;33m,\u001b[0m\u001b[1;36m9\u001b[0m\u001b[1;33m)\u001b[0m\u001b[1;33m)\u001b[0m\u001b[1;33m\u001b[0m\u001b[0m\n",
      "\u001b[1;31mKeyboardInterrupt\u001b[0m: "
     ]
    }
   ],
   "source": [
    "if __name__=='__main__':\n",
    "    \n",
    "    ## parameter setting\n",
    "    epochs = 50\n",
    "    batch_size = 64\n",
    "    use_gpu = torch.cuda.is_available()\n",
    "    learning_rate = 0.001\n",
    "\n",
    "    input_dim = 9\n",
    "    hidden_dim = 200\n",
    "    n_label = 9\n",
    "    n_layers = 1\n",
    "    \n",
    "    train_path = os.path.join(DATA_DIR, TRAIN_FILE)\n",
    "    test_path = os.path.join(DATA_DIR, TEST_FILE)\n",
    "\n",
    "\n",
    "     ### ********************create model**************************\n",
    "    model = LSTMClassifier(input_dim, hidden_dim, n_label, batch_size, n_layers, use_gpu)\n",
    "    if use_gpu:\n",
    "        model = model.cuda()\n",
    "    \n",
    "    training_set = SudokuDataset(train_path)\n",
    "    train_loader = DataLoader(training_set,\n",
    "                          batch_size,\n",
    "                          shuffle=True,\n",
    "                          num_workers=0\n",
    "                          )\n",
    "\n",
    "    optimizer = optim.Adam(model.parameters())\n",
    "    loss_function = nn.CrossEntropyLoss()\n",
    "    train_loss_ = []\n",
    "    test_loss_ = []\n",
    "    train_acc_ = []\n",
    "    test_acc_ = []\n",
    "    \n",
    "    \n",
    "    def adjust_learning_rate(optimizer, epoch):\n",
    "        lr = learning_rate * (0.1 ** (epoch // 10))\n",
    "        for param_group in optimizer.param_groups:\n",
    "            param_group['lr'] = lr\n",
    "        return optimizer\n",
    "    \n",
    "    nsamples = 10000//batch_size\n",
    "    \n",
    "    import pdb\n",
    "### training procedure\n",
    "    for epoch in range(epochs):\n",
    "#         optimizer = adjust_learning_rate(optimizer, epoch)\n",
    "        total_acc = 0.0\n",
    "        total_loss = 0.0\n",
    "        total = 0.0\n",
    "        \n",
    "        \n",
    "#         model.hidden = model.init_hidden()\n",
    "        for i, traindata in zip(tqdm_notebook(range((nsamples))), train_loader):\n",
    "            model.zero_grad()\n",
    "            train_inputs_raw, train_labels_raw = traindata\n",
    "#             print(train_inputs_raw.shape)\n",
    "            train_data_numpy = Variable(train_inputs_raw).data.numpy()\n",
    "            train_labels_numpy = Variable(train_labels_raw).data.numpy()\n",
    "            train_labels = Variable(torch.LongTensor(train_labels_numpy))\n",
    "            \n",
    "#             pdb.set_trace ()\n",
    "            row_stack = None\n",
    "            col_stack = None\n",
    "            square_stack = None\n",
    "            cur_batch = train_data_numpy.shape[0]\n",
    "            \n",
    "            for i in range(cur_batch):\n",
    "                input_grid = InputGrid(train_data_numpy[i])\n",
    "                row_tensor, col_tensor, square_tensor = input_grid.getInput()\n",
    "                \n",
    "                if row_stack is None:\n",
    "                    row_stack = row_tensor\n",
    "                else:\n",
    "                    row_stack = torch.cat((row_stack,row_tensor),0)\n",
    "                if col_stack is None:\n",
    "                    col_stack = col_tensor\n",
    "                else:\n",
    "                    col_stack = torch.cat((col_stack,col_tensor),0)    \n",
    "                if square_stack is None:\n",
    "                    square_stack = square_tensor\n",
    "                else:\n",
    "                    square_stack = torch.cat((square_stack,square_tensor),0)\n",
    "                            \n",
    "            \n",
    "            row_tensor = Variable(row_stack.view(input_dim**2,cur_batch,input_dim))\n",
    "            col_tensor = Variable(col_stack.view(input_dim**2,cur_batch,input_dim))\n",
    "            square_tensor = Variable(square_stack.view(input_dim**2,cur_batch,input_dim))\n",
    "#             print(row_tensor.shape)\n",
    "            \n",
    "            if use_gpu:\n",
    "                row_tensor, col_tensor, square_tensor, train_labels = \\\n",
    "                        row_tensor.cuda(), col_tensor.cuda(), square_tensor.cuda(), train_labels.cuda()\n",
    "                    \n",
    "            batch_size = cur_batch\n",
    "            \n",
    "            \n",
    "            model.hidden = model.init_hidden(batch_size) \n",
    "            \n",
    "            output = model(row_tensor, col_tensor, square_tensor)\n",
    "            output = output.view(81*cur_batch,n_label)\n",
    "\n",
    "            \n",
    "            loss = loss_function(output, train_labels.view(81*cur_batch,))\n",
    "            loss.backward()\n",
    "            optimizer.step()\n",
    "\n",
    "            # calc training acc\n",
    "            _, predicted = torch.max(output.data, 1)\n",
    "#             predicted = predicted.add_(1)\n",
    "#             print(predicted.shape)\n",
    "#             print('TrainPred =  ',predicted, 'While TrainLabel = ' ,train_labels.data)\n",
    "            acc = (predicted == train_labels.data).sum()/(81*cur_batch)\n",
    "#             print(acc)\n",
    "            total += 81\n",
    "#             print(loss.data[0])\n",
    "#             print (acc)\n",
    "\n",
    "#        print(\"loss:\", loss.data[0], \"acc\", total_acc)\n",
    "            train_loss_.append(loss.data[0])\n",
    "            train_acc_.append(acc)\n",
    "\n",
    "        print('[Epoch: %3d/%3d] Training Loss: %.3f, Training Acc: %.3f' \n",
    "                  % (epoch, epochs, np.mean(train_loss_), np.mean (train_acc_)))\n",
    "        "
   ]
  },
  {
   "cell_type": "code",
   "execution_count": 8,
   "metadata": {},
   "outputs": [
    {
     "ename": "RuntimeError",
     "evalue": "invalid argument 2: size '[9 x 9]' is invalid for input with 729 elements at C:\\Anaconda2\\conda-bld\\pytorch_1519501749874\\work\\torch\\lib\\TH\\THStorage.c:41",
     "output_type": "error",
     "traceback": [
      "\u001b[1;31m---------------------------------------------------------------------------\u001b[0m",
      "\u001b[1;31mRuntimeError\u001b[0m                              Traceback (most recent call last)",
      "\u001b[1;32m<ipython-input-8-7cb9a761b0ce>\u001b[0m in \u001b[0;36m<module>\u001b[1;34m()\u001b[0m\n\u001b[1;32m----> 1\u001b[1;33m \u001b[0mprint\u001b[0m\u001b[1;33m(\u001b[0m\u001b[0mpredicted\u001b[0m\u001b[1;33m.\u001b[0m\u001b[0madd_\u001b[0m\u001b[1;33m(\u001b[0m\u001b[1;36m1\u001b[0m\u001b[1;33m)\u001b[0m\u001b[1;33m.\u001b[0m\u001b[0mview\u001b[0m\u001b[1;33m(\u001b[0m\u001b[1;36m9\u001b[0m\u001b[1;33m,\u001b[0m\u001b[1;36m9\u001b[0m\u001b[1;33m)\u001b[0m\u001b[1;33m,\u001b[0m \u001b[0mtrain_labels\u001b[0m\u001b[1;33m.\u001b[0m\u001b[0madd_\u001b[0m\u001b[1;33m(\u001b[0m\u001b[1;36m1\u001b[0m\u001b[1;33m)\u001b[0m\u001b[1;33m)\u001b[0m\u001b[1;33m\u001b[0m\u001b[0m\n\u001b[0m",
      "\u001b[1;31mRuntimeError\u001b[0m: invalid argument 2: size '[9 x 9]' is invalid for input with 729 elements at C:\\Anaconda2\\conda-bld\\pytorch_1519501749874\\work\\torch\\lib\\TH\\THStorage.c:41"
     ]
    }
   ],
   "source": []
  },
  {
   "cell_type": "code",
   "execution_count": null,
   "metadata": {
    "collapsed": true
   },
   "outputs": [],
   "source": []
  }
 ],
 "metadata": {
  "kernelspec": {
   "display_name": "Python 3",
   "language": "python",
   "name": "python3"
  },
  "language_info": {
   "codemirror_mode": {
    "name": "ipython",
    "version": 3
   },
   "file_extension": ".py",
   "mimetype": "text/x-python",
   "name": "python",
   "nbconvert_exporter": "python",
   "pygments_lexer": "ipython3",
   "version": "3.6.1"
  }
 },
 "nbformat": 4,
 "nbformat_minor": 2
}
